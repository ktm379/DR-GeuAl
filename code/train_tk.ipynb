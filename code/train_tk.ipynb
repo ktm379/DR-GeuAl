{
 "cells": [
  {
   "cell_type": "code",
   "execution_count": 1,
   "metadata": {},
   "outputs": [],
   "source": [
    "import tensorflow as tf\n",
    "import os\n",
    "\n",
    "from assets.one_mask.data_generator import DR_Generator\n",
    "from assets.one_mask.models import SMD_Unet \n",
    "from assets.one_mask.trainer import Trainer"
   ]
  },
  {
   "cell_type": "code",
   "execution_count": 2,
   "metadata": {},
   "outputs": [],
   "source": [
    "masks = ['HardExudate_Masks', 'Hemohedge_Masks', 'Microaneurysms_Masks', 'SoftExudate_Masks']\n",
    "mask_dir = '../data/FGADR/Seg-set'\n",
    "mask_paths = [os.path.join(mask_dir, mask) for mask in masks]\n",
    "\n",
    "generator_args = {\n",
    "    'dir_path':'../data/FGADR/Seg-set/Original_Images/',\n",
    "    'mask_path':mask_paths,\n",
    "    'use_mask':True,\n",
    "    'img_size':(512, 512),  \n",
    "    'batch_size':4, # 8로 하면 바로 OOM 뜸\n",
    "    'dataset':'FGADR', # FGADR or EyePacks\n",
    "    'is_train':True,\n",
    "    'use_3channel':False,\n",
    "    'CLAHE_args':None\n",
    "}\n",
    "\n",
    "tr_fgadr_gen = DR_Generator(start_end_index=(0, 1292), **generator_args)\n",
    "val_fgadr_gen = DR_Generator(start_end_index=(1292, 1476), **generator_args)\n",
    "ts_fgadr_gen = DR_Generator(start_end_index=(1476, 1842), **generator_args)\n",
    "\n",
    "# tr_fgadr_gen = DR_Generator(start_end_index=(0, 30000), is_train=True, **generator_args)\n",
    "# val_fgadr_gen = DR_Generator(start_end_index=(30000, 31000), is_train=False, **generator_args)"
   ]
  },
  {
   "cell_type": "code",
   "execution_count": 3,
   "metadata": {},
   "outputs": [
    {
     "data": {
      "text/plain": [
       "<tensorflow.python.training.tracking.util.CheckpointLoadStatus at 0x7f8fb433bf10>"
      ]
     },
     "execution_count": 3,
     "metadata": {},
     "output_type": "execute_result"
    }
   ],
   "source": [
    "model = SMD_Unet(enc_filters=[64, 128, 256, 512, 1024], dec_filters=[512, 256, 64, 32], input_channel=1)\n",
    "model.load_weights(\"../models/one_mask/withoutCLAHE_withoutRecons_alpha00_lr0001/18\")"
   ]
  },
  {
   "cell_type": "code",
   "execution_count": 4,
   "metadata": {
    "scrolled": true
   },
   "outputs": [
    {
     "name": "stdout",
     "output_type": "stream",
     "text": [
      "\n",
      "Epoch 1/50\n",
      "1292/1292 [==============================] - 408s 316ms/step - train_loss: 0.4763 - mask_loss: 0.4763 - loss_recons: 0.3100\n",
      "184/184 [==============================] - 41s 223ms/step - val_loss: 0.5648 - mask_loss: 0.5648 - loss_recons: 0.3067\n",
      "\n",
      "Epoch 2/50\n",
      "1292/1292 [==============================] - 390s 302ms/step - train_loss: 0.4644 - mask_loss: 0.4644 - loss_recons: 0.2981\n",
      "184/184 [==============================] - 41s 222ms/step - val_loss: 0.5611 - mask_loss: 0.5611 - loss_recons: 0.2957\n",
      "\n",
      "Epoch 3/50\n",
      "1292/1292 [==============================] - 390s 302ms/step - train_loss: 0.4591 - mask_loss: 0.4591 - loss_recons: 0.2950\n",
      "184/184 [==============================] - 41s 223ms/step - val_loss: 0.5613 - mask_loss: 0.5613 - loss_recons: 0.3023\n",
      "\n",
      "Epoch 4/50\n",
      "1292/1292 [==============================] - 390s 302ms/step - train_loss: 0.4546 - mask_loss: 0.4546 - loss_recons: 0.2903\n",
      "184/184 [==============================] - 41s 223ms/step - val_loss: 0.5603 - mask_loss: 0.5603 - loss_recons: 0.2952\n",
      "\n",
      "Epoch 5/50\n",
      "1292/1292 [==============================] - 390s 302ms/step - train_loss: 0.4512 - mask_loss: 0.4512 - loss_recons: 0.2878\n",
      "184/184 [==============================] - 41s 222ms/step - val_loss: 0.5608 - mask_loss: 0.5608 - loss_recons: 0.2998\n",
      "\n",
      "Epoch 6/50\n",
      "1292/1292 [==============================] - 390s 302ms/step - train_loss: 0.4476 - mask_loss: 0.4476 - loss_recons: 0.2854\n",
      "184/184 [==============================] - 41s 221ms/step - val_loss: 0.5626 - mask_loss: 0.5626 - loss_recons: 0.3036\n",
      "\n",
      "Epoch 7/50\n",
      "1292/1292 [==============================] - 390s 302ms/step - train_loss: 0.4444 - mask_loss: 0.4444 - loss_recons: 0.2814\n",
      "184/184 [==============================] - 41s 221ms/step - val_loss: 0.5614 - mask_loss: 0.5614 - loss_recons: 0.3005\n",
      "\n",
      "Epoch 8/50\n",
      "1292/1292 [==============================] - 390s 302ms/step - train_loss: 0.4416 - mask_loss: 0.4416 - loss_recons: 0.2814\n",
      "184/184 [==============================] - 41s 222ms/step - val_loss: 0.5621 - mask_loss: 0.5621 - loss_recons: 0.2981\n",
      "\n",
      "Epoch 9/50\n",
      "1292/1292 [==============================] - 390s 302ms/step - train_loss: 0.4383 - mask_loss: 0.4383 - loss_recons: 0.2796\n",
      "184/184 [==============================] - 41s 221ms/step - val_loss: 0.5635 - mask_loss: 0.5635 - loss_recons: 0.2991\n",
      "\n",
      "Epoch 10/50\n",
      "1292/1292 [==============================] - 390s 302ms/step - train_loss: 0.4351 - mask_loss: 0.4351 - loss_recons: 0.2799\n",
      "184/184 [==============================] - 41s 223ms/step - val_loss: 0.5661 - mask_loss: 0.5661 - loss_recons: 0.3169\n",
      "\n",
      "Epoch 11/50\n",
      "1292/1292 [==============================] - 390s 302ms/step - train_loss: 0.4322 - mask_loss: 0.4322 - loss_recons: 0.2826\n",
      "184/184 [==============================] - 41s 222ms/step - val_loss: 0.5613 - mask_loss: 0.5613 - loss_recons: 0.2817\n",
      "\n",
      "Epoch 12/50\n",
      "1292/1292 [==============================] - 390s 302ms/step - train_loss: 0.4304 - mask_loss: 0.4304 - loss_recons: 0.2819\n",
      "184/184 [==============================] - 41s 221ms/step - val_loss: 0.5728 - mask_loss: 0.5728 - loss_recons: 0.3031\n",
      "\n",
      "Epoch 13/50\n",
      "1292/1292 [==============================] - 390s 302ms/step - train_loss: 0.4274 - mask_loss: 0.4274 - loss_recons: 0.2818\n",
      "184/184 [==============================] - 41s 221ms/step - val_loss: 0.5647 - mask_loss: 0.5647 - loss_recons: 0.2885\n",
      "\n",
      "Epoch 14/50\n",
      "1292/1292 [==============================] - 390s 302ms/step - train_loss: 0.4250 - mask_loss: 0.4250 - loss_recons: 0.2801\n",
      "184/184 [==============================] - 41s 224ms/step - val_loss: 0.5667 - mask_loss: 0.5667 - loss_recons: 0.2908\n",
      "\n",
      "Epoch 15/50\n",
      "1292/1292 [==============================] - 390s 302ms/step - train_loss: 0.4224 - mask_loss: 0.4224 - loss_recons: 0.2795\n",
      "184/184 [==============================] - 41s 221ms/step - val_loss: 0.5628 - mask_loss: 0.5628 - loss_recons: 0.2894\n",
      "\n",
      "Epoch 16/50\n",
      "1292/1292 [==============================] - 390s 302ms/step - train_loss: 0.4202 - mask_loss: 0.4202 - loss_recons: 0.2791\n",
      "184/184 [==============================] - 41s 221ms/step - val_loss: 0.5656 - mask_loss: 0.5656 - loss_recons: 0.2993\n",
      "\n",
      "Epoch 17/50\n",
      "1292/1292 [==============================] - 390s 302ms/step - train_loss: 0.4181 - mask_loss: 0.4181 - loss_recons: 0.2788\n",
      "184/184 [==============================] - 41s 221ms/step - val_loss: 0.5664 - mask_loss: 0.5664 - loss_recons: 0.2912\n",
      "\n",
      "Epoch 18/50\n",
      "1292/1292 [==============================] - 390s 302ms/step - train_loss: 0.4163 - mask_loss: 0.4163 - loss_recons: 0.2807\n",
      "184/184 [==============================] - 41s 221ms/step - val_loss: 0.5708 - mask_loss: 0.5708 - loss_recons: 0.2932\n",
      "\n",
      "Epoch 19/50\n",
      "1292/1292 [==============================] - 391s 302ms/step - train_loss: 0.4132 - mask_loss: 0.4132 - loss_recons: 0.2799\n",
      "184/184 [==============================] - 41s 222ms/step - val_loss: 0.5621 - mask_loss: 0.5621 - loss_recons: 0.2798\n",
      "\n",
      "Epoch 20/50\n",
      "1292/1292 [==============================] - 391s 302ms/step - train_loss: 0.4113 - mask_loss: 0.4113 - loss_recons: 0.2806\n",
      "184/184 [==============================] - 40s 220ms/step - val_loss: 0.5588 - mask_loss: 0.5588 - loss_recons: 0.2827\n",
      "\n",
      "Epoch 21/50\n",
      "1292/1292 [==============================] - 391s 302ms/step - train_loss: 0.4090 - mask_loss: 0.4090 - loss_recons: 0.2810\n",
      "184/184 [==============================] - 41s 221ms/step - val_loss: 0.5587 - mask_loss: 0.5587 - loss_recons: 0.2775\n",
      "\n",
      "Epoch 22/50\n",
      "1292/1292 [==============================] - 390s 302ms/step - train_loss: 0.4077 - mask_loss: 0.4077 - loss_recons: 0.2824\n",
      "184/184 [==============================] - 41s 221ms/step - val_loss: 0.5795 - mask_loss: 0.5795 - loss_recons: 0.3069\n",
      "\n",
      "Epoch 23/50\n",
      "1292/1292 [==============================] - 390s 302ms/step - train_loss: 0.4055 - mask_loss: 0.4055 - loss_recons: 0.2794\n",
      "184/184 [==============================] - 41s 221ms/step - val_loss: 0.5624 - mask_loss: 0.5624 - loss_recons: 0.2731\n",
      "\n",
      "Epoch 24/50\n",
      "1292/1292 [==============================] - 390s 302ms/step - train_loss: 0.4036 - mask_loss: 0.4036 - loss_recons: 0.2822\n",
      "184/184 [==============================] - 41s 221ms/step - val_loss: 0.5581 - mask_loss: 0.5581 - loss_recons: 0.2880\n",
      "\n",
      "Epoch 25/50\n",
      "1292/1292 [==============================] - 390s 302ms/step - train_loss: 0.4010 - mask_loss: 0.4010 - loss_recons: 0.2804\n",
      "184/184 [==============================] - 41s 221ms/step - val_loss: 0.5582 - mask_loss: 0.5582 - loss_recons: 0.2886\n",
      "\n",
      "Epoch 26/50\n",
      "1292/1292 [==============================] - 390s 302ms/step - train_loss: 0.3992 - mask_loss: 0.3992 - loss_recons: 0.2825\n",
      "184/184 [==============================] - 41s 221ms/step - val_loss: 0.5574 - mask_loss: 0.5574 - loss_recons: 0.2761\n",
      "\n",
      "Epoch 27/50\n",
      "1292/1292 [==============================] - 390s 302ms/step - train_loss: 0.3975 - mask_loss: 0.3975 - loss_recons: 0.2824\n",
      "184/184 [==============================] - 41s 222ms/step - val_loss: 0.5566 - mask_loss: 0.5566 - loss_recons: 0.2882\n",
      "\n",
      "Epoch 28/50\n",
      "1292/1292 [==============================] - 390s 302ms/step - train_loss: 0.3961 - mask_loss: 0.3961 - loss_recons: 0.2829\n",
      "184/184 [==============================] - 41s 221ms/step - val_loss: 0.5566 - mask_loss: 0.5566 - loss_recons: 0.2838\n",
      "\n",
      "Epoch 29/50\n",
      "1292/1292 [==============================] - 390s 302ms/step - train_loss: 0.3950 - mask_loss: 0.3950 - loss_recons: 0.2824\n",
      "184/184 [==============================] - 41s 221ms/step - val_loss: 0.5594 - mask_loss: 0.5594 - loss_recons: 0.2783\n",
      "\n",
      "Epoch 30/50\n",
      "1292/1292 [==============================] - 390s 302ms/step - train_loss: 0.3923 - mask_loss: 0.3923 - loss_recons: 0.2813\n",
      "184/184 [==============================] - 41s 221ms/step - val_loss: 0.5568 - mask_loss: 0.5568 - loss_recons: 0.2906\n",
      "\n",
      "Epoch 31/50\n",
      "1292/1292 [==============================] - 390s 302ms/step - train_loss: 0.3911 - mask_loss: 0.3911 - loss_recons: 0.2851\n",
      "184/184 [==============================] - 41s 221ms/step - val_loss: 0.5592 - mask_loss: 0.5592 - loss_recons: 0.2857\n",
      "\n",
      "Epoch 32/50\n",
      "1292/1292 [==============================] - 392s 303ms/step - train_loss: 0.3897 - mask_loss: 0.3897 - loss_recons: 0.2832\n",
      "184/184 [==============================] - 41s 221ms/step - val_loss: 0.5909 - mask_loss: 0.5909 - loss_recons: 0.2691\n",
      "\n",
      "Epoch 33/50\n"
     ]
    },
    {
     "name": "stdout",
     "output_type": "stream",
     "text": [
      "1292/1292 [==============================] - 391s 303ms/step - train_loss: 0.3975 - mask_loss: 0.3975 - loss_recons: 0.2849\n",
      "184/184 [==============================] - 41s 221ms/step - val_loss: 0.5569 - mask_loss: 0.5569 - loss_recons: 0.2829\n",
      "\n",
      "Epoch 34/50\n",
      "1292/1292 [==============================] - 391s 302ms/step - train_loss: 0.3873 - mask_loss: 0.3873 - loss_recons: 0.2840\n",
      "184/184 [==============================] - 41s 220ms/step - val_loss: 0.5560 - mask_loss: 0.5560 - loss_recons: 0.2828\n",
      "\n",
      "Epoch 35/50\n",
      "1292/1292 [==============================] - 390s 302ms/step - train_loss: 0.3850 - mask_loss: 0.3850 - loss_recons: 0.2822\n",
      "184/184 [==============================] - 41s 220ms/step - val_loss: 0.5542 - mask_loss: 0.5542 - loss_recons: 0.2761\n",
      "\n",
      "Epoch 36/50\n",
      "1292/1292 [==============================] - 390s 302ms/step - train_loss: 0.3828 - mask_loss: 0.3828 - loss_recons: 0.2822\n",
      "184/184 [==============================] - 41s 220ms/step - val_loss: 0.5542 - mask_loss: 0.5542 - loss_recons: 0.2832\n",
      "\n",
      "Epoch 37/50\n",
      "1292/1292 [==============================] - 390s 302ms/step - train_loss: 0.3809 - mask_loss: 0.3809 - loss_recons: 0.2840\n",
      "184/184 [==============================] - 41s 221ms/step - val_loss: 0.5572 - mask_loss: 0.5572 - loss_recons: 0.3005\n",
      "\n",
      "Epoch 38/50\n",
      "1292/1292 [==============================] - 390s 302ms/step - train_loss: 0.3800 - mask_loss: 0.3800 - loss_recons: 0.2813\n",
      "184/184 [==============================] - 41s 221ms/step - val_loss: 0.5536 - mask_loss: 0.5536 - loss_recons: 0.2776\n",
      "\n",
      "Epoch 39/50\n",
      "1292/1292 [==============================] - 390s 302ms/step - train_loss: 0.3780 - mask_loss: 0.3780 - loss_recons: 0.2806\n",
      "184/184 [==============================] - 41s 221ms/step - val_loss: 0.5589 - mask_loss: 0.5589 - loss_recons: 0.2693\n",
      "\n",
      "Epoch 40/50\n",
      "1292/1292 [==============================] - 390s 302ms/step - train_loss: 0.3767 - mask_loss: 0.3767 - loss_recons: 0.2812\n",
      "184/184 [==============================] - 41s 220ms/step - val_loss: 0.5554 - mask_loss: 0.5554 - loss_recons: 0.2764\n",
      "\n",
      "Epoch 41/50\n",
      "1292/1292 [==============================] - 390s 302ms/step - train_loss: 0.3759 - mask_loss: 0.3759 - loss_recons: 0.2793\n",
      "184/184 [==============================] - 41s 221ms/step - val_loss: 0.5571 - mask_loss: 0.5571 - loss_recons: 0.2744\n",
      "\n",
      "Epoch 42/50\n",
      "1292/1292 [==============================] - 390s 302ms/step - train_loss: 0.3744 - mask_loss: 0.3744 - loss_recons: 0.2789\n",
      "184/184 [==============================] - 40s 220ms/step - val_loss: 0.5572 - mask_loss: 0.5572 - loss_recons: 0.2711\n",
      "\n",
      "Epoch 43/50\n",
      "1292/1292 [==============================] - 390s 302ms/step - train_loss: 0.3750 - mask_loss: 0.3750 - loss_recons: 0.2781\n",
      "184/184 [==============================] - 41s 221ms/step - val_loss: 0.5570 - mask_loss: 0.5570 - loss_recons: 0.2607\n",
      "\n",
      "Epoch 44/50\n",
      "1292/1292 [==============================] - 390s 302ms/step - train_loss: 0.3742 - mask_loss: 0.3742 - loss_recons: 0.2772\n",
      "184/184 [==============================] - 41s 222ms/step - val_loss: 0.5601 - mask_loss: 0.5601 - loss_recons: 0.2866\n",
      "\n",
      "Epoch 45/50\n",
      "1292/1292 [==============================] - 390s 302ms/step - train_loss: 0.3714 - mask_loss: 0.3714 - loss_recons: 0.2804\n",
      "184/184 [==============================] - 41s 221ms/step - val_loss: 0.5593 - mask_loss: 0.5593 - loss_recons: 0.2667\n",
      "\n",
      "Epoch 46/50\n",
      "1292/1292 [==============================] - 390s 302ms/step - train_loss: 0.3688 - mask_loss: 0.3688 - loss_recons: 0.2774\n",
      "184/184 [==============================] - 41s 222ms/step - val_loss: 0.5578 - mask_loss: 0.5578 - loss_recons: 0.2696\n",
      "\n",
      "Epoch 47/50\n",
      "1292/1292 [==============================] - 390s 302ms/step - train_loss: 0.3671 - mask_loss: 0.3671 - loss_recons: 0.2772\n",
      "184/184 [==============================] - 41s 221ms/step - val_loss: 0.5680 - mask_loss: 0.5680 - loss_recons: 0.2586\n",
      "\n",
      "Epoch 48/50\n",
      "1292/1292 [==============================] - 390s 302ms/step - train_loss: 0.3663 - mask_loss: 0.3663 - loss_recons: 0.2768\n",
      "184/184 [==============================] - 41s 221ms/step - val_loss: 0.5612 - mask_loss: 0.5612 - loss_recons: 0.2699\n",
      "\n",
      "Epoch 49/50\n",
      "1292/1292 [==============================] - 391s 302ms/step - train_loss: 0.3657 - mask_loss: 0.3657 - loss_recons: 0.2805\n",
      "184/184 [==============================] - 41s 225ms/step - val_loss: 0.5588 - mask_loss: 0.5588 - loss_recons: 0.2734\n",
      "\n",
      "Epoch 50/50\n",
      "1292/1292 [==============================] - 390s 302ms/step - train_loss: 0.3652 - mask_loss: 0.3652 - loss_recons: 0.2814\n",
      "184/184 [==============================] - 41s 224ms/step - val_loss: 0.5584 - mask_loss: 0.5584 - loss_recons: 0.2724\n"
     ]
    }
   ],
   "source": [
    "optimizer = tf.keras.optimizers.Adam(learning_rate=0.0001) \n",
    "\n",
    "trainer_args = {\n",
    "    'model':model,\n",
    "    'epochs':50,\n",
    "    'optimizer':optimizer,\n",
    "    'for_recons':False,\n",
    "    'alpha':0.0,\n",
    "    'beta':None,\n",
    "    'first_epoch':1,\n",
    "    'file_name':\"history/one_mask/withoutCLAHE_withoutRecons_alpha00_lr00001.txt\",\n",
    "    'save_model_path':\"../models/one_mask/withoutCLAHE_withoutRecons_alpha00_lr00001\",\n",
    "    'add_noise':False\n",
    "}\n",
    "trainer = Trainer(**trainer_args)\n",
    "\n",
    "trainer.train(train_dataset=tr_fgadr_gen,\n",
    "              val_dataset=val_fgadr_gen\n",
    "             )"
   ]
  },
  {
   "cell_type": "markdown",
   "metadata": {},
   "source": [
    "# 모델 결과 시각화"
   ]
  },
  {
   "cell_type": "code",
   "execution_count": 6,
   "metadata": {},
   "outputs": [],
   "source": [
    "from assets.one_mask.utils import parse_history_text\n",
    "import matplotlib.pyplot as plt\n",
    "from matplotlib.ticker import StrMethodFormatter"
   ]
  },
  {
   "cell_type": "code",
   "execution_count": 8,
   "metadata": {},
   "outputs": [
    {
     "data": {
      "image/png": "[encoded data removed]",
      "text/plain": [
       "<Figure size 432x288 with 1 Axes>"
      ]
     },
     "metadata": {
      "needs_background": "light"
     },
     "output_type": "display_data"
    }
   ],
   "source": [
    "history = parse_history_text('history/one_mask/withoutCLAHE_withoutRecons_alpha00_lr0001.txt')\n",
    "\n",
    "plt.plot(history['epoch'], history['train_mask_loss'], label='train_mask_loss')\n",
    "plt.plot(history['epoch'], history['val_mask_loss'], label='val_mask_loss')\n",
    "\n",
    "plt.title('without CLAHE & reconstruction')\n",
    "plt.legend()\n",
    "plt.show()"
   ]
  },
  {
   "cell_type": "code",
   "execution_count": 9,
   "metadata": {},
   "outputs": [
    {
     "data": {
      "image/png": "[encoded data removed]",
      "text/plain": [
       "<Figure size 432x288 with 1 Axes>"
      ]
     },
     "metadata": {
      "needs_background": "light"
     },
     "output_type": "display_data"
    }
   ],
   "source": [
    "history = parse_history_text('history/one_mask/withoutCLAHE_withoutRecons_alpha00_lr0001.txt')\n",
    "\n",
    "plt.plot(history['epoch'], history['train_mask_loss'], label='lr0.001')\n",
    "plt.plot(history['epoch'], history['val_mask_loss'], label='lr0.001')\n",
    "\n",
    "\n",
    "history = parse_history_text('history/one_mask/withoutCLAHE_withoutRecons_alpha00_lr00001.txt')\n",
    "\n",
    "plt.plot(history['epoch'], history['train_mask_loss'], label='lr0.0001', linestyle='--')\n",
    "plt.plot(history['epoch'], history['val_mask_loss'], label='lr0.0001', linestyle='--')\n",
    "\n",
    "plt.title('lr')\n",
    "plt.legend()\n",
    "plt.show()"
   ]
  },
  {
   "cell_type": "markdown",
   "metadata": {},
   "source": [
    "# 평가지표"
   ]
  },
  {
   "cell_type": "code",
   "execution_count": 10,
   "metadata": {},
   "outputs": [],
   "source": [
    "import numpy as np\n",
    "import tensorflow as tf\n",
    "from sklearn.metrics import roc_auc_score, average_precision_score"
   ]
  },
  {
   "cell_type": "code",
   "execution_count": 11,
   "metadata": {},
   "outputs": [],
   "source": [
    "def dice_coefficient(y_true, y_pred, smooth=1e-7):\n",
    "    intersection = tf.reduce_sum(y_true * y_pred)  # 교집합 계산\n",
    "    union = tf.reduce_sum(y_true) + tf.reduce_sum(y_pred)  # 합집합 계산\n",
    "    return (2. * intersection + smooth) / (union + smooth)\n",
    "\n",
    "def mean_absolute_error(y_true, y_pred):\n",
    "    return tf.reduce_mean(tf.abs(y_true - y_pred))  # MAE 계산\n",
    "\n",
    "def calculate_iou(y_true, y_pred, threshold=0.5):\n",
    "    y_pred = tf.cast(y_pred > threshold, tf.float32)  # 예측값 이진화\n",
    "    intersection = tf.reduce_sum(y_true * y_pred)  # 교집합 계산\n",
    "    union = tf.reduce_sum(tf.cast(y_true + y_pred > threshold, tf.float32))  # 합집합 계산\n",
    "    return intersection / (union + 1e-7)  # IoU 계산, 1e-7 추가로 나눗셈 by zero 방지\n",
    "\n",
    "# 세그멘테이션 결과를 평가하는 함수\n",
    "# y_true와 y_pred는 [batch_size, height, width, channels] 형식으로 가정\n",
    "def evaluate_segmentation(y_true, y_pred):\n",
    "    # 배열을 평평하게 만든다.\n",
    "    y_true_flat = tf.reshape(y_true, [-1])\n",
    "    y_pred_flat = tf.reshape(y_pred, [-1])\n",
    "\n",
    "    # Dice 계수 계산\n",
    "    dice = dice_coefficient(y_true_flat, y_pred_flat)\n",
    "\n",
    "    # IoU (Intersection over Union) 계산\n",
    "    iou = calculate_iou(y_true_flat, y_pred_flat)\n",
    "\n",
    "    # AUC-ROC 계산\n",
    "    roc_auc = roc_auc_score(y_true_flat, y_pred_flat)\n",
    "\n",
    "    # AUC-PR 계산\n",
    "    pr_auc = average_precision_score(y_true_flat, y_pred_flat)\n",
    "\n",
    "    # MAE 계산\n",
    "    mae = mean_absolute_error(y_true_flat, y_pred_flat)\n",
    "\n",
    "    return dice, iou, roc_auc, pr_auc, mae\n"
   ]
  },
  {
   "cell_type": "code",
   "execution_count": 12,
   "metadata": {},
   "outputs": [
    {
     "ename": "NameError",
     "evalue": "name 'inputs' is not defined",
     "output_type": "error",
     "traceback": [
      "\u001b[0;31m---------------------------------------------------------------------------\u001b[0m",
      "\u001b[0;31mNameError\u001b[0m                                 Traceback (most recent call last)",
      "\u001b[0;32m/tmp/ipykernel_995/3890984701.py\u001b[0m in \u001b[0;36m<module>\u001b[0;34m\u001b[0m\n\u001b[1;32m      1\u001b[0m \u001b[0;31m# preds[1]은 예측된 세그멘테이션 마스크를 가정합니다.\u001b[0m\u001b[0;34m\u001b[0m\u001b[0;34m\u001b[0m\u001b[0m\n\u001b[1;32m      2\u001b[0m \u001b[0;31m# targets는 실제 세그멘테이션 마스크입니다.\u001b[0m\u001b[0;34m\u001b[0m\u001b[0;34m\u001b[0m\u001b[0m\n\u001b[0;32m----> 3\u001b[0;31m \u001b[0mpreds\u001b[0m \u001b[0;34m=\u001b[0m \u001b[0mmodel\u001b[0m\u001b[0;34m(\u001b[0m\u001b[0minputs\u001b[0m\u001b[0;34m[\u001b[0m\u001b[0;36m0\u001b[0m\u001b[0;34m]\u001b[0m\u001b[0;34m)\u001b[0m\u001b[0;34m\u001b[0m\u001b[0;34m\u001b[0m\u001b[0m\n\u001b[0m\u001b[1;32m      4\u001b[0m \u001b[0mdice\u001b[0m\u001b[0;34m,\u001b[0m \u001b[0miou\u001b[0m\u001b[0;34m,\u001b[0m \u001b[0mroc_auc\u001b[0m\u001b[0;34m,\u001b[0m \u001b[0mpr_auc\u001b[0m\u001b[0;34m,\u001b[0m \u001b[0mmae\u001b[0m \u001b[0;34m=\u001b[0m \u001b[0mevaluate_segmentation\u001b[0m\u001b[0;34m(\u001b[0m\u001b[0mtargets\u001b[0m\u001b[0;34m,\u001b[0m \u001b[0mpreds\u001b[0m\u001b[0;34m[\u001b[0m\u001b[0;36m1\u001b[0m\u001b[0;34m]\u001b[0m\u001b[0;34m)\u001b[0m\u001b[0;34m\u001b[0m\u001b[0;34m\u001b[0m\u001b[0m\n\u001b[1;32m      5\u001b[0m \u001b[0;34m\u001b[0m\u001b[0m\n",
      "\u001b[0;31mNameError\u001b[0m: name 'inputs' is not defined"
     ]
    }
   ],
   "source": [
    "# preds[1]은 예측된 세그멘테이션 마스크를 가정합니다.\n",
    "# targets는 실제 세그멘테이션 마스크입니다.\n",
    "preds = model(inputs[0])\n",
    "dice, iou, roc_auc, pr_auc, mae = evaluate_segmentation(targets, preds[1])\n",
    "\n",
    "# 결과 출력\n",
    "print(\"Dice Coefficient:\", dice)\n",
    "print(\"IoU (Intersection over Union):\", iou)\n",
    "print(\"ROC AUC Score:\", roc_auc)\n",
    "print(\"PR AUC Score:\", pr_auc)\n",
    "print(\"Mean Absolute Error:\", mae)"
   ]
  },
  {
   "cell_type": "code",
   "execution_count": null,
   "metadata": {},
   "outputs": [],
   "source": []
  }
 ],
 "metadata": {
  "kernelspec": {
   "display_name": "Python 3 (ipykernel)",
   "language": "python",
   "name": "python3"
  },
  "language_info": {
   "codemirror_mode": {
    "name": "ipython",
    "version": 3
   },
   "file_extension": ".py",
   "mimetype": "text/x-python",
   "name": "python",
   "nbconvert_exporter": "python",
   "pygments_lexer": "ipython3",
   "version": "3.9.7"
  }
 },
 "nbformat": 4,
 "nbformat_minor": 2
}
