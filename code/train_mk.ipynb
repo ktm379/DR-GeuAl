{
 "cells": [
  {
   "cell_type": "code",
   "execution_count": null,
   "metadata": {},
   "outputs": [],
   "source": [
    "from data_generator import DR_Generator\n",
    "import os\n",
    "from models import SMD_Unet\n",
    "from trainer import Trainer\n",
    "import tensorflow as tf"
   ]
  },
  {
   "cell_type": "code",
   "execution_count": null,
   "metadata": {},
   "outputs": [],
   "source": [
    "\n",
    "masks = ['HardExudate_Masks', 'Hemohedge_Masks', 'Microaneurysms_Masks', 'SoftExudate_Masks']\n",
    "mask_dir = '../data/Seg-set'\n",
    "mask_paths = [os.path.join(mask_dir, mask) for mask in masks]\n",
    "\n",
    "generator_args = {\n",
    "  'dir_path':'../data/Seg-set/Original_Images/',\n",
    "  'mask_path':mask_paths,\n",
    "  'use_mask':True,\n",
    "  'img_size':(512, 512),  \n",
    "  'batch_size':4, # 8로 하면 바로 OOM 뜸\n",
    "  'dataset':'FGADR', # FGADR or EyePacks\n",
    "  'is_train':True\n",
    "}\n",
    "\n",
    "tr_eyepacks_gen = DR_Generator(start_end_index=(0, 500), **generator_args)\n",
    "val_eyepacks_gen = DR_Generator(start_end_index=(500, 600), **generator_args)"
   ]
  },
  {
   "cell_type": "code",
   "execution_count": null,
   "metadata": {},
   "outputs": [],
   "source": [
    "optimizer = tf.keras.optimizers.Adam(learning_rate=0.0001) \n",
    "\n",
    "model = SMD_Unet(filters=[32, 64, 128, 256, 512])\n",
    "\n",
    "trainer_args = {\n",
    "    'model':model,\n",
    "    'epochs':1,\n",
    "    'optimizer':optimizer,\n",
    "    'for_recons':False,\n",
    "    'alpha':1.0,\n",
    "    'beta':[1.0, 1.0, 1.0, 1.0]\n",
    "}\n",
    "trainer = Trainer(**trainer_args)\n",
    "\n",
    "trainer.train(train_dataset=tr_eyepacks_gen,\n",
    "              val_dataset=val_eyepacks_gen\n",
    "              )"
   ]
  }
 ],
 "metadata": {
  "language_info": {
   "name": "python"
  }
 },
 "nbformat": 4,
 "nbformat_minor": 2
}
