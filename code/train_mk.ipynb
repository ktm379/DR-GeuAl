{
 "cells": [
  {
   "cell_type": "code",
   "execution_count": 1,
   "metadata": {},
   "outputs": [],
   "source": [
    "from data_generator import DR_Generator\n",
    "import os\n",
    "from models import SMD_Unet\n",
    "from trainer import Trainer\n",
    "import tensorflow as tf"
   ]
  },
  {
   "cell_type": "code",
   "execution_count": 2,
   "metadata": {},
   "outputs": [],
   "source": [
    "masks = ['HardExudate_Masks', 'Hemohedge_Masks', 'Microaneurysms_Masks', 'SoftExudate_Masks']\n",
    "mask_dir = '../data/Seg-set'\n",
    "mask_paths = [os.path.join(mask_dir, mask) for mask in masks]\n",
    "\n",
    "generator_args = {\n",
    "  'dir_path':'../data/Seg-set/Original_Images/',\n",
    "  'mask_path':mask_paths,\n",
    "  'use_mask':True,\n",
    "  'img_size':(512, 512),  \n",
    "  'batch_size':4, # 8로 하면 바로 OOM 뜸\n",
    "  'dataset':'FGADR', # FGADR or EyePacks\n",
    "  'is_train':True\n",
    "}\n",
    "\n",
    "tr_eyepacks_gen = DR_Generator(start_end_index=(0, 1290), **generator_args)\n",
    "val_eyepacks_gen = DR_Generator(start_end_index=(1290, 1474), **generator_args)\n",
    "ts_eyepacks_gen = DR_Generator(start_end_index=(1474, 1842), **generator_args)"
   ]
  },
  {
   "cell_type": "code",
   "execution_count": 3,
   "metadata": {},
   "outputs": [],
   "source": [
    "model = SMD_Unet(filters=[32, 64, 128, 256, 512])"
   ]
  },
  {
   "cell_type": "code",
   "execution_count": null,
   "metadata": {},
   "outputs": [
    {
     "name": "stdout",
     "output_type": "stream",
     "text": [
      "\n",
      "Epoch 1/30\n",
      "1292/1292 [==============================] - 673s 521ms/step - train_loss: 1.0009\n",
      "184/184 [==============================] - 46s 252ms/step - val_loss: 0.9986\n",
      "\n",
      "Epoch 2/30\n",
      "1292/1292 [==============================] - 672s 520ms/step - train_loss: 0.9972\n",
      "184/184 [==============================] - 46s 250ms/step - val_loss: 0.9969\n",
      "\n",
      "Epoch 3/30\n",
      "1292/1292 [==============================] - 673s 521ms/step - train_loss: 0.9987\n",
      "184/184 [==============================] - 47s 255ms/step - val_loss: 0.9949\n",
      "\n",
      "Epoch 4/30\n",
      "1292/1292 [==============================] - 676s 523ms/step - train_loss: 0.9983\n",
      "184/184 [==============================] - 46s 251ms/step - val_loss: 0.9949\n",
      "\n",
      "Epoch 5/30\n",
      "1292/1292 [==============================] - 675s 522ms/step - train_loss: 0.9985\n",
      "184/184 [==============================] - 46s 252ms/step - val_loss: 0.9949\n",
      "\n",
      "Epoch 6/30\n",
      "1292/1292 [==============================] - 676s 523ms/step - train_loss: 0.9985\n",
      "184/184 [==============================] - 47s 253ms/step - val_loss: 0.9949\n",
      "\n",
      "Epoch 7/30\n",
      "1292/1292 [==============================] - 675s 523ms/step - train_loss: 0.9985\n",
      "184/184 [==============================] - 47s 253ms/step - val_loss: 0.9949\n",
      "\n",
      "Epoch 8/30\n",
      "1292/1292 [==============================] - 676s 523ms/step - train_loss: 0.9985\n",
      "184/184 [==============================] - 46s 252ms/step - val_loss: 0.9949\n",
      "\n",
      "Epoch 9/30\n",
      "1292/1292 [==============================] - 672s 520ms/step - train_loss: 0.9985\n",
      "184/184 [==============================] - 46s 251ms/step - val_loss: 0.9948\n",
      "\n",
      "Epoch 10/30\n",
      "1292/1292 [==============================] - 675s 523ms/step - train_loss: 0.9983\n",
      "184/184 [==============================] - 46s 252ms/step - val_loss: 0.9945\n",
      "\n",
      "Epoch 11/30\n",
      "1292/1292 [==============================] - 680s 526ms/step - train_loss: 0.9990\n",
      "184/184 [==============================] - 46s 251ms/step - val_loss: 0.9947\n",
      "\n",
      "Epoch 12/30\n",
      "1292/1292 [==============================] - 679s 525ms/step - train_loss: 0.9996\n",
      "184/184 [==============================] - 46s 252ms/step - val_loss: 0.9945\n",
      "\n",
      "Epoch 13/30\n",
      "1292/1292 [==============================] - 678s 525ms/step - train_loss: 0.9996\n",
      "184/184 [==============================] - 46s 251ms/step - val_loss: 0.9956\n",
      "\n",
      "Epoch 14/30\n",
      "1292/1292 [==============================] - 676s 523ms/step - train_loss: 0.9997\n",
      "184/184 [==============================] - 46s 250ms/step - val_loss: 0.9960\n",
      "\n",
      "Epoch 15/30\n",
      "1292/1292 [==============================] - 677s 524ms/step - train_loss: 0.9996\n",
      "184/184 [==============================] - 46s 250ms/step - val_loss: 0.9946\n",
      "\n",
      "Epoch 16/30\n",
      "1292/1292 [==============================] - 676s 523ms/step - train_loss: 0.9996\n",
      "184/184 [==============================] - 46s 250ms/step - val_loss: 0.9945\n",
      "\n",
      "Epoch 17/30\n",
      "1292/1292 [==============================] - 676s 524ms/step - train_loss: 0.9996\n",
      "184/184 [==============================] - 46s 249ms/step - val_loss: 0.9941\n",
      "\n",
      "Epoch 18/30\n",
      " 376/1292 [=======>......................] - ETA: 7:58 - train_loss: 0.9958"
     ]
    }
   ],
   "source": [
    "optimizer = tf.keras.optimizers.Adam(learning_rate=0.0001) \n",
    "\n",
    "trainer_args = {\n",
    "    'model':model,\n",
    "    'epochs':30,\n",
    "    'optimizer':optimizer,\n",
    "    'for_recons':False,\n",
    "    'alpha':0.1,\n",
    "    'beta':[0.25, 0.25, 0.25, 0.25]\n",
    "}\n",
    "trainer = Trainer(**trainer_args)\n",
    "\n",
    "history = trainer.train(train_dataset=tr_eyepacks_gen,\n",
    "                        val_dataset=val_eyepacks_gen,\n",
    "                       )"
   ]
  },
  {
   "cell_type": "code",
   "execution_count": null,
   "metadata": {},
   "outputs": [],
   "source": []
  }
 ],
 "metadata": {
  "kernelspec": {
   "display_name": "Python 3 (ipykernel)",
   "language": "python",
   "name": "python3"
  },
  "language_info": {
   "codemirror_mode": {
    "name": "ipython",
    "version": 3
   },
   "file_extension": ".py",
   "mimetype": "text/x-python",
   "name": "python",
   "nbconvert_exporter": "python",
   "pygments_lexer": "ipython3",
   "version": "3.9.7"
  }
 },
 "nbformat": 4,
 "nbformat_minor": 2
}
