{
 "cells": [
  {
   "cell_type": "code",
   "execution_count": 4,
   "metadata": {},
   "outputs": [
    {
     "ename": "AttributeError",
     "evalue": "module 'openxlab' has no attribute 'authorize'",
     "output_type": "error",
     "traceback": [
      "\u001b[1;31m---------------------------------------------------------------------------\u001b[0m",
      "\u001b[1;31mAttributeError\u001b[0m                            Traceback (most recent call last)",
      "\u001b[1;32m~\\AppData\\Local\\Temp\\ipykernel_18080\\2737170425.py\u001b[0m in \u001b[0;36m<module>\u001b[1;34m\u001b[0m\n\u001b[0;32m      1\u001b[0m \u001b[1;32mimport\u001b[0m \u001b[0mopenxlab\u001b[0m\u001b[1;33m\u001b[0m\u001b[1;33m\u001b[0m\u001b[0m\n\u001b[1;32m----> 2\u001b[1;33m \u001b[0mopenxlab\u001b[0m\u001b[1;33m.\u001b[0m\u001b[0mauthorize\u001b[0m\u001b[1;33m(\u001b[0m\u001b[0mak\u001b[0m\u001b[1;33m=\u001b[0m\u001b[1;34m\"glmnj03poqgzw5wrpm3r\"\u001b[0m\u001b[1;33m,\u001b[0m \u001b[0msk\u001b[0m\u001b[1;33m=\u001b[0m\u001b[1;34m\"y26noq3mem5gaqp0gm3gjbnonzejlodnkw8yb4wp\"\u001b[0m\u001b[1;33m)\u001b[0m \u001b[1;31m#Log in and enter the corresponding AK/SK\u001b[0m\u001b[1;33m\u001b[0m\u001b[1;33m\u001b[0m\u001b[0m\n\u001b[0m",
      "\u001b[1;31mAttributeError\u001b[0m: module 'openxlab' has no attribute 'authorize'"
     ]
    }
   ],
   "source": [
    "import openxlab\n",
    "openxlab.authorize(ak=\"glmnj03poqgzw5wrpm3r\", sk=\"y26noq3mem5gaqp0gm3gjbnonzejlodnkw8yb4wp\") #Log in and enter the corresponding AK/SK"
   ]
  },
  {
   "cell_type": "code",
   "execution_count": 5,
   "metadata": {},
   "outputs": [
    {
     "data": {
      "text/plain": [
       "<module 'openxlab' from 'c:\\\\Users\\\\Hi\\\\miniconda3\\\\envs\\\\Elmo\\\\lib\\\\site-packages\\\\openxlab\\\\__init__.py'>"
      ]
     },
     "execution_count": 5,
     "metadata": {},
     "output_type": "execute_result"
    }
   ],
   "source": [
    "openxlab"
   ]
  },
  {
   "cell_type": "code",
   "execution_count": 6,
   "metadata": {},
   "outputs": [
    {
     "ename": "ModuleNotFoundError",
     "evalue": "No module named 'openxlab.dataset'",
     "output_type": "error",
     "traceback": [
      "\u001b[1;31m---------------------------------------------------------------------------\u001b[0m",
      "\u001b[1;31mModuleNotFoundError\u001b[0m                       Traceback (most recent call last)",
      "\u001b[1;32m~\\AppData\\Local\\Temp\\ipykernel_18080\\1523863133.py\u001b[0m in \u001b[0;36m<module>\u001b[1;34m\u001b[0m\n\u001b[1;32m----> 1\u001b[1;33m \u001b[1;32mfrom\u001b[0m \u001b[0mopenxlab\u001b[0m\u001b[1;33m.\u001b[0m\u001b[0mdataset\u001b[0m \u001b[1;32mimport\u001b[0m \u001b[0minfo\u001b[0m\u001b[1;33m\u001b[0m\u001b[1;33m\u001b[0m\u001b[0m\n\u001b[0m\u001b[0;32m      2\u001b[0m \u001b[0minfo\u001b[0m\u001b[1;33m(\u001b[0m\u001b[0mdataset_repo\u001b[0m\u001b[1;33m=\u001b[0m\u001b[1;34m'OpenDataLab/FGADR'\u001b[0m\u001b[1;33m)\u001b[0m \u001b[1;31m#Dataset information viewing\u001b[0m\u001b[1;33m\u001b[0m\u001b[1;33m\u001b[0m\u001b[0m\n",
      "\u001b[1;31mModuleNotFoundError\u001b[0m: No module named 'openxlab.dataset'"
     ]
    }
   ],
   "source": [
    "from openxlab.dataset import info\n",
    "info(dataset_repo='OpenDataLab/FGADR') #Dataset information viewing"
   ]
  },
  {
   "cell_type": "code",
   "execution_count": null,
   "metadata": {},
   "outputs": [],
   "source": [
    "from openxlab.dataset import query\n",
    "query(dataset_repo='OpenDataLab/FGADR') #View Dataset File List\n",
    "\n",
    "from openxlab.dataset import get\n",
    "get(dataset_repo='OpenDataLab/FGADR', target_path='/path/to/local/folder/')  # Dataset download\n",
    "\n",
    "from openxlab.dataset import download\n",
    "download(dataset_repo='OpenDataLab/FGADR',source_path='/README.md', target_path='/path/to/local/folder') #Dataset file download"
   ]
  }
 ],
 "metadata": {
  "kernelspec": {
   "display_name": "genAI_env",
   "language": "python",
   "name": "python3"
  },
  "language_info": {
   "codemirror_mode": {
    "name": "ipython",
    "version": 3
   },
   "file_extension": ".py",
   "mimetype": "text/x-python",
   "name": "python",
   "nbconvert_exporter": "python",
   "pygments_lexer": "ipython3",
   "version": "3.7.16"
  }
 },
 "nbformat": 4,
 "nbformat_minor": 2
}
