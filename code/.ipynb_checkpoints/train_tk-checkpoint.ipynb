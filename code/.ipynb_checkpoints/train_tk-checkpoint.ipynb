{
 "cells": [
  {
   "cell_type": "code",
   "execution_count": 1,
   "metadata": {},
   "outputs": [],
   "source": [
    "import tensorflow as tf\n",
    "import os\n",
    "\n",
    "from assets.one_mask.data_generator import DR_Generator\n",
    "from assets.one_mask.models import SMD_Unet \n",
    "from assets.one_mask.trainer import Trainer"
   ]
  },
  {
   "cell_type": "code",
   "execution_count": 2,
   "metadata": {},
   "outputs": [],
   "source": [
    "masks = ['HardExudate_Masks', 'Hemohedge_Masks', 'Microaneurysms_Masks', 'SoftExudate_Masks']\n",
    "mask_dir = '../data/FGADR/Seg-set'\n",
    "mask_paths = [os.path.join(mask_dir, mask) for mask in masks]\n",
    "\n",
    "generator_args = {\n",
    "    'dir_path':'../data/FGADR/Seg-set/Original_Images/',\n",
    "    'mask_path':mask_paths,\n",
    "    'use_mask':True,\n",
    "    'img_size':(512, 512),  \n",
    "    'batch_size':4, # 8로 하면 바로 OOM 뜸\n",
    "    'dataset':'FGADR', # FGADR or EyePacks\n",
    "    'use_3channel':False,\n",
    "    'CLAHE_args':None\n",
    "}\n",
    "\n",
    "tr_fgadr_gen = DR_Generator(start_end_index=(0, 1108), is_train=True, **generator_args)\n",
    "val_fgadr_gen = DR_Generator(start_end_index=(1108, 1660), is_train=False, **generator_args)\n",
    "ts_fgadr_gen = DR_Generator(start_end_index=(1660, 1840), is_train=False, **generator_args)\n",
    "\n",
    "# tr_fgadr_gen = DR_Generator(start_end_index=(0, 1292), is_train=True, **generator_args)\n",
    "# val_fgadr_gen = DR_Generator(start_end_index=(1292, 1476), is_train=False, **generator_args)\n",
    "# ts_fgadr_gen = DR_Generator(start_end_index=(1476, 1842), is_train=False, **generator_args)\n",
    "\n",
    "# tr_fgadr_gen = DR_Generator(start_end_index=(0, 30000), is_train=True, **generator_args)\n",
    "# val_fgadr_gen = DR_Generator(start_end_index=(30000, 31000), is_train=False, **generator_args)"
   ]
  },
  {
   "cell_type": "code",
   "execution_count": 3,
   "metadata": {},
   "outputs": [],
   "source": [
    "model = SMD_Unet(enc_filters=[64, 128, 256, 512, 1024], dec_filters=[512, 256, 64, 32], input_channel=1)\n",
    "model.load_weights(\"../models/one_mask/New/2_alpha00_lr0001/28\")"
   ]
  },
  {
   "cell_type": "code",
   "execution_count": null,
   "metadata": {
    "scrolled": true
   },
   "outputs": [
    {
     "name": "stdout",
     "output_type": "stream",
     "text": [
      "\n",
      "Epoch 1/50\n",
      "1108/1108 [==============================] - 352s 318ms/step - train_loss: 0.9304 - mask_loss: 0.9304 - loss_recons: 0.3226\n",
      "552/552 [==============================] - 122s 220ms/step - val_loss: 0.9529 - mask_loss: 0.9529 - loss_recons: 0.0826\n",
      "\n",
      "Epoch 2/50\n",
      "1108/1108 [==============================] - 336s 303ms/step - train_loss: 0.8770 - mask_loss: 0.8770 - loss_recons: 0.3200\n",
      "552/552 [==============================] - 122s 220ms/step - val_loss: 0.9262 - mask_loss: 0.9262 - loss_recons: 0.0839\n",
      "\n",
      "Epoch 3/50\n",
      "1108/1108 [==============================] - 336s 304ms/step - train_loss: 0.7715 - mask_loss: 0.7715 - loss_recons: 0.3157\n",
      "552/552 [==============================] - 122s 221ms/step - val_loss: 0.7492 - mask_loss: 0.7492 - loss_recons: 0.2400\n",
      "\n",
      "Epoch 4/50\n",
      "1108/1108 [==============================] - 334s 302ms/step - train_loss: 0.6738 - mask_loss: 0.6738 - loss_recons: 0.3399\n",
      "552/552 [==============================] - 124s 224ms/step - val_loss: 0.7137 - mask_loss: 0.7137 - loss_recons: 0.3036\n",
      "\n",
      "Epoch 5/50\n",
      "1108/1108 [==============================] - 334s 302ms/step - train_loss: 0.6247 - mask_loss: 0.6247 - loss_recons: 0.3311\n",
      "552/552 [==============================] - 124s 225ms/step - val_loss: 0.7037 - mask_loss: 0.7037 - loss_recons: 0.3042\n",
      "\n",
      "Epoch 6/50\n",
      "1108/1108 [==============================] - 334s 302ms/step - train_loss: 0.6003 - mask_loss: 0.6003 - loss_recons: 0.3344\n",
      "552/552 [==============================] - 124s 225ms/step - val_loss: 0.6791 - mask_loss: 0.6791 - loss_recons: 0.3680\n",
      "\n",
      "Epoch 7/50\n",
      "1108/1108 [==============================] - 334s 301ms/step - train_loss: 0.5826 - mask_loss: 0.5826 - loss_recons: 0.3359\n",
      "552/552 [==============================] - 125s 226ms/step - val_loss: 0.6572 - mask_loss: 0.6572 - loss_recons: 0.2881\n",
      "\n",
      "Epoch 8/50\n",
      "1108/1108 [==============================] - 334s 301ms/step - train_loss: 0.5687 - mask_loss: 0.5687 - loss_recons: 0.3072\n",
      "552/552 [==============================] - 125s 227ms/step - val_loss: 0.6514 - mask_loss: 0.6514 - loss_recons: 0.3667\n",
      "\n",
      "Epoch 9/50\n",
      "1108/1108 [==============================] - 334s 302ms/step - train_loss: 0.5584 - mask_loss: 0.5584 - loss_recons: 0.3066\n",
      "552/552 [==============================] - 125s 227ms/step - val_loss: 0.8430 - mask_loss: 0.8430 - loss_recons: 0.4061\n",
      "\n",
      "Epoch 10/50\n",
      "1108/1108 [==============================] - 334s 301ms/step - train_loss: 0.5474 - mask_loss: 0.5474 - loss_recons: 0.2857\n",
      "552/552 [==============================] - 122s 221ms/step - val_loss: 0.6172 - mask_loss: 0.6172 - loss_recons: 0.2477\n",
      "\n",
      "Epoch 11/50\n",
      "1108/1108 [==============================] - 334s 302ms/step - train_loss: 0.5405 - mask_loss: 0.5405 - loss_recons: 0.3015\n",
      "552/552 [==============================] - 122s 221ms/step - val_loss: 0.6397 - mask_loss: 0.6397 - loss_recons: 0.2931\n",
      "\n",
      "Epoch 12/50\n",
      "1108/1108 [==============================] - 334s 302ms/step - train_loss: 0.5313 - mask_loss: 0.5313 - loss_recons: 0.2945\n",
      "552/552 [==============================] - 122s 221ms/step - val_loss: 0.6391 - mask_loss: 0.6391 - loss_recons: 0.2567\n",
      "\n",
      "Epoch 13/50\n",
      "1108/1108 [==============================] - 334s 302ms/step - train_loss: 0.5262 - mask_loss: 0.5262 - loss_recons: 0.2692\n",
      "552/552 [==============================] - 122s 221ms/step - val_loss: 0.6418 - mask_loss: 0.6418 - loss_recons: 0.2801\n",
      "\n",
      "Epoch 14/50\n",
      "1108/1108 [==============================] - 334s 302ms/step - train_loss: 0.5230 - mask_loss: 0.5230 - loss_recons: 0.2711\n",
      "552/552 [==============================] - 122s 221ms/step - val_loss: 0.6484 - mask_loss: 0.6484 - loss_recons: 0.2152\n",
      "\n",
      "Epoch 15/50\n",
      "1108/1108 [==============================] - 334s 302ms/step - train_loss: 0.5119 - mask_loss: 0.5119 - loss_recons: 0.2683\n",
      "552/552 [==============================] - 122s 222ms/step - val_loss: 0.6024 - mask_loss: 0.6024 - loss_recons: 0.2765\n",
      "\n",
      "Epoch 16/50\n",
      "1108/1108 [==============================] - 334s 302ms/step - train_loss: 0.5039 - mask_loss: 0.5039 - loss_recons: 0.2587\n",
      "552/552 [==============================] - 122s 221ms/step - val_loss: 0.6685 - mask_loss: 0.6685 - loss_recons: 0.4012\n",
      "\n",
      "Epoch 17/50\n",
      "1108/1108 [==============================] - 334s 302ms/step - train_loss: 0.4995 - mask_loss: 0.4995 - loss_recons: 0.2408\n",
      "552/552 [==============================] - 122s 221ms/step - val_loss: 0.7660 - mask_loss: 0.7660 - loss_recons: 0.2359\n",
      "\n",
      "Epoch 18/50\n",
      "1108/1108 [==============================] - 334s 302ms/step - train_loss: 0.4934 - mask_loss: 0.4934 - loss_recons: 0.2450\n",
      "552/552 [==============================] - 122s 220ms/step - val_loss: 0.6246 - mask_loss: 0.6246 - loss_recons: 0.2352\n",
      "\n",
      "Epoch 19/50\n",
      "1108/1108 [==============================] - 335s 302ms/step - train_loss: 0.4855 - mask_loss: 0.4855 - loss_recons: 0.2259\n",
      "552/552 [==============================] - 122s 221ms/step - val_loss: 0.6032 - mask_loss: 0.6032 - loss_recons: 0.3671\n",
      "\n",
      "Epoch 20/50\n",
      "1108/1108 [==============================] - 334s 302ms/step - train_loss: 0.4781 - mask_loss: 0.4781 - loss_recons: 0.2428\n",
      "552/552 [==============================] - 122s 222ms/step - val_loss: 0.6556 - mask_loss: 0.6556 - loss_recons: 0.2435\n",
      "\n",
      "Epoch 21/50\n",
      "1108/1108 [==============================] - 335s 302ms/step - train_loss: 0.4760 - mask_loss: 0.4760 - loss_recons: 0.2348\n",
      "552/552 [==============================] - 124s 224ms/step - val_loss: 0.6070 - mask_loss: 0.6070 - loss_recons: 0.2891\n",
      "\n",
      "Epoch 22/50\n",
      "1108/1108 [==============================] - 336s 304ms/step - train_loss: 0.4774 - mask_loss: 0.4774 - loss_recons: 0.2313\n",
      "552/552 [==============================] - 125s 226ms/step - val_loss: 0.6407 - mask_loss: 0.6407 - loss_recons: 0.2137\n",
      "\n",
      "Epoch 23/50\n",
      " 820/1108 [=====================>........] - ETA: 1:26 - train_loss: 0.4295 - mask_loss: 0.4295 - loss_recons: 0.2727"
     ]
    }
   ],
   "source": [
    "optimizer = tf.keras.optimizers.Adam(learning_rate=0.0001) \n",
    "\n",
    "trainer_args = {\n",
    "    'model':model,\n",
    "    'epochs':50,\n",
    "    'optimizer':optimizer,\n",
    "    'for_recons':False,   # pretraining을 할지 말지 (true = recons만 학습 한다.)\n",
    "    'alpha':0.0,           # loss를 구할때 mask_loss는 알파 * recons_loss + (1 - 알파 * mask_loss)\n",
    "    'beta':None,\n",
    "    'first_epoch':1,\n",
    "    'file_name':\"history/one_mask/New/2_1_alpha00_lr00001.txt\",\n",
    "    'save_model_path':\"../models/one_mask/New/2_1_alpha00_lr00001\",\n",
    "    'add_noise':False\n",
    "}\n",
    "trainer = Trainer(**trainer_args)\n",
    "\n",
    "trainer.train(train_dataset=tr_fgadr_gen,\n",
    "              val_dataset=val_fgadr_gen\n",
    "             )"
   ]
  },
  {
   "cell_type": "markdown",
   "metadata": {},
   "source": [
    "# 모델 결과 시각화"
   ]
  },
  {
   "cell_type": "code",
   "execution_count": 1,
   "metadata": {},
   "outputs": [],
   "source": [
    "from assets.one_mask.utils import parse_history_text\n",
    "import matplotlib.pyplot as plt\n",
    "from matplotlib.ticker import StrMethodFormatter"
   ]
  },
  {
   "cell_type": "code",
   "execution_count": 3,
   "metadata": {},
   "outputs": [
    {
     "data": {
      "image/png": "[encoded data removed]",
      "text/plain": [
       "<Figure size 432x288 with 1 Axes>"
      ]
     },
     "metadata": {
      "needs_background": "light"
     },
     "output_type": "display_data"
    }
   ],
   "source": [
    "history = parse_history_text('history/one_mask/New/2_alpha00_lr0001.txt')\n",
    "\n",
    "plt.plot(history['epoch'], history['train_mask_loss'], label='train_mask_loss')\n",
    "plt.plot(history['epoch'], history['val_mask_loss'], label='val_mask_loss')\n",
    "\n",
    "plt.title('2_alpha00_lr0001')\n",
    "plt.legend()\n",
    "plt.show()"
   ]
  },
  {
   "cell_type": "code",
   "execution_count": 9,
   "metadata": {},
   "outputs": [
    {
     "data": {
      "image/png": "[encoded data removed]",
      "text/plain": [
       "<Figure size 432x288 with 1 Axes>"
      ]
     },
     "metadata": {
      "needs_background": "light"
     },
     "output_type": "display_data"
    }
   ],
   "source": [
    "history = parse_history_text('history/one_mask/withoutCLAHE_withoutRecons_alpha00_lr0001.txt')\n",
    "\n",
    "plt.plot(history['epoch'], history['train_mask_loss'], label='lr0.001')\n",
    "plt.plot(history['epoch'], history['val_mask_loss'], label='lr0.001')\n",
    "\n",
    "\n",
    "history = parse_history_text('history/one_mask/withoutCLAHE_withoutRecons_alpha00_lr00001.txt')\n",
    "\n",
    "plt.plot(history['epoch'], history['train_mask_loss'], label='lr0.0001', linestyle='--')\n",
    "plt.plot(history['epoch'], history['val_mask_loss'], label='lr0.0001', linestyle='--')\n",
    "\n",
    "plt.title('lr')\n",
    "plt.legend()\n",
    "plt.show()"
   ]
  },
  {
   "cell_type": "markdown",
   "metadata": {},
   "source": [
    "# 평가지표"
   ]
  },
  {
   "cell_type": "code",
   "execution_count": 10,
   "metadata": {},
   "outputs": [],
   "source": [
    "import numpy as np\n",
    "import tensorflow as tf\n",
    "from sklearn.metrics import roc_auc_score, average_precision_score"
   ]
  },
  {
   "cell_type": "code",
   "execution_count": 11,
   "metadata": {},
   "outputs": [],
   "source": [
    "def dice_coefficient(y_true, y_pred, smooth=1e-7):\n",
    "    intersection = tf.reduce_sum(y_true * y_pred)  # 교집합 계산\n",
    "    union = tf.reduce_sum(y_true) + tf.reduce_sum(y_pred)  # 합집합 계산\n",
    "    return (2. * intersection + smooth) / (union + smooth)\n",
    "\n",
    "def mean_absolute_error(y_true, y_pred):\n",
    "    return tf.reduce_mean(tf.abs(y_true - y_pred))  # MAE 계산\n",
    "\n",
    "def calculate_iou(y_true, y_pred, threshold=0.5):\n",
    "    y_pred = tf.cast(y_pred > threshold, tf.float32)  # 예측값 이진화\n",
    "    intersection = tf.reduce_sum(y_true * y_pred)  # 교집합 계산\n",
    "    union = tf.reduce_sum(tf.cast(y_true + y_pred > threshold, tf.float32))  # 합집합 계산\n",
    "    return intersection / (union + 1e-7)  # IoU 계산, 1e-7 추가로 나눗셈 by zero 방지\n",
    "\n",
    "# 세그멘테이션 결과를 평가하는 함수\n",
    "# y_true와 y_pred는 [batch_size, height, width, channels] 형식으로 가정\n",
    "def evaluate_segmentation(y_true, y_pred):\n",
    "    # 배열을 평평하게 만든다.\n",
    "    y_true_flat = tf.reshape(y_true, [-1])\n",
    "    y_pred_flat = tf.reshape(y_pred, [-1])\n",
    "\n",
    "    # Dice 계수 계산\n",
    "    dice = dice_coefficient(y_true_flat, y_pred_flat)\n",
    "\n",
    "    # IoU (Intersection over Union) 계산\n",
    "    iou = calculate_iou(y_true_flat, y_pred_flat)\n",
    "\n",
    "    # AUC-ROC 계산\n",
    "    roc_auc = roc_auc_score(y_true_flat, y_pred_flat)\n",
    "\n",
    "    # AUC-PR 계산\n",
    "    pr_auc = average_precision_score(y_true_flat, y_pred_flat)\n",
    "\n",
    "    # MAE 계산\n",
    "    mae = mean_absolute_error(y_true_flat, y_pred_flat)\n",
    "\n",
    "    return dice, iou, roc_auc, pr_auc, mae\n"
   ]
  },
  {
   "cell_type": "code",
   "execution_count": 12,
   "metadata": {},
   "outputs": [
    {
     "ename": "NameError",
     "evalue": "name 'inputs' is not defined",
     "output_type": "error",
     "traceback": [
      "\u001b[0;31m---------------------------------------------------------------------------\u001b[0m",
      "\u001b[0;31mNameError\u001b[0m                                 Traceback (most recent call last)",
      "\u001b[0;32m/tmp/ipykernel_995/3890984701.py\u001b[0m in \u001b[0;36m<module>\u001b[0;34m\u001b[0m\n\u001b[1;32m      1\u001b[0m \u001b[0;31m# preds[1]은 예측된 세그멘테이션 마스크를 가정합니다.\u001b[0m\u001b[0;34m\u001b[0m\u001b[0;34m\u001b[0m\u001b[0m\n\u001b[1;32m      2\u001b[0m \u001b[0;31m# targets는 실제 세그멘테이션 마스크입니다.\u001b[0m\u001b[0;34m\u001b[0m\u001b[0;34m\u001b[0m\u001b[0m\n\u001b[0;32m----> 3\u001b[0;31m \u001b[0mpreds\u001b[0m \u001b[0;34m=\u001b[0m \u001b[0mmodel\u001b[0m\u001b[0;34m(\u001b[0m\u001b[0minputs\u001b[0m\u001b[0;34m[\u001b[0m\u001b[0;36m0\u001b[0m\u001b[0;34m]\u001b[0m\u001b[0;34m)\u001b[0m\u001b[0;34m\u001b[0m\u001b[0;34m\u001b[0m\u001b[0m\n\u001b[0m\u001b[1;32m      4\u001b[0m \u001b[0mdice\u001b[0m\u001b[0;34m,\u001b[0m \u001b[0miou\u001b[0m\u001b[0;34m,\u001b[0m \u001b[0mroc_auc\u001b[0m\u001b[0;34m,\u001b[0m \u001b[0mpr_auc\u001b[0m\u001b[0;34m,\u001b[0m \u001b[0mmae\u001b[0m \u001b[0;34m=\u001b[0m \u001b[0mevaluate_segmentation\u001b[0m\u001b[0;34m(\u001b[0m\u001b[0mtargets\u001b[0m\u001b[0;34m,\u001b[0m \u001b[0mpreds\u001b[0m\u001b[0;34m[\u001b[0m\u001b[0;36m1\u001b[0m\u001b[0;34m]\u001b[0m\u001b[0;34m)\u001b[0m\u001b[0;34m\u001b[0m\u001b[0;34m\u001b[0m\u001b[0m\n\u001b[1;32m      5\u001b[0m \u001b[0;34m\u001b[0m\u001b[0m\n",
      "\u001b[0;31mNameError\u001b[0m: name 'inputs' is not defined"
     ]
    }
   ],
   "source": [
    "# preds[1]은 예측된 세그멘테이션 마스크를 가정합니다.\n",
    "# targets는 실제 세그멘테이션 마스크입니다.\n",
    "preds = model(inputs[0])\n",
    "dice, iou, roc_auc, pr_auc, mae = evaluate_segmentation(targets, preds[1])\n",
    "\n",
    "# 결과 출력\n",
    "print(\"Dice Coefficient:\", dice)\n",
    "print(\"IoU (Intersection over Union):\", iou)\n",
    "print(\"ROC AUC Score:\", roc_auc)\n",
    "print(\"PR AUC Score:\", pr_auc)\n",
    "print(\"Mean Absolute Error:\", mae)"
   ]
  },
  {
   "cell_type": "code",
   "execution_count": null,
   "metadata": {},
   "outputs": [],
   "source": []
  }
 ],
 "metadata": {
  "kernelspec": {
   "display_name": "Python 3 (ipykernel)",
   "language": "python",
   "name": "python3"
  },
  "language_info": {
   "codemirror_mode": {
    "name": "ipython",
    "version": 3
   },
   "file_extension": ".py",
   "mimetype": "text/x-python",
   "name": "python",
   "nbconvert_exporter": "python",
   "pygments_lexer": "ipython3",
   "version": "3.9.7"
  }
 },
 "nbformat": 4,
 "nbformat_minor": 2
}
