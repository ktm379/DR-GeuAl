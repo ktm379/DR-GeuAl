{
 "cells": [
  {
   "cell_type": "code",
   "execution_count": 1,
   "metadata": {},
   "outputs": [],
   "source": [
    "import tensorflow as tf\n",
    "import os\n",
    "\n",
    "from assets.one_mask.data_generator import DR_Generator\n",
    "from assets.one_mask.models import SMD_Unet \n",
    "from assets.one_mask.trainer import Trainer"
   ]
  },
  {
   "cell_type": "code",
   "execution_count": 2,
   "metadata": {},
   "outputs": [],
   "source": [
    "masks = ['HardExudate_Masks', 'Hemohedge_Masks', 'Microaneurysms_Masks', 'SoftExudate_Masks']\n",
    "mask_dir = '../data/FGADR/Seg-set'\n",
    "mask_paths = [os.path.join(mask_dir, mask) for mask in masks]\n",
    "\n",
    "generator_args = {\n",
    "    'dir_path':'../data/FGADR/Seg-set/Original_Images/',\n",
    "    'mask_path':mask_paths,\n",
    "    'use_mask':True,\n",
    "    'img_size':(512, 512),  \n",
    "    'batch_size':4, # 8로 하면 바로 OOM 뜸\n",
    "    'dataset':'FGADR', # FGADR or EyePacks\n",
    "    'use_3channel':False,\n",
    "    'CLAHE_args':None\n",
    "}\n",
    "\n",
    "tr_fgadr_gen = DR_Generator(start_end_index=(0, 1108), is_train=True, **generator_args)\n",
    "val_fgadr_gen = DR_Generator(start_end_index=(1108, 1660), is_train=False, **generator_args)\n",
    "ts_fgadr_gen = DR_Generator(start_end_index=(1660, 1840), is_train=False, **generator_args)\n",
    "\n",
    "# tr_fgadr_gen = DR_Generator(start_end_index=(0, 1292), is_train=True, **generator_args)\n",
    "# val_fgadr_gen = DR_Generator(start_end_index=(1292, 1476), is_train=False, **generator_args)\n",
    "# ts_fgadr_gen = DR_Generator(start_end_index=(1476, 1842), is_train=False, **generator_args)\n",
    "\n",
    "# tr_fgadr_gen = DR_Generator(start_end_index=(0, 30000), is_train=True, **generator_args)\n",
    "# val_fgadr_gen = DR_Generator(start_end_index=(30000, 31000), is_train=False, **generator_args)"
   ]
  },
  {
   "cell_type": "code",
   "execution_count": 3,
   "metadata": {},
   "outputs": [
    {
     "data": {
      "text/plain": [
       "<tensorflow.python.training.tracking.util.CheckpointLoadStatus at 0x7f5e94161f10>"
      ]
     },
     "execution_count": 3,
     "metadata": {},
     "output_type": "execute_result"
    }
   ],
   "source": [
    "model = SMD_Unet(enc_filters=[64, 128, 256, 512, 1024], dec_filters=[512, 256, 64, 32], input_channel=1)\n",
    "model.load_weights(\"../models/one_mask/New/6_pretraining_1channel_alpha01_lr0001/20\")"
   ]
  },
  {
   "cell_type": "code",
   "execution_count": null,
   "metadata": {
    "scrolled": true
   },
   "outputs": [
    {
     "name": "stdout",
     "output_type": "stream",
     "text": [
      "\n",
      "Epoch 1/50\n",
      "1108/1108 [==============================] - 455s 410ms/step - train_loss: 0.4641 - mask_loss: 0.5155 - loss_recons: 0.0012\n",
      "552/552 [==============================] - 128s 231ms/step - val_loss: 0.5371 - mask_loss: 0.5967 - loss_recons: 1.3283e-04\n",
      "\n",
      "Epoch 2/50\n",
      "1108/1108 [==============================] - 437s 395ms/step - train_loss: 0.4534 - mask_loss: 0.5037 - loss_recons: 0.0011\n",
      "552/552 [==============================] - 127s 231ms/step - val_loss: 0.5372 - mask_loss: 0.5969 - loss_recons: 1.5642e-04\n",
      "\n",
      "Epoch 3/50\n",
      "1108/1108 [==============================] - 438s 395ms/step - train_loss: 0.4471 - mask_loss: 0.4967 - loss_recons: 0.0010\n",
      "552/552 [==============================] - 127s 230ms/step - val_loss: 0.5329 - mask_loss: 0.5921 - loss_recons: 1.1655e-04\n",
      "\n",
      "Epoch 4/50\n",
      "1108/1108 [==============================] - 437s 395ms/step - train_loss: 0.4421 - mask_loss: 0.4911 - loss_recons: 0.0010\n",
      "552/552 [==============================] - 128s 231ms/step - val_loss: 0.5294 - mask_loss: 0.5882 - loss_recons: 1.1511e-04\n",
      "\n",
      "Epoch 5/50\n",
      "1108/1108 [==============================] - 438s 395ms/step - train_loss: 0.4379 - mask_loss: 0.4865 - loss_recons: 0.0010\n",
      "552/552 [==============================] - 128s 231ms/step - val_loss: 0.5282 - mask_loss: 0.5869 - loss_recons: 1.1039e-04\n",
      "\n",
      "Epoch 6/50\n",
      "1108/1108 [==============================] - 437s 395ms/step - train_loss: 0.4339 - mask_loss: 0.4820 - loss_recons: 9.7997e-04\n",
      "552/552 [==============================] - 128s 231ms/step - val_loss: 0.5284 - mask_loss: 0.5871 - loss_recons: 1.1252e-04\n",
      "\n",
      "Epoch 7/50\n",
      "1108/1108 [==============================] - 437s 395ms/step - train_loss: 0.4298 - mask_loss: 0.4775 - loss_recons: 9.6646e-04\n",
      "552/552 [==============================] - 127s 230ms/step - val_loss: 0.5260 - mask_loss: 0.5844 - loss_recons: 1.1024e-04\n",
      "\n",
      "Epoch 8/50\n",
      "1108/1108 [==============================] - 437s 395ms/step - train_loss: 0.4262 - mask_loss: 0.4735 - loss_recons: 9.4995e-04\n",
      "552/552 [==============================] - 131s 238ms/step - val_loss: 0.5259 - mask_loss: 0.5843 - loss_recons: 1.1899e-04\n",
      "\n",
      "Epoch 9/50\n",
      "1108/1108 [==============================] - 437s 395ms/step - train_loss: 0.4227 - mask_loss: 0.4696 - loss_recons: 9.3419e-04\n",
      "552/552 [==============================] - 129s 233ms/step - val_loss: 0.5239 - mask_loss: 0.5821 - loss_recons: 1.3139e-04\n",
      "\n",
      "Epoch 10/50\n",
      "1108/1108 [==============================] - 437s 395ms/step - train_loss: 0.4194 - mask_loss: 0.4659 - loss_recons: 9.2079e-04\n",
      "552/552 [==============================] - 129s 233ms/step - val_loss: 0.5267 - mask_loss: 0.5852 - loss_recons: 1.0334e-04\n",
      "\n",
      "Epoch 11/50\n",
      "1108/1108 [==============================] - 437s 395ms/step - train_loss: 0.4163 - mask_loss: 0.4625 - loss_recons: 9.0753e-04\n",
      "552/552 [==============================] - 128s 232ms/step - val_loss: 0.5252 - mask_loss: 0.5836 - loss_recons: 1.5593e-04\n",
      "\n",
      "Epoch 12/50\n",
      "1108/1108 [==============================] - 437s 395ms/step - train_loss: 0.4132 - mask_loss: 0.4590 - loss_recons: 8.9282e-04\n",
      "552/552 [==============================] - 128s 232ms/step - val_loss: 0.5227 - mask_loss: 0.5808 - loss_recons: 1.0487e-04\n",
      "\n",
      "Epoch 13/50\n",
      "1108/1108 [==============================] - 437s 395ms/step - train_loss: 0.4102 - mask_loss: 0.4557 - loss_recons: 8.8311e-04\n",
      "552/552 [==============================] - 128s 233ms/step - val_loss: 0.5278 - mask_loss: 0.5864 - loss_recons: 1.0097e-04\n",
      "\n",
      "Epoch 14/50\n",
      "1108/1108 [==============================] - 437s 395ms/step - train_loss: 0.4074 - mask_loss: 0.4525 - loss_recons: 8.7584e-04\n",
      "552/552 [==============================] - 128s 232ms/step - val_loss: 0.5231 - mask_loss: 0.5812 - loss_recons: 1.0436e-04\n",
      "\n",
      "Epoch 15/50\n",
      "1108/1108 [==============================] - 438s 395ms/step - train_loss: 0.4041 - mask_loss: 0.4489 - loss_recons: 8.6514e-04\n",
      "552/552 [==============================] - 128s 231ms/step - val_loss: 0.5232 - mask_loss: 0.5814 - loss_recons: 1.0233e-04\n",
      "\n",
      "Epoch 16/50\n",
      "1108/1108 [==============================] - 438s 395ms/step - train_loss: 0.4014 - mask_loss: 0.4459 - loss_recons: 8.6026e-04\n",
      "552/552 [==============================] - 128s 233ms/step - val_loss: 0.5250 - mask_loss: 0.5834 - loss_recons: 1.0336e-04\n",
      "\n",
      "Epoch 17/50\n",
      "1108/1108 [==============================] - 438s 395ms/step - train_loss: 0.3984 - mask_loss: 0.4425 - loss_recons: 8.5419e-04\n",
      "552/552 [==============================] - 129s 234ms/step - val_loss: 0.5230 - mask_loss: 0.5810 - loss_recons: 1.0405e-04\n",
      "\n",
      "Epoch 18/50\n",
      "1108/1108 [==============================] - 438s 395ms/step - train_loss: 0.3952 - mask_loss: 0.4391 - loss_recons: 8.3826e-04\n",
      "552/552 [==============================] - 128s 232ms/step - val_loss: 0.5271 - mask_loss: 0.5856 - loss_recons: 1.0816e-04\n",
      "\n",
      "Epoch 19/50\n",
      "1108/1108 [==============================] - 438s 395ms/step - train_loss: 0.3928 - mask_loss: 0.4363 - loss_recons: 8.3512e-04\n",
      "552/552 [==============================] - 129s 233ms/step - val_loss: 0.5205 - mask_loss: 0.5784 - loss_recons: 9.6828e-05\n",
      "\n",
      "Epoch 20/50\n",
      "1108/1108 [==============================] - 437s 395ms/step - train_loss: 0.3900 - mask_loss: 0.4333 - loss_recons: 8.3323e-04\n",
      "552/552 [==============================] - 128s 233ms/step - val_loss: 0.5234 - mask_loss: 0.5816 - loss_recons: 9.5647e-05\n",
      "\n",
      "Epoch 21/50\n",
      "1108/1108 [==============================] - 437s 395ms/step - train_loss: 0.3867 - mask_loss: 0.4295 - loss_recons: 8.1748e-04\n",
      "552/552 [==============================] - 129s 233ms/step - val_loss: 0.5209 - mask_loss: 0.5787 - loss_recons: 9.3405e-05\n",
      "\n",
      "Epoch 22/50\n",
      "1108/1108 [==============================] - 437s 395ms/step - train_loss: 0.3840 - mask_loss: 0.4265 - loss_recons: 8.1531e-04\n",
      "552/552 [==============================] - 128s 231ms/step - val_loss: 0.5178 - mask_loss: 0.5753 - loss_recons: 1.0111e-04\n",
      "\n",
      "Epoch 23/50\n",
      "1108/1108 [==============================] - 437s 395ms/step - train_loss: 0.3825 - mask_loss: 0.4249 - loss_recons: 8.1142e-04\n",
      "552/552 [==============================] - 128s 231ms/step - val_loss: 0.5180 - mask_loss: 0.5756 - loss_recons: 9.2735e-05\n",
      "\n",
      "Epoch 24/50\n",
      "1108/1108 [==============================] - 437s 395ms/step - train_loss: 0.3797 - mask_loss: 0.4218 - loss_recons: 8.0272e-04\n",
      "552/552 [==============================] - 127s 231ms/step - val_loss: 0.5192 - mask_loss: 0.5768 - loss_recons: 9.8371e-05\n",
      "\n",
      "Epoch 25/50\n",
      "1108/1108 [==============================] - 437s 395ms/step - train_loss: 0.3767 - mask_loss: 0.4185 - loss_recons: 7.9129e-04\n",
      "552/552 [==============================] - 129s 233ms/step - val_loss: 0.5161 - mask_loss: 0.5734 - loss_recons: 9.9177e-05\n",
      "\n",
      "Epoch 26/50\n",
      "1108/1108 [==============================] - 437s 395ms/step - train_loss: 0.3745 - mask_loss: 0.4161 - loss_recons: 7.8813e-04\n",
      "552/552 [==============================] - 128s 232ms/step - val_loss: 0.5155 - mask_loss: 0.5728 - loss_recons: 9.1408e-05\n",
      "\n",
      "Epoch 27/50\n",
      "1108/1108 [==============================] - 437s 395ms/step - train_loss: 0.3722 - mask_loss: 0.4135 - loss_recons: 7.8152e-04\n",
      "552/552 [==============================] - 129s 233ms/step - val_loss: 0.5169 - mask_loss: 0.5743 - loss_recons: 9.9082e-05\n",
      "\n",
      "Epoch 28/50\n",
      "1108/1108 [==============================] - 437s 395ms/step - train_loss: 0.3691 - mask_loss: 0.4101 - loss_recons: 7.6831e-04\n",
      "552/552 [==============================] - 129s 233ms/step - val_loss: 0.5162 - mask_loss: 0.5735 - loss_recons: 9.8134e-05\n",
      "\n",
      "Epoch 29/50\n",
      "1108/1108 [==============================] - 438s 395ms/step - train_loss: 0.3673 - mask_loss: 0.4080 - loss_recons: 7.6838e-04\n",
      "552/552 [==============================] - 129s 233ms/step - val_loss: 0.5178 - mask_loss: 0.5753 - loss_recons: 9.6513e-05\n",
      "\n",
      "Epoch 30/50\n",
      "1108/1108 [==============================] - 438s 395ms/step - train_loss: 0.3650 - mask_loss: 0.4055 - loss_recons: 7.6599e-04\n",
      "552/552 [==============================] - 129s 233ms/step - val_loss: 0.5148 - mask_loss: 0.5720 - loss_recons: 9.8966e-05\n",
      "\n",
      "Epoch 31/50\n",
      "1108/1108 [==============================] - 438s 395ms/step - train_loss: 0.3621 - mask_loss: 0.4022 - loss_recons: 7.4605e-04\n",
      "552/552 [==============================] - 130s 235ms/step - val_loss: 0.5144 - mask_loss: 0.5715 - loss_recons: 8.3486e-05\n",
      "\n",
      "Epoch 32/50\n"
     ]
    },
    {
     "name": "stdout",
     "output_type": "stream",
     "text": [
      "1108/1108 [==============================] - 438s 395ms/step - train_loss: 0.3593 - mask_loss: 0.3991 - loss_recons: 7.4274e-04\n",
      "552/552 [==============================] - 129s 233ms/step - val_loss: 0.5174 - mask_loss: 0.5748 - loss_recons: 1.1950e-04\n",
      "\n",
      "Epoch 33/50\n",
      " 840/1108 [=====================>........] - ETA: 1:45 - train_loss: 0.3662 - mask_loss: 0.4069 - loss_recons: 3.3434e-04"
     ]
    }
   ],
   "source": [
    "optimizer = tf.keras.optimizers.Adam(learning_rate=0.0001) \n",
    "\n",
    "trainer_args = {\n",
    "    'model':model,\n",
    "    'epochs':50,\n",
    "    'optimizer':optimizer,\n",
    "    'for_recons':False,   # pretraining을 할지 말지 (true = recons만 학습 한다.)\n",
    "    'alpha':0.1,           # loss를 구할때 mask_loss는 알파 * recons_loss + (1 - 알파 * mask_loss)\n",
    "    'beta':None,\n",
    "    'first_epoch':1,\n",
    "    'file_name':\"history/one_mask/New/6_1_pretraining_1channel_alpha01_lr00001_20.txt\",\n",
    "    'save_model_path':\"../models/one_mask/New/6_1_pretraining_1channel_alpha01_lr00001_20\",\n",
    "    'add_noise':False\n",
    "}\n",
    "trainer = Trainer(**trainer_args)\n",
    "\n",
    "trainer.train(train_dataset=tr_fgadr_gen,\n",
    "              val_dataset=val_fgadr_gen\n",
    "             )"
   ]
  },
  {
   "cell_type": "markdown",
   "metadata": {},
   "source": [
    "# 모델 결과 시각화"
   ]
  },
  {
   "cell_type": "code",
   "execution_count": 5,
   "metadata": {},
   "outputs": [],
   "source": [
    "from assets.one_mask.utils import parse_history_text\n",
    "import matplotlib.pyplot as plt\n",
    "from matplotlib.ticker import StrMethodFormatter"
   ]
  },
  {
   "cell_type": "code",
   "execution_count": 7,
   "metadata": {},
   "outputs": [
    {
     "data": {
      "image/png": "[encoded data removed]",
      "text/plain": [
       "<Figure size 432x288 with 1 Axes>"
      ]
     },
     "metadata": {
      "needs_background": "light"
     },
     "output_type": "display_data"
    }
   ],
   "source": [
    "history = parse_history_text('history/one_mask/New/6_1_pretraining_1channel_alpha01_lr00001_20.txt')\n",
    "\n",
    "plt.plot(history['epoch'], history['train_mask_loss'], label='train_mask_loss')\n",
    "plt.plot(history['epoch'], history['val_mask_loss'], label='val_mask_loss')\n",
    "\n",
    "plt.title('6_1_pretraining_1channel_alpha01_lr00001_20')\n",
    "plt.legend()\n",
    "plt.show()"
   ]
  },
  {
   "cell_type": "code",
   "execution_count": null,
   "metadata": {},
   "outputs": [],
   "source": [
    "history = parse_history_text('history/one_mask/5_1_pretraining_3channel_addnoise_alpha01_lr00001.txt')\n",
    "\n",
    "plt.plot(history['epoch'], history['train_mask_loss'], label='lr0.001')\n",
    "plt.plot(history['epoch'], history['val_mask_loss'], label='lr0.001')\n",
    "\n",
    "\n",
    "history = parse_history_text('history/one_mask/withoutCLAHE_withoutRecons_alpha00_lr00001.txt')\n",
    "\n",
    "plt.plot(history['epoch'], history['train_mask_loss'], label='lr0.0001', linestyle='--')\n",
    "plt.plot(history['epoch'], history['val_mask_loss'], label='lr0.0001', linestyle='--')\n",
    "\n",
    "plt.title('lr')\n",
    "plt.legend()\n",
    "plt.show()"
   ]
  },
  {
   "cell_type": "markdown",
   "metadata": {},
   "source": [
    "# 평가지표"
   ]
  },
  {
   "cell_type": "code",
   "execution_count": 2,
   "metadata": {},
   "outputs": [],
   "source": [
    "import os\n",
    "from assets.evaluation.evaluate_result import evaluate_main"
   ]
  },
  {
   "cell_type": "code",
   "execution_count": 8,
   "metadata": {},
   "outputs": [
    {
     "name": "stderr",
     "output_type": "stream",
     "text": [
      "100%|██████████| 138/138 [02:51<00:00,  1.24s/it]"
     ]
    },
    {
     "name": "stdout",
     "output_type": "stream",
     "text": [
      "CSV 파일 저장 완료: assets/evaluation/evaluation_results_csv/3_1_3channel_alpha01_lr00001_validation_evaluation_result.csv\n"
     ]
    },
    {
     "name": "stderr",
     "output_type": "stream",
     "text": [
      "\n"
     ]
    }
   ],
   "source": [
    "generator_type = 'validation'  # 원하는 generator 타입 선택: 'train', 'validation', 또는 'test'\n",
    "input_channel = 3         # 3channel은 3, 1channel은 1\n",
    "use_3channel = True     # 3channel은 True, 1channel은 False\n",
    "model_path = \"../models/one_mask/New/3_1_3channel_alpha01_lr00001/8\"  # 모델 경로 지정\n",
    "result_df = evaluate_main(generator_type, model_path, input_channel, use_3channel)"
   ]
  },
  {
   "cell_type": "markdown",
   "metadata": {},
   "source": [
    "# Prediction 결과 시각화"
   ]
  },
  {
   "cell_type": "code",
   "execution_count": 9,
   "metadata": {},
   "outputs": [
    {
     "data": {
      "text/plain": [
       "['38.data-00000-of-00001', 'checkpoint', '38.index']"
      ]
     },
     "execution_count": 9,
     "metadata": {},
     "output_type": "execute_result"
    }
   ],
   "source": [
    "import os\n",
    "\n",
    "os.listdir('../models/one_mask/3_3channel_alpha01_lr0001')"
   ]
  },
  {
   "cell_type": "code",
   "execution_count": 5,
   "metadata": {},
   "outputs": [],
   "source": [
    "import pandas as pd\n",
    "\n",
    "# train\n",
    "result_df = pd.read_csv(\"assets/evaluation/evaluation_results_csv/3_3channel_alpha01_lr0001_train_evaluation_result.csv\")\n",
    "\n",
    "\n",
    "# validation\n",
    "# result_df = pd.read_csv(\"assets/evaluation/evaluation_results_csv/3_3channel_alpha01_lr0001_validation_evaluation_result.csv\")"
   ]
  },
  {
   "cell_type": "code",
   "execution_count": 11,
   "metadata": {},
   "outputs": [
    {
     "data": {
      "text/plain": [
       "0     0182_2.png\n",
       "1     0089_2.png\n",
       "2     0455_2.png\n",
       "3     0362_3.png\n",
       "4     0484_3.png\n",
       "         ...    \n",
       "95    0067_2.png\n",
       "96    0269_2.png\n",
       "97    0164_3.png\n",
       "98    0485_1.png\n",
       "99    0313_2.png\n",
       "Name: file_name, Length: 100, dtype: object"
      ]
     },
     "execution_count": 11,
     "metadata": {},
     "output_type": "execute_result"
    }
   ],
   "source": [
    "result_df.iloc[:100]['file_name']"
   ]
  },
  {
   "cell_type": "code",
   "execution_count": 12,
   "metadata": {
    "scrolled": false
   },
   "outputs": [
    {
     "ename": "FileNotFoundError",
     "evalue": "[Errno 2] No such file or directory: '../data/FGADR/Seg-set/Original_Images/'",
     "output_type": "error",
     "traceback": [
      "\u001b[0;31m---------------------------------------------------------------------------\u001b[0m",
      "\u001b[0;31mFileNotFoundError\u001b[0m                         Traceback (most recent call last)",
      "\u001b[0;32m/tmp/ipykernel_47/2279253916.py\u001b[0m in \u001b[0;36m<module>\u001b[0;34m\u001b[0m\n\u001b[1;32m      6\u001b[0m \u001b[0;34m\u001b[0m\u001b[0m\n\u001b[1;32m      7\u001b[0m \u001b[0mmodel_path\u001b[0m \u001b[0;34m=\u001b[0m \u001b[0;34m\"../models/one_mask/3_3channel_alpha01_lr0001/38\"\u001b[0m\u001b[0;34m\u001b[0m\u001b[0;34m\u001b[0m\u001b[0m\n\u001b[0;32m----> 8\u001b[0;31m \u001b[0mvisualize_segmentation_results\u001b[0m\u001b[0;34m(\u001b[0m\u001b[0mimage_filenames\u001b[0m\u001b[0;34m,\u001b[0m \u001b[0mmodel_path\u001b[0m\u001b[0;34m)\u001b[0m\u001b[0;34m\u001b[0m\u001b[0;34m\u001b[0m\u001b[0m\n\u001b[0m",
      "\u001b[0;32m~/aiffel/Visuworks/code/assets/evaluation/evaluation_visual.py\u001b[0m in \u001b[0;36mvisualize_segmentation_results\u001b[0;34m(image_filenames, model_path)\u001b[0m\n\u001b[1;32m    151\u001b[0m \u001b[0;34m\u001b[0m\u001b[0m\n\u001b[1;32m    152\u001b[0m     \u001b[0;31m# 이미지 파일들을 정렬하여 가져옴\u001b[0m\u001b[0;34m\u001b[0m\u001b[0;34m\u001b[0m\u001b[0m\n\u001b[0;32m--> 153\u001b[0;31m     \u001b[0mimage_files\u001b[0m \u001b[0;34m=\u001b[0m \u001b[0msorted\u001b[0m\u001b[0;34m(\u001b[0m\u001b[0mos\u001b[0m\u001b[0;34m.\u001b[0m\u001b[0mlistdir\u001b[0m\u001b[0;34m(\u001b[0m\u001b[0mimage_dir\u001b[0m\u001b[0;34m)\u001b[0m\u001b[0;34m)\u001b[0m\u001b[0;34m\u001b[0m\u001b[0;34m\u001b[0m\u001b[0m\n\u001b[0m\u001b[1;32m    154\u001b[0m \u001b[0;34m\u001b[0m\u001b[0m\n\u001b[1;32m    155\u001b[0m     \u001b[0mmodel\u001b[0m \u001b[0;34m=\u001b[0m \u001b[0mSMD_Unet\u001b[0m\u001b[0;34m(\u001b[0m\u001b[0menc_filters\u001b[0m\u001b[0;34m=\u001b[0m\u001b[0;34m[\u001b[0m\u001b[0;36m64\u001b[0m\u001b[0;34m,\u001b[0m \u001b[0;36m128\u001b[0m\u001b[0;34m,\u001b[0m \u001b[0;36m256\u001b[0m\u001b[0;34m,\u001b[0m \u001b[0;36m512\u001b[0m\u001b[0;34m,\u001b[0m \u001b[0;36m1024\u001b[0m\u001b[0;34m]\u001b[0m\u001b[0;34m,\u001b[0m \u001b[0mdec_filters\u001b[0m\u001b[0;34m=\u001b[0m\u001b[0;34m[\u001b[0m\u001b[0;36m512\u001b[0m\u001b[0;34m,\u001b[0m \u001b[0;36m256\u001b[0m\u001b[0;34m,\u001b[0m \u001b[0;36m64\u001b[0m\u001b[0;34m,\u001b[0m \u001b[0;36m32\u001b[0m\u001b[0;34m]\u001b[0m\u001b[0;34m,\u001b[0m \u001b[0minput_channel\u001b[0m\u001b[0;34m=\u001b[0m\u001b[0;36m3\u001b[0m\u001b[0;34m)\u001b[0m\u001b[0;34m\u001b[0m\u001b[0;34m\u001b[0m\u001b[0m\n",
      "\u001b[0;31mFileNotFoundError\u001b[0m: [Errno 2] No such file or directory: '../data/FGADR/Seg-set/Original_Images/'"
     ]
    }
   ],
   "source": [
    "from assets.evaluation.evaluation_visual import visualize_segmentation_results\n",
    "\n",
    "# image_filenames = [\"0381_1.png\", \"0311_1.png\", \"1134_1.png\", \"1181_3.png\"]  # 원하는 이미지 파일명으로 수정\n",
    "\n",
    "image_filenames = result_df.iloc[:100]['file_name']\n",
    "\n",
    "model_path = \"../models/one_mask/3_3channel_alpha01_lr0001/38\"\n",
    "visualize_segmentation_results(image_filenames, model_path)"
   ]
  },
  {
   "cell_type": "code",
   "execution_count": null,
   "metadata": {},
   "outputs": [],
   "source": []
  }
 ],
 "metadata": {
  "kernelspec": {
   "display_name": "Python 3 (ipykernel)",
   "language": "python",
   "name": "python3"
  },
  "language_info": {
   "codemirror_mode": {
    "name": "ipython",
    "version": 3
   },
   "file_extension": ".py",
   "mimetype": "text/x-python",
   "name": "python",
   "nbconvert_exporter": "python",
   "pygments_lexer": "ipython3",
   "version": "3.9.7"
  }
 },
 "nbformat": 4,
 "nbformat_minor": 2
}
