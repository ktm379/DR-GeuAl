{
 "cells": [
  {
   "cell_type": "markdown",
   "metadata": {},
   "source": [
    "# 새롭게 뽑은 애들로 평가해보기"
   ]
  },
  {
   "cell_type": "code",
   "execution_count": 2,
   "metadata": {},
   "outputs": [
    {
     "name": "stdout",
     "output_type": "stream",
     "text": [
      "쓸모없는 애들 뺴고 난 길이\n",
      "-----------------------\n",
      "train: 1044\n",
      "valid: 475\n",
      "test: 164\n",
      "빠진 개수\n",
      "-----------------------\n",
      "train: 64\n",
      "valid: 77\n",
      "test: 16\n"
     ]
    }
   ],
   "source": [
    "import tensorflow as tf\n",
    "import os\n",
    "import pandas as pd\n",
    "import numpy as np\n",
    "from tqdm import tqdm\n",
    "\n",
    "from assets.one_mask.data_generator_new import DR_Generator\n",
    "from assets.one_mask.models import SMD_Unet \n",
    "from assets.one_mask.trainer import Trainer\n",
    "from assets.one_mask.loss import dice_loss\n",
    "\n",
    "ma_df = pd.read_csv('../data/mask_analysis.csv')\n",
    "ma_df = ma_df.fillna('x')\n",
    "\n",
    "file_names = list(ma_df['file_name'].values)\n",
    "\n",
    "tr_file_names = file_names[:1108]\n",
    "val_file_names = file_names[1108:1660]\n",
    "ts_file_names = file_names[1660:1840]\n",
    "\n",
    "origin_tr_len = len(tr_file_names)\n",
    "origin_val_len = len(val_file_names)\n",
    "origin_ts_len = len(ts_file_names)\n",
    "\n",
    "# 심각하게 넓게 잡힌 애들\n",
    "useless_1 = ma_df[ma_df['넒게 잡힘'] == 'ㅇ(심각)']['file_name'].values\n",
    "\n",
    "# 실제론 있는데 마스크가 안잡혀있는 애들\n",
    "cond1 = ma_df['안잡힘'] == 'ㅇ';cond2 = ma_df['덜잡힘'] == 'ㅇ'\n",
    "useless_2 = ma_df[cond1 & cond2]['file_name'].values\n",
    "\n",
    "# 이상하게 잡힌 애들\n",
    "cond1 = ma_df['넒게 잡힘'] == 'ㅇ(이상)'; cond2 = ma_df['넒게 잡힘'] == 'ㅇ(이상하게 잡힘)'\n",
    "useless_3 = ma_df[cond1 | cond2]['file_name'].values\n",
    "\n",
    "useless_files = []\n",
    "useless_files.extend(useless_1)\n",
    "useless_files.extend(useless_2)\n",
    "useless_files.extend(useless_3)\n",
    "\n",
    "tr_file_names = [file for file in tr_file_names if file not in useless_files]\n",
    "val_file_names = [file for file in val_file_names if file not in useless_files]\n",
    "ts_file_names = [file for file in ts_file_names if file not in useless_files]\n",
    "\n",
    "# 쓸모없는 애들 뺴고 난 길이\n",
    "print(\"쓸모없는 애들 뺴고 난 길이\")\n",
    "print(\"-----------------------\")\n",
    "print(\"train:\", len(tr_file_names))\n",
    "print(\"valid:\",len(val_file_names))\n",
    "print(\"test:\",len(ts_file_names))\n",
    "\n",
    "# 얼마나 빠졌는지 확인해보자\n",
    "print(\"빠진 개수\")\n",
    "print(\"-----------------------\")\n",
    "print(\"train:\", origin_tr_len - len(tr_file_names))\n",
    "print(\"valid:\", origin_val_len - len(val_file_names))\n",
    "print(\"test:\", origin_ts_len - len(ts_file_names))\n",
    "\n",
    "# 확실히 validation이 많이 빠졌네. 값이 왜 튀었는지 이유를 알 수 있다."
   ]
  },
  {
   "cell_type": "code",
   "execution_count": 3,
   "metadata": {
    "scrolled": true
   },
   "outputs": [],
   "source": [
    "masks = ['HardExudate_Masks', 'Hemohedge_Masks', 'Microaneurysms_Masks', 'SoftExudate_Masks']\n",
    "mask_dir = '../data/FGADR/Seg-set'\n",
    "mask_paths = [os.path.join(mask_dir, mask) for mask in masks]\n",
    "\n",
    "generator_args = {\n",
    "    'dir_path':'../data/FGADR/Seg-set/Original_Images/',\n",
    "    'mask_path':mask_paths,\n",
    "    'use_mask':True,\n",
    "    'img_size':(512, 512),  \n",
    "    'batch_size':4, # 8로 하면 바로 OOM 뜸\n",
    "    'dataset':'FGADR', # FGADR or EyePacks\n",
    "    'use_3channel':True,\n",
    "    'CLAHE_args':None\n",
    "}\n",
    "\n",
    "tr_fgadr_gen = DR_Generator(is_train=True, file_names=tr_file_names,  **generator_args)\n",
    "val_fgadr_gen = DR_Generator(is_train=False, file_names=val_file_names, **generator_args)\n",
    "ts_fgadr_gen = DR_Generator(is_train=False, file_names=ts_file_names, **generator_args)"
   ]
  },
  {
   "cell_type": "code",
   "execution_count": 4,
   "metadata": {},
   "outputs": [
    {
     "data": {
      "text/plain": [
       "['6_1_pretraining_1channel_alpha01_lr00001_20',\n",
       " '4_1_pretraining_3channel_alpha01_lr00001',\n",
       " 'pretraning_lr00001_3channel_addnoise',\n",
       " '1_alpha01_lr0001',\n",
       " '1_1_alpha01_lr00001',\n",
       " '6_pretraining_1channel_alpha01_lr0001',\n",
       " '9_CLAHE_CE',\n",
       " '5_pretraining_3channel_addnoise_alpha01_lr0001',\n",
       " '4_pretraining_3channel_alpha01_lr0001',\n",
       " '3_1_3channel_alpha01_lr00001',\n",
       " '.ipynb_checkpoints',\n",
       " '5_1_pretraining_3channel_addnoise_alpha01_lr00001',\n",
       " '9_CLAHE_CE_lr00001',\n",
       " '3_3channel_CE_1_CLAHE_alpha01_lr0001',\n",
       " 'prtraining_use3channel_lr00001',\n",
       " '2_1_alpha00_lr00001',\n",
       " 'prtraining_lr0001',\n",
       " '2_alpha00_lr0001',\n",
       " '3_3channel_CE_alpha01_lr0001',\n",
       " '3_3channel_alpha01_lr0001',\n",
       " '6_2_pretraining_1channel_alpha01_lr00001_epoch31',\n",
       " '3_3channel_CE_1_alpha01_lr0001']"
      ]
     },
     "execution_count": 4,
     "metadata": {},
     "output_type": "execute_result"
    }
   ],
   "source": [
    "os.listdir('../models/one_mask/New')"
   ]
  },
  {
   "cell_type": "code",
   "execution_count": 20,
   "metadata": {},
   "outputs": [
    {
     "data": {
      "text/plain": [
       "<tensorflow.python.training.tracking.util.CheckpointLoadStatus at 0x7f70f740dc10>"
      ]
     },
     "execution_count": 20,
     "metadata": {},
     "output_type": "execute_result"
    }
   ],
   "source": [
    "model = SMD_Unet(enc_filters=[64, 128, 256, 512, 1024], dec_filters=[512, 256, 64, 32], input_channel=3)\n",
    "\n",
    "model_name = \"3_3channel_CE_1_CLAHE_alpha01_lr0001/24\"\n",
    "model.load_weights(f'../models/one_mask/New/{model_name}')"
   ]
  },
  {
   "cell_type": "markdown",
   "metadata": {},
   "source": [
    "# Precision Recall만 계산하기"
   ]
  },
  {
   "cell_type": "code",
   "execution_count": 121,
   "metadata": {},
   "outputs": [],
   "source": [
    "model = SMD_Unet(enc_filters=[64, 128, 256, 512, 1024], dec_filters=[512, 256, 64, 32], input_channel=3)\n",
    "\n",
    "model_name = \"3_3channel_CE_1_CLAHE_alpha01_lr0001/24\"\n",
    "model.load_weights(f'../models/one_mask/New/3_1_3channel_alpha01_lr00001/8')\n",
    "\n",
    "preds = model(x_batch[0], only_recons=False, training=False)"
   ]
  },
  {
   "cell_type": "code",
   "execution_count": 10,
   "metadata": {},
   "outputs": [
    {
     "name": "stdout",
     "output_type": "stream",
     "text": [
      "3_3channel_CE_1_CLAHE_alpha01_lr0001/24\n"
     ]
    },
    {
     "name": "stderr",
     "output_type": "stream",
     "text": [
      " 35%|███▍      | 91/261 [01:49<03:24,  1.20s/it]\n"
     ]
    },
    {
     "ename": "KeyboardInterrupt",
     "evalue": "",
     "output_type": "error",
     "traceback": [
      "\u001b[0;31m---------------------------------------------------------------------------\u001b[0m",
      "\u001b[0;31mKeyboardInterrupt\u001b[0m                         Traceback (most recent call last)",
      "\u001b[0;32m/tmp/ipykernel_35/1335916220.py\u001b[0m in \u001b[0;36m<module>\u001b[0;34m\u001b[0m\n\u001b[1;32m     18\u001b[0m     \u001b[0mtr_precision_list\u001b[0m \u001b[0;34m=\u001b[0m \u001b[0;34m[\u001b[0m\u001b[0;34m]\u001b[0m\u001b[0;34m\u001b[0m\u001b[0;34m\u001b[0m\u001b[0m\n\u001b[1;32m     19\u001b[0m \u001b[0;34m\u001b[0m\u001b[0m\n\u001b[0;32m---> 20\u001b[0;31m     \u001b[0;32mfor\u001b[0m \u001b[0mx_batch\u001b[0m\u001b[0;34m,\u001b[0m \u001b[0my_batch\u001b[0m \u001b[0;32min\u001b[0m \u001b[0mtqdm\u001b[0m\u001b[0;34m(\u001b[0m\u001b[0mtr_fgadr_gen\u001b[0m\u001b[0;34m)\u001b[0m\u001b[0;34m:\u001b[0m\u001b[0;34m\u001b[0m\u001b[0;34m\u001b[0m\u001b[0m\n\u001b[0m\u001b[1;32m     21\u001b[0m         \u001b[0mpreds\u001b[0m \u001b[0;34m=\u001b[0m \u001b[0mmodel\u001b[0m\u001b[0;34m(\u001b[0m\u001b[0mx_batch\u001b[0m\u001b[0;34m[\u001b[0m\u001b[0;36m0\u001b[0m\u001b[0;34m]\u001b[0m\u001b[0;34m,\u001b[0m \u001b[0monly_recons\u001b[0m\u001b[0;34m=\u001b[0m\u001b[0;32mFalse\u001b[0m\u001b[0;34m,\u001b[0m \u001b[0mtraining\u001b[0m\u001b[0;34m=\u001b[0m\u001b[0;32mFalse\u001b[0m\u001b[0;34m)\u001b[0m\u001b[0;34m\u001b[0m\u001b[0;34m\u001b[0m\u001b[0m\n\u001b[1;32m     22\u001b[0m \u001b[0;34m\u001b[0m\u001b[0m\n",
      "\u001b[0;32m/opt/conda/lib/python3.9/site-packages/tqdm/std.py\u001b[0m in \u001b[0;36m__iter__\u001b[0;34m(self)\u001b[0m\n\u001b[1;32m   1178\u001b[0m \u001b[0;34m\u001b[0m\u001b[0m\n\u001b[1;32m   1179\u001b[0m         \u001b[0;32mtry\u001b[0m\u001b[0;34m:\u001b[0m\u001b[0;34m\u001b[0m\u001b[0;34m\u001b[0m\u001b[0m\n\u001b[0;32m-> 1180\u001b[0;31m             \u001b[0;32mfor\u001b[0m \u001b[0mobj\u001b[0m \u001b[0;32min\u001b[0m \u001b[0miterable\u001b[0m\u001b[0;34m:\u001b[0m\u001b[0;34m\u001b[0m\u001b[0;34m\u001b[0m\u001b[0m\n\u001b[0m\u001b[1;32m   1181\u001b[0m                 \u001b[0;32myield\u001b[0m \u001b[0mobj\u001b[0m\u001b[0;34m\u001b[0m\u001b[0;34m\u001b[0m\u001b[0m\n\u001b[1;32m   1182\u001b[0m                 \u001b[0;31m# Update and possibly print the progressbar.\u001b[0m\u001b[0;34m\u001b[0m\u001b[0;34m\u001b[0m\u001b[0m\n",
      "\u001b[0;32m/opt/conda/lib/python3.9/site-packages/keras/utils/data_utils.py\u001b[0m in \u001b[0;36m__iter__\u001b[0;34m(self)\u001b[0m\n\u001b[1;32m    481\u001b[0m   \u001b[0;32mdef\u001b[0m \u001b[0m__iter__\u001b[0m\u001b[0;34m(\u001b[0m\u001b[0mself\u001b[0m\u001b[0;34m)\u001b[0m\u001b[0;34m:\u001b[0m\u001b[0;34m\u001b[0m\u001b[0;34m\u001b[0m\u001b[0m\n\u001b[1;32m    482\u001b[0m     \u001b[0;34m\"\"\"Create a generator that iterate over the Sequence.\"\"\"\u001b[0m\u001b[0;34m\u001b[0m\u001b[0;34m\u001b[0m\u001b[0m\n\u001b[0;32m--> 483\u001b[0;31m     \u001b[0;32mfor\u001b[0m \u001b[0mitem\u001b[0m \u001b[0;32min\u001b[0m \u001b[0;34m(\u001b[0m\u001b[0mself\u001b[0m\u001b[0;34m[\u001b[0m\u001b[0mi\u001b[0m\u001b[0;34m]\u001b[0m \u001b[0;32mfor\u001b[0m \u001b[0mi\u001b[0m \u001b[0;32min\u001b[0m \u001b[0mrange\u001b[0m\u001b[0;34m(\u001b[0m\u001b[0mlen\u001b[0m\u001b[0;34m(\u001b[0m\u001b[0mself\u001b[0m\u001b[0;34m)\u001b[0m\u001b[0;34m)\u001b[0m\u001b[0;34m)\u001b[0m\u001b[0;34m:\u001b[0m\u001b[0;34m\u001b[0m\u001b[0;34m\u001b[0m\u001b[0m\n\u001b[0m\u001b[1;32m    484\u001b[0m       \u001b[0;32myield\u001b[0m \u001b[0mitem\u001b[0m\u001b[0;34m\u001b[0m\u001b[0;34m\u001b[0m\u001b[0m\n\u001b[1;32m    485\u001b[0m \u001b[0;34m\u001b[0m\u001b[0m\n",
      "\u001b[0;32m/opt/conda/lib/python3.9/site-packages/keras/utils/data_utils.py\u001b[0m in \u001b[0;36m<genexpr>\u001b[0;34m(.0)\u001b[0m\n\u001b[1;32m    481\u001b[0m   \u001b[0;32mdef\u001b[0m \u001b[0m__iter__\u001b[0m\u001b[0;34m(\u001b[0m\u001b[0mself\u001b[0m\u001b[0;34m)\u001b[0m\u001b[0;34m:\u001b[0m\u001b[0;34m\u001b[0m\u001b[0;34m\u001b[0m\u001b[0m\n\u001b[1;32m    482\u001b[0m     \u001b[0;34m\"\"\"Create a generator that iterate over the Sequence.\"\"\"\u001b[0m\u001b[0;34m\u001b[0m\u001b[0;34m\u001b[0m\u001b[0m\n\u001b[0;32m--> 483\u001b[0;31m     \u001b[0;32mfor\u001b[0m \u001b[0mitem\u001b[0m \u001b[0;32min\u001b[0m \u001b[0;34m(\u001b[0m\u001b[0mself\u001b[0m\u001b[0;34m[\u001b[0m\u001b[0mi\u001b[0m\u001b[0;34m]\u001b[0m \u001b[0;32mfor\u001b[0m \u001b[0mi\u001b[0m \u001b[0;32min\u001b[0m \u001b[0mrange\u001b[0m\u001b[0;34m(\u001b[0m\u001b[0mlen\u001b[0m\u001b[0;34m(\u001b[0m\u001b[0mself\u001b[0m\u001b[0;34m)\u001b[0m\u001b[0;34m)\u001b[0m\u001b[0;34m)\u001b[0m\u001b[0;34m:\u001b[0m\u001b[0;34m\u001b[0m\u001b[0;34m\u001b[0m\u001b[0m\n\u001b[0m\u001b[1;32m    484\u001b[0m       \u001b[0;32myield\u001b[0m \u001b[0mitem\u001b[0m\u001b[0;34m\u001b[0m\u001b[0;34m\u001b[0m\u001b[0m\n\u001b[1;32m    485\u001b[0m \u001b[0;34m\u001b[0m\u001b[0m\n",
      "\u001b[0;32m~/aiffel/Visuworks/code/assets/one_mask/data_generator_new.py\u001b[0m in \u001b[0;36m__getitem__\u001b[0;34m(self, index)\u001b[0m\n\u001b[1;32m    139\u001b[0m                 \u001b[0m_he\u001b[0m \u001b[0;34m=\u001b[0m \u001b[0mpreprocess_image\u001b[0m\u001b[0;34m(\u001b[0m\u001b[0moutput_paths\u001b[0m\u001b[0;34m[\u001b[0m\u001b[0;36m1\u001b[0m\u001b[0;34m]\u001b[0m\u001b[0;34m,\u001b[0m \u001b[0mimg_size\u001b[0m\u001b[0;34m=\u001b[0m\u001b[0mself\u001b[0m\u001b[0;34m.\u001b[0m\u001b[0mimg_size\u001b[0m\u001b[0;34m,\u001b[0m \u001b[0muse_hist\u001b[0m\u001b[0;34m=\u001b[0m\u001b[0;32mFalse\u001b[0m\u001b[0;34m)\u001b[0m\u001b[0;34m\u001b[0m\u001b[0;34m\u001b[0m\u001b[0m\n\u001b[1;32m    140\u001b[0m                 \u001b[0m_he\u001b[0m\u001b[0;34m[\u001b[0m\u001b[0m_he\u001b[0m \u001b[0;34m!=\u001b[0m \u001b[0;36m0\u001b[0m\u001b[0;34m]\u001b[0m \u001b[0;34m=\u001b[0m \u001b[0;36m1\u001b[0m\u001b[0;34m\u001b[0m\u001b[0;34m\u001b[0m\u001b[0m\n\u001b[0;32m--> 141\u001b[0;31m                 \u001b[0m_ma\u001b[0m \u001b[0;34m=\u001b[0m \u001b[0mpreprocess_image\u001b[0m\u001b[0;34m(\u001b[0m\u001b[0moutput_paths\u001b[0m\u001b[0;34m[\u001b[0m\u001b[0;36m2\u001b[0m\u001b[0;34m]\u001b[0m\u001b[0;34m,\u001b[0m \u001b[0mimg_size\u001b[0m\u001b[0;34m=\u001b[0m\u001b[0mself\u001b[0m\u001b[0;34m.\u001b[0m\u001b[0mimg_size\u001b[0m\u001b[0;34m,\u001b[0m \u001b[0muse_hist\u001b[0m\u001b[0;34m=\u001b[0m\u001b[0;32mFalse\u001b[0m\u001b[0;34m)\u001b[0m\u001b[0;34m\u001b[0m\u001b[0;34m\u001b[0m\u001b[0m\n\u001b[0m\u001b[1;32m    142\u001b[0m                 \u001b[0m_ma\u001b[0m\u001b[0;34m[\u001b[0m\u001b[0m_ma\u001b[0m \u001b[0;34m!=\u001b[0m \u001b[0;36m0\u001b[0m\u001b[0;34m]\u001b[0m \u001b[0;34m=\u001b[0m \u001b[0;36m1\u001b[0m\u001b[0;34m\u001b[0m\u001b[0;34m\u001b[0m\u001b[0m\n\u001b[1;32m    143\u001b[0m                 \u001b[0m_se\u001b[0m \u001b[0;34m=\u001b[0m \u001b[0mpreprocess_image\u001b[0m\u001b[0;34m(\u001b[0m\u001b[0moutput_paths\u001b[0m\u001b[0;34m[\u001b[0m\u001b[0;36m3\u001b[0m\u001b[0;34m]\u001b[0m\u001b[0;34m,\u001b[0m \u001b[0mimg_size\u001b[0m\u001b[0;34m=\u001b[0m\u001b[0mself\u001b[0m\u001b[0;34m.\u001b[0m\u001b[0mimg_size\u001b[0m\u001b[0;34m,\u001b[0m \u001b[0muse_hist\u001b[0m\u001b[0;34m=\u001b[0m\u001b[0;32mFalse\u001b[0m\u001b[0;34m)\u001b[0m\u001b[0;34m\u001b[0m\u001b[0;34m\u001b[0m\u001b[0m\n",
      "\u001b[0;32m~/aiffel/Visuworks/code/assets/one_mask/Preprocessing.py\u001b[0m in \u001b[0;36mpreprocess_image\u001b[0;34m(image_path, img_size, use_hist, use_3channel, CLAHE_args)\u001b[0m\n\u001b[1;32m     47\u001b[0m         \u001b[0mclipLimit\u001b[0m\u001b[0;34m,\u001b[0m \u001b[0mtileGridSize\u001b[0m \u001b[0;34m=\u001b[0m \u001b[0mCLAHE_args\u001b[0m\u001b[0;34m\u001b[0m\u001b[0;34m\u001b[0m\u001b[0m\n\u001b[1;32m     48\u001b[0m \u001b[0;34m\u001b[0m\u001b[0m\n\u001b[0;32m---> 49\u001b[0;31m     \u001b[0moriginal_image\u001b[0m \u001b[0;34m=\u001b[0m \u001b[0mcv2\u001b[0m\u001b[0;34m.\u001b[0m\u001b[0mimread\u001b[0m\u001b[0;34m(\u001b[0m\u001b[0mimage_path\u001b[0m\u001b[0;34m)\u001b[0m\u001b[0;34m\u001b[0m\u001b[0;34m\u001b[0m\u001b[0m\n\u001b[0m\u001b[1;32m     50\u001b[0m \u001b[0;34m\u001b[0m\u001b[0m\n\u001b[1;32m     51\u001b[0m     \u001b[0;32mif\u001b[0m \u001b[0muse_3channel\u001b[0m\u001b[0;34m:\u001b[0m\u001b[0;34m\u001b[0m\u001b[0;34m\u001b[0m\u001b[0m\n",
      "\u001b[0;31mKeyboardInterrupt\u001b[0m: "
     ]
    }
   ],
   "source": [
    "check_models = [\n",
    "    '3_3channel_CE_1_CLAHE_alpha01_lr0001/24',\n",
    "    '3_3channel_CE_1_alpha01_lr0001/50',\n",
    "    '3_3channel_CE_alpha01_lr0001/49',\n",
    "    '3_1_3channel_alpha01_lr00001/8']\n",
    "\n",
    "threshold = 0.001\n",
    "\n",
    "for model_name in check_models:\n",
    "    model = SMD_Unet(enc_filters=[64, 128, 256, 512, 1024], dec_filters=[512, 256, 64, 32], input_channel=3)\n",
    "    try:\n",
    "        model.load_weights(f'../models/one_mask/New/{model_name}')\n",
    "        print(model_name)\n",
    "        print(\"-\"*20, \"start\", \"-\"*20)\n",
    "    except:\n",
    "        continue\n",
    "    \n",
    "    tr_recall_list = []\n",
    "    tr_precision_list = []\n",
    "    \n",
    "    for x_batch, y_batch in tqdm(tr_fgadr_gen):\n",
    "        preds = model(x_batch[0], only_recons=False, training=False)\n",
    "\n",
    "        y_true = y_batch.numpy()\n",
    "        \n",
    "        y_pred = preds[1].numpy()\n",
    "        y_pred[y_pred > threshold] = 1\n",
    "        y_pred[y_pred != 1] = 0\n",
    "\n",
    "        tp = (y_true == y_pred).sum()\n",
    "        gt = y_true.sum()\n",
    "        \n",
    "        if gt == 0:\n",
    "            continue\n",
    "            \n",
    "        recall = tp / (gt + 1e-4)\n",
    "\n",
    "        pred = y_pred.sum()\n",
    "        precision = tp / (pred + 1e-4)\n",
    "        \n",
    "        tr_recall_list.append(recall)\n",
    "        tr_precision_list.append(precision)\n",
    "        \n",
    "\n",
    "    val_recall_list = []\n",
    "    val_precision_list = []\n",
    "    \n",
    "    for x_batch, y_batch in tqdm(val_fgadr_gen):\n",
    "        preds = model(x_batch[0], only_recons=False, training=False)\n",
    "\n",
    "        y_true = y_batch.numpy()\n",
    "        y_pred = preds[1].numpy()\n",
    "\n",
    "        tp = (y_true == y_pred).sum()\n",
    "        gt = y_true.sum()\n",
    "        recall = tp / gt\n",
    "\n",
    "        pred = y_pred.sum()\n",
    "        precision = tp / pred\n",
    "        \n",
    "        val_recall_list.append(recall)\n",
    "        val_precision_list.append(precision)\n",
    "    \n",
    "    print(f'train / recall : {np.mean(tr_recall_list):.4f} / precision : {np.mean(tr_precision_list):.4f}')\n",
    "    print(f'valid / recall : {np.mean(val_recall_list):.4f} / precision : {np.mean(val_precision_list):.4f}')\n",
    "    print('----------------------------------------------------')"
   ]
  },
  {
   "cell_type": "code",
   "execution_count": null,
   "metadata": {},
   "outputs": [],
   "source": []
  },
  {
   "cell_type": "code",
   "execution_count": null,
   "metadata": {},
   "outputs": [],
   "source": []
  },
  {
   "cell_type": "code",
   "execution_count": null,
   "metadata": {},
   "outputs": [],
   "source": []
  },
  {
   "cell_type": "code",
   "execution_count": null,
   "metadata": {},
   "outputs": [],
   "source": []
  },
  {
   "cell_type": "code",
   "execution_count": 59,
   "metadata": {},
   "outputs": [],
   "source": [
    "# Recall\n",
    "# TP / Ground Truth\n",
    "# 좁게 잡힌 애들로만 평가해야 신뢰도가 높을 것 같다.\n",
    "\n",
    "y_true = y_batch.numpy()\n",
    "y_pred = preds[1].numpy()\n",
    "\n",
    "tp = (y_true == y_hat).sum()\n",
    "gt = y_true.sum()\n",
    "\n",
    "recall = tp / gt\n",
    "\n",
    "# Precision\n",
    "# TP / Prediction\n",
    "\n",
    "pred = y_pred.sum()\n",
    "\n",
    "precision = tp / pred\n",
    "\n",
    "# mAP도 계산해보면 좋을 듯"
   ]
  },
  {
   "cell_type": "markdown",
   "metadata": {},
   "source": [
    "# mask loss만 따로 계산하기"
   ]
  },
  {
   "cell_type": "code",
   "execution_count": 25,
   "metadata": {
    "scrolled": true
   },
   "outputs": [
    {
     "name": "stderr",
     "output_type": "stream",
     "text": [
      "  1%|          | 2/261 [00:03<07:15,  1.68s/it]\n"
     ]
    },
    {
     "ename": "KeyboardInterrupt",
     "evalue": "",
     "output_type": "error",
     "traceback": [
      "\u001b[0;31m---------------------------------------------------------------------------\u001b[0m",
      "\u001b[0;31mKeyboardInterrupt\u001b[0m                         Traceback (most recent call last)",
      "\u001b[0;32m/tmp/ipykernel_31/3526938665.py\u001b[0m in \u001b[0;36m<module>\u001b[0;34m\u001b[0m\n\u001b[1;32m      1\u001b[0m \u001b[0mtrain_mask_losses\u001b[0m \u001b[0;34m=\u001b[0m \u001b[0;34m[\u001b[0m\u001b[0;34m]\u001b[0m\u001b[0;34m\u001b[0m\u001b[0;34m\u001b[0m\u001b[0m\n\u001b[1;32m      2\u001b[0m \u001b[0;34m\u001b[0m\u001b[0m\n\u001b[0;32m----> 3\u001b[0;31m \u001b[0;32mfor\u001b[0m \u001b[0mx_batch\u001b[0m\u001b[0;34m,\u001b[0m \u001b[0my_batch\u001b[0m \u001b[0;32min\u001b[0m \u001b[0mtqdm\u001b[0m\u001b[0;34m(\u001b[0m\u001b[0mtr_fgadr_gen\u001b[0m\u001b[0;34m)\u001b[0m\u001b[0;34m:\u001b[0m\u001b[0;34m\u001b[0m\u001b[0;34m\u001b[0m\u001b[0m\n\u001b[0m\u001b[1;32m      4\u001b[0m     \u001b[0mpreds\u001b[0m \u001b[0;34m=\u001b[0m \u001b[0mmodel\u001b[0m\u001b[0;34m(\u001b[0m\u001b[0mx_batch\u001b[0m\u001b[0;34m[\u001b[0m\u001b[0;36m0\u001b[0m\u001b[0;34m]\u001b[0m\u001b[0;34m,\u001b[0m \u001b[0monly_recons\u001b[0m\u001b[0;34m=\u001b[0m\u001b[0;32mFalse\u001b[0m\u001b[0;34m,\u001b[0m \u001b[0mtraining\u001b[0m\u001b[0;34m=\u001b[0m\u001b[0;32mFalse\u001b[0m\u001b[0;34m)\u001b[0m\u001b[0;34m\u001b[0m\u001b[0;34m\u001b[0m\u001b[0m\n\u001b[1;32m      5\u001b[0m \u001b[0;34m\u001b[0m\u001b[0m\n",
      "\u001b[0;32m/opt/conda/lib/python3.9/site-packages/tqdm/std.py\u001b[0m in \u001b[0;36m__iter__\u001b[0;34m(self)\u001b[0m\n\u001b[1;32m   1178\u001b[0m \u001b[0;34m\u001b[0m\u001b[0m\n\u001b[1;32m   1179\u001b[0m         \u001b[0;32mtry\u001b[0m\u001b[0;34m:\u001b[0m\u001b[0;34m\u001b[0m\u001b[0;34m\u001b[0m\u001b[0m\n\u001b[0;32m-> 1180\u001b[0;31m             \u001b[0;32mfor\u001b[0m \u001b[0mobj\u001b[0m \u001b[0;32min\u001b[0m \u001b[0miterable\u001b[0m\u001b[0;34m:\u001b[0m\u001b[0;34m\u001b[0m\u001b[0;34m\u001b[0m\u001b[0m\n\u001b[0m\u001b[1;32m   1181\u001b[0m                 \u001b[0;32myield\u001b[0m \u001b[0mobj\u001b[0m\u001b[0;34m\u001b[0m\u001b[0;34m\u001b[0m\u001b[0m\n\u001b[1;32m   1182\u001b[0m                 \u001b[0;31m# Update and possibly print the progressbar.\u001b[0m\u001b[0;34m\u001b[0m\u001b[0;34m\u001b[0m\u001b[0m\n",
      "\u001b[0;32m/opt/conda/lib/python3.9/site-packages/keras/utils/data_utils.py\u001b[0m in \u001b[0;36m__iter__\u001b[0;34m(self)\u001b[0m\n\u001b[1;32m    481\u001b[0m   \u001b[0;32mdef\u001b[0m \u001b[0m__iter__\u001b[0m\u001b[0;34m(\u001b[0m\u001b[0mself\u001b[0m\u001b[0;34m)\u001b[0m\u001b[0;34m:\u001b[0m\u001b[0;34m\u001b[0m\u001b[0;34m\u001b[0m\u001b[0m\n\u001b[1;32m    482\u001b[0m     \u001b[0;34m\"\"\"Create a generator that iterate over the Sequence.\"\"\"\u001b[0m\u001b[0;34m\u001b[0m\u001b[0;34m\u001b[0m\u001b[0m\n\u001b[0;32m--> 483\u001b[0;31m     \u001b[0;32mfor\u001b[0m \u001b[0mitem\u001b[0m \u001b[0;32min\u001b[0m \u001b[0;34m(\u001b[0m\u001b[0mself\u001b[0m\u001b[0;34m[\u001b[0m\u001b[0mi\u001b[0m\u001b[0;34m]\u001b[0m \u001b[0;32mfor\u001b[0m \u001b[0mi\u001b[0m \u001b[0;32min\u001b[0m \u001b[0mrange\u001b[0m\u001b[0;34m(\u001b[0m\u001b[0mlen\u001b[0m\u001b[0;34m(\u001b[0m\u001b[0mself\u001b[0m\u001b[0;34m)\u001b[0m\u001b[0;34m)\u001b[0m\u001b[0;34m)\u001b[0m\u001b[0;34m:\u001b[0m\u001b[0;34m\u001b[0m\u001b[0;34m\u001b[0m\u001b[0m\n\u001b[0m\u001b[1;32m    484\u001b[0m       \u001b[0;32myield\u001b[0m \u001b[0mitem\u001b[0m\u001b[0;34m\u001b[0m\u001b[0;34m\u001b[0m\u001b[0m\n\u001b[1;32m    485\u001b[0m \u001b[0;34m\u001b[0m\u001b[0m\n",
      "\u001b[0;32m/opt/conda/lib/python3.9/site-packages/keras/utils/data_utils.py\u001b[0m in \u001b[0;36m<genexpr>\u001b[0;34m(.0)\u001b[0m\n\u001b[1;32m    481\u001b[0m   \u001b[0;32mdef\u001b[0m \u001b[0m__iter__\u001b[0m\u001b[0;34m(\u001b[0m\u001b[0mself\u001b[0m\u001b[0;34m)\u001b[0m\u001b[0;34m:\u001b[0m\u001b[0;34m\u001b[0m\u001b[0;34m\u001b[0m\u001b[0m\n\u001b[1;32m    482\u001b[0m     \u001b[0;34m\"\"\"Create a generator that iterate over the Sequence.\"\"\"\u001b[0m\u001b[0;34m\u001b[0m\u001b[0;34m\u001b[0m\u001b[0m\n\u001b[0;32m--> 483\u001b[0;31m     \u001b[0;32mfor\u001b[0m \u001b[0mitem\u001b[0m \u001b[0;32min\u001b[0m \u001b[0;34m(\u001b[0m\u001b[0mself\u001b[0m\u001b[0;34m[\u001b[0m\u001b[0mi\u001b[0m\u001b[0;34m]\u001b[0m \u001b[0;32mfor\u001b[0m \u001b[0mi\u001b[0m \u001b[0;32min\u001b[0m \u001b[0mrange\u001b[0m\u001b[0;34m(\u001b[0m\u001b[0mlen\u001b[0m\u001b[0;34m(\u001b[0m\u001b[0mself\u001b[0m\u001b[0;34m)\u001b[0m\u001b[0;34m)\u001b[0m\u001b[0;34m)\u001b[0m\u001b[0;34m:\u001b[0m\u001b[0;34m\u001b[0m\u001b[0;34m\u001b[0m\u001b[0m\n\u001b[0m\u001b[1;32m    484\u001b[0m       \u001b[0;32myield\u001b[0m \u001b[0mitem\u001b[0m\u001b[0;34m\u001b[0m\u001b[0;34m\u001b[0m\u001b[0m\n\u001b[1;32m    485\u001b[0m \u001b[0;34m\u001b[0m\u001b[0m\n",
      "\u001b[0;32m~/aiffel/Visuworks/code/assets/one_mask/data_generator_new.py\u001b[0m in \u001b[0;36m__getitem__\u001b[0;34m(self, index)\u001b[0m\n\u001b[1;32m    155\u001b[0m \u001b[0;34m\u001b[0m\u001b[0m\n\u001b[1;32m    156\u001b[0m             \u001b[0;31m# image\u001b[0m\u001b[0;34m\u001b[0m\u001b[0;34m\u001b[0m\u001b[0m\n\u001b[0;32m--> 157\u001b[0;31m             _input = preprocess_image(input_img_path, \n\u001b[0m\u001b[1;32m    158\u001b[0m                                       \u001b[0mimg_size\u001b[0m\u001b[0;34m=\u001b[0m\u001b[0mself\u001b[0m\u001b[0;34m.\u001b[0m\u001b[0mimg_size\u001b[0m\u001b[0;34m,\u001b[0m\u001b[0;34m\u001b[0m\u001b[0;34m\u001b[0m\u001b[0m\n\u001b[1;32m    159\u001b[0m                                       \u001b[0muse_3channel\u001b[0m\u001b[0;34m=\u001b[0m\u001b[0mself\u001b[0m\u001b[0;34m.\u001b[0m\u001b[0muse_3channel\u001b[0m\u001b[0;34m,\u001b[0m\u001b[0;34m\u001b[0m\u001b[0;34m\u001b[0m\u001b[0m\n",
      "\u001b[0;32m~/aiffel/Visuworks/code/assets/one_mask/Preprocessing.py\u001b[0m in \u001b[0;36mpreprocess_image\u001b[0;34m(image_path, img_size, use_hist, use_3channel, CLAHE_args)\u001b[0m\n\u001b[1;32m     47\u001b[0m         \u001b[0mclipLimit\u001b[0m\u001b[0;34m,\u001b[0m \u001b[0mtileGridSize\u001b[0m \u001b[0;34m=\u001b[0m \u001b[0mCLAHE_args\u001b[0m\u001b[0;34m\u001b[0m\u001b[0;34m\u001b[0m\u001b[0m\n\u001b[1;32m     48\u001b[0m \u001b[0;34m\u001b[0m\u001b[0m\n\u001b[0;32m---> 49\u001b[0;31m     \u001b[0moriginal_image\u001b[0m \u001b[0;34m=\u001b[0m \u001b[0mcv2\u001b[0m\u001b[0;34m.\u001b[0m\u001b[0mimread\u001b[0m\u001b[0;34m(\u001b[0m\u001b[0mimage_path\u001b[0m\u001b[0;34m)\u001b[0m\u001b[0;34m\u001b[0m\u001b[0;34m\u001b[0m\u001b[0m\n\u001b[0m\u001b[1;32m     50\u001b[0m \u001b[0;34m\u001b[0m\u001b[0m\n\u001b[1;32m     51\u001b[0m     \u001b[0;32mif\u001b[0m \u001b[0muse_3channel\u001b[0m\u001b[0;34m:\u001b[0m\u001b[0;34m\u001b[0m\u001b[0;34m\u001b[0m\u001b[0m\n",
      "\u001b[0;31mKeyboardInterrupt\u001b[0m: "
     ]
    }
   ],
   "source": [
    "train_mask_losses = []\n",
    "\n",
    "for x_batch, y_batch in tqdm(tr_fgadr_gen):\n",
    "    preds = model(x_batch[0], only_recons=False, training=False)\n",
    "    \n",
    "    mask_loss = dice_loss(y_batch, preds[1])\n",
    "    \n",
    "    train_mask_losses.append(mask_loss.numpy())\n",
    "    \n",
    "print(f\"mask_train_loss: {np.mean(train_mask_losses)}\")\n",
    "\n",
    "val_mask_losses = []\n",
    "\n",
    "\n",
    "for x_batch, y_batch in tqdm(val_fgadr_gen):\n",
    "    \n",
    "    preds = model(x_batch[0], only_recons=False, training=False)\n",
    "    \n",
    "    mask_loss = dice_loss(y_batch, preds[1])\n",
    "    \n",
    "    val_mask_losses.append(mask_loss.numpy())\n",
    "    \n",
    "print(f\"mask_val_loss: {np.mean(val_mask_losses)}\")"
   ]
  },
  {
   "cell_type": "code",
   "execution_count": null,
   "metadata": {},
   "outputs": [],
   "source": [
    "1\t1_alpha01_lr0001/28\n",
    "1-1\t1_1_alpha01_lr00001/38\n",
    "2\t2_alpha00_lr0001/28\n",
    "2-1\t2_1_alpha00_lr00001/16\n",
    "3\t3_3channel_alpha01_lr0001/38\n",
    "3-1\t3_1_3channel_alpha01_lr00001/8\n",
    "3-2\t3_3channel_CE_alpha01_lr0001/49\n",
    "3-3\t3_3channel_CE_1_alpha01_lr0001/50\n",
    "4\t4_pretraining_3channel_alpha01_lr0001/49\n",
    "4-1\t4_1_pretraining_3channel_alpha01_lr00001/6\n",
    "5\t5_pretraining_3channel_addnoise_alpha01_lr0001/28\n",
    "5-1\t5_1_pretraining_3channel_addnoise_alpha01_lr00001/9\n",
    "6\t6_pretraining_1channel_alpha01_lr0001/20, 31\n",
    "6-1\t6_1_pretraining_1channel_alpha01_lr00001_epoch20\n",
    "6-2\t6_2_pretraining_1channel_alpha01_lr00001_epoch31\n",
    "pretraining-1\tpretraining_use3channel_lr00001/1\n",
    "pretraining-2\tpretraning_lr00001_3channel_addnoise/1\n",
    "pretraining-3\tpretraining_lr0001/1\n",
    "7\t\n",
    "8\t3_3channel_CE_1_CLAHE_alpha01_lr0001/24"
   ]
  },
  {
   "cell_type": "code",
   "execution_count": null,
   "metadata": {},
   "outputs": [],
   "source": []
  },
  {
   "cell_type": "markdown",
   "metadata": {},
   "source": [
    "# 모델 결과 시각화"
   ]
  },
  {
   "cell_type": "code",
   "execution_count": 5,
   "metadata": {},
   "outputs": [],
   "source": [
    "from assets.one_mask.utils import parse_history_text\n",
    "import matplotlib.pyplot as plt\n",
    "from matplotlib.ticker import StrMethodFormatter"
   ]
  },
  {
   "cell_type": "code",
   "execution_count": 7,
   "metadata": {},
   "outputs": [
    {
     "data": {
      "image/png": "[encoded data removed]",
      "text/plain": [
       "<Figure size 432x288 with 1 Axes>"
      ]
     },
     "metadata": {
      "needs_background": "light"
     },
     "output_type": "display_data"
    }
   ],
   "source": [
    "history = parse_history_text('history/one_mask/New/6_1_pretraining_1channel_alpha01_lr00001_20.txt')\n",
    "\n",
    "plt.plot(history['epoch'], history['train_mask_loss'], label='train_mask_loss')\n",
    "plt.plot(history['epoch'], history['val_mask_loss'], label='val_mask_loss')\n",
    "\n",
    "plt.title('6_1_pretraining_1channel_alpha01_lr00001_20')\n",
    "plt.legend()\n",
    "plt.show()"
   ]
  },
  {
   "cell_type": "code",
   "execution_count": null,
   "metadata": {},
   "outputs": [],
   "source": [
    "history = parse_history_text('history/one_mask/5_1_pretraining_3channel_addnoise_alpha01_lr00001.txt')\n",
    "\n",
    "plt.plot(history['epoch'], history['train_mask_loss'], label='lr0.001')\n",
    "plt.plot(history['epoch'], history['val_mask_loss'], label='lr0.001')\n",
    "\n",
    "\n",
    "history = parse_history_text('history/one_mask/withoutCLAHE_withoutRecons_alpha00_lr00001.txt')\n",
    "\n",
    "plt.plot(history['epoch'], history['train_mask_loss'], label='lr0.0001', linestyle='--')\n",
    "plt.plot(history['epoch'], history['val_mask_loss'], label='lr0.0001', linestyle='--')\n",
    "\n",
    "plt.title('lr')\n",
    "plt.legend()\n",
    "plt.show()"
   ]
  },
  {
   "cell_type": "markdown",
   "metadata": {},
   "source": [
    "# 평가지표"
   ]
  },
  {
   "cell_type": "code",
   "execution_count": 2,
   "metadata": {},
   "outputs": [],
   "source": [
    "import os\n",
    "from assets.evaluation.evaluate_result import evaluate_main"
   ]
  },
  {
   "cell_type": "code",
   "execution_count": 8,
   "metadata": {},
   "outputs": [
    {
     "name": "stderr",
     "output_type": "stream",
     "text": [
      "100%|██████████| 138/138 [02:51<00:00,  1.24s/it]"
     ]
    },
    {
     "name": "stdout",
     "output_type": "stream",
     "text": [
      "CSV 파일 저장 완료: assets/evaluation/evaluation_results_csv/3_1_3channel_alpha01_lr00001_validation_evaluation_result.csv\n"
     ]
    },
    {
     "name": "stderr",
     "output_type": "stream",
     "text": [
      "\n"
     ]
    }
   ],
   "source": [
    "generator_type = 'validation'  # 원하는 generator 타입 선택: 'train', 'validation', 또는 'test'\n",
    "input_channel = 3         # 3channel은 3, 1channel은 1\n",
    "use_3channel = True     # 3channel은 True, 1channel은 False\n",
    "model_path = \"../models/one_mask/New/3_1_3channel_alpha01_lr00001/8\"  # 모델 경로 지정\n",
    "result_df = evaluate_main(generator_type, model_path, input_channel, use_3channel)"
   ]
  },
  {
   "cell_type": "markdown",
   "metadata": {},
   "source": [
    "# Prediction 결과 시각화"
   ]
  },
  {
   "cell_type": "code",
   "execution_count": 14,
   "metadata": {},
   "outputs": [],
   "source": [
    "import pandas as pd\n",
    "\n",
    "result_df = pd.read_csv(\"../data/Seg-set/DR_Seg_Grading_Label.csv\", header=None)"
   ]
  },
  {
   "cell_type": "code",
   "execution_count": 21,
   "metadata": {
    "scrolled": true
   },
   "outputs": [],
   "source": [
    "# from assets.evaluation.evaluation_visual import visualize_segmentation_results\n",
    "\n",
    "# # image_filenames = [\"0381_1.png\", \"0311_1.png\", \"1134_1.png\", \"1181_3.png\"]  # 원하는 이미지 파일명으로 수정\n",
    "\n",
    "# image_filenames = result_df.iloc[1500:][0]\n",
    "\n",
    "# model_path = \"../models/one_mask/3_3channel_alpha01_lr0001/38\"\n",
    "# image_dir = '../data/Seg-set/Original_Images/'\n",
    "# mask_dir = '../data/Seg-set'\n",
    "# visualize_segmentation_results(image_filenames, model_path, image_dir=image_dir, mask_dir=mask_dir)"
   ]
  }
 ],
 "metadata": {
  "kernelspec": {
   "display_name": "Python 3 (ipykernel)",
   "language": "python",
   "name": "python3"
  },
  "language_info": {
   "codemirror_mode": {
    "name": "ipython",
    "version": 3
   },
   "file_extension": ".py",
   "mimetype": "text/x-python",
   "name": "python",
   "nbconvert_exporter": "python",
   "pygments_lexer": "ipython3",
   "version": "3.9.7"
  }
 },
 "nbformat": 4,
 "nbformat_minor": 2
}
