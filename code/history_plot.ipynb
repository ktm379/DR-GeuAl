{
 "cells": [
  {
   "cell_type": "code",
   "execution_count": null,
   "metadata": {},
   "outputs": [],
   "source": [
    "def parse_history_text(path):\n",
    "    history = {}\n",
    "    \n",
    "    tr_loss = []\n",
    "    tr_mask_loss = []\n",
    "    tr_recons_loss = []\n",
    "    \n",
    "    val_loss = []\n",
    "    val_mask_loss = []\n",
    "    val_recons_loss = []\n",
    "    \n",
    "    with open(path, 'r') as f:\n",
    "        lines = f.readlines()\n",
    "        \n",
    "        for i, line in enumerate(lines):\n",
    "            splits = line.split('/')\n",
    "            \n",
    "            epoch = int(splits[0][6:])\n",
    "            mask_loss = float(splits[2][10:])\n",
    "            recons_loss = float(splits[3][12:])\n",
    "            \n",
    "            if i % 2 == 0:        \n",
    "                train_loss = float(splits[1][11:])\n",
    "                \n",
    "                tr_loss.append(train_loss)\n",
    "                tr_mask_loss.append(mask_loss)\n",
    "                tr_recons_loss.append(recons_loss)\n",
    "            else:\n",
    "                val_loss = float(splits[1][9:])\n",
    "                \n",
    "        "
   ]
  },
  {
   "cell_type": "code",
   "execution_count": 2,
   "metadata": {},
   "outputs": [
    {
     "data": {
      "text/plain": [
       "['without_recons.txt', 'with_recons.txt']"
      ]
     },
     "execution_count": 2,
     "metadata": {},
     "output_type": "execute_result"
    }
   ],
   "source": [
    "import os\n",
    "\n",
    "os.listdir('history')"
   ]
  },
  {
   "cell_type": "code",
   "execution_count": 41,
   "metadata": {},
   "outputs": [
    {
     "name": "stdout",
     "output_type": "stream",
     "text": [
      "['epoch:1', 'val_loss:0.8617342970918899', 'mask_loss:0.9574668879563479', 'recons_loss:0.0001409935770346277\\n']\n",
      "['epoch:2', 'val_loss:0.8616461316775251', 'mask_loss:0.9573788628045924', 'recons_loss:5.1565799209208265e-05\\n']\n",
      "['epoch:3', 'val_loss:0.8616684070094599', 'mask_loss:0.9574052518567373', 'recons_loss:3.681764986180022e-05\\n']\n",
      "['epoch:4', 'val_loss:0.861549524756098', 'mask_loss:0.9572739947863509', 'recons_loss:2.9308747877581958e-05\\n']\n",
      "['epoch:5', 'val_loss:0.8615813568383746', 'mask_loss:0.9573091583574889', 'recons_loss:3.115743089912702e-05\\n']\n",
      "['epoch:6', 'val_loss:0.8614096898064965', 'mask_loss:0.9571193033738052', 'recons_loss:2.318196256174301e-05\\n']\n",
      "['epoch:7', 'val_loss:0.8612992186355656', 'mask_loss:0.9569957289495998', 'recons_loss:3.0640069148237515e-05\\n']\n",
      "['epoch:8', 'val_loss:0.8612311306295182', 'mask_loss:0.9569060780703458', 'recons_loss:0.0001566179187490058\\n']\n",
      "['epoch:9', 'val_loss:0.8562332126660728', 'mask_loss:0.9513446583829667', 'recons_loss:0.00023021538673555884\\n']\n",
      "['epoch:10', 'val_loss:0.8547250594085594', 'mask_loss:0.9496840463542803', 'recons_loss:9.419104706308724e-05\\n']\n",
      "['epoch:11', 'val_loss:0.8524554193829914', 'mask_loss:0.9471640583281729', 'recons_loss:7.768298904841726e-05\\n']\n",
      "['epoch:12', 'val_loss:0.8500079209712126', 'mask_loss:0.9444455518066606', 'recons_loss:6.925752448138235e-05\\n']\n",
      "['epoch:13', 'val_loss:0.8488365339451776', 'mask_loss:0.9431433286980699', 'recons_loss:7.53952219541964e-05\\n']\n",
      "['epoch:14', 'val_loss:0.8471180235899916', 'mask_loss:0.9412348452581893', 'recons_loss:6.664260071493513e-05\\n']\n",
      "['epoch:15', 'val_loss:0.8460752919130566', 'mask_loss:0.9400754432940382', 'recons_loss:7.39434913355027e-05\\n']\n",
      "['epoch:16', 'val_loss:0.8457370265645526', 'mask_loss:0.9397003205094542', 'recons_loss:6.739506206149994e-05\\n']\n",
      "['epoch:17', 'val_loss:0.8444733323943513', 'mask_loss:0.9382957007001889', 'recons_loss:7.20316224349359e-05\\n']\n",
      "['epoch:18', 'val_loss:0.8438585760742809', 'mask_loss:0.9376111352952866', 'recons_loss:8.555705544890573e-05\\n']\n",
      "['epoch:19', 'val_loss:0.8433290057320469', 'mask_loss:0.9370233673568688', 'recons_loss:7.976507019876685e-05\\n']\n",
      "['epoch:20', 'val_loss:0.8432082810453055', 'mask_loss:0.9368882118145426', 'recons_loss:8.89180815726792e-05\\n']\n",
      "['epoch:21', 'val_loss:0.8428703194808528', 'mask_loss:0.9365135966915791', 'recons_loss:8.08385382539279e-05\\n']\n",
      "['epoch:22', 'val_loss:0.8419062541734886', 'mask_loss:0.9354418288840217', 'recons_loss:8.609571657712956e-05\\n']\n",
      "['epoch:23', 'val_loss:0.8423869066612891', 'mask_loss:0.9359760385608797', 'recons_loss:8.473351084356419e-05\\n']\n",
      "['epoch:24', 'val_loss:0.8410507011857619', 'mask_loss:0.9344915620555387', 'recons_loss:8.296728154401417e-05\\n']\n",
      "['epoch:25', 'val_loss:0.83900630963074', 'mask_loss:0.9322225452275815', 'recons_loss:6.020314946869368e-05\\n']\n",
      "['epoch:26', 'val_loss:0.840588753451784', 'mask_loss:0.9339801305021219', 'recons_loss:6.637391514073977e-05\\n']\n",
      "['epoch:27', 'val_loss:0.8394820323165891', 'mask_loss:0.9327503314879477', 'recons_loss:6.735367242072243e-05\\n']\n",
      "['epoch:28', 'val_loss:0.8380695860867865', 'mask_loss:0.9311815595553756', 'recons_loss:6.183874424807627e-05\\n']\n",
      "['epoch:29', 'val_loss:0.8360999342077728', 'mask_loss:0.9289932605940068', 'recons_loss:6.001057385140524e-05\\n']\n",
      "['epoch:30', 'val_loss:0.8347445442127741', 'mask_loss:0.9274868638607413', 'recons_loss:6.368120075026324e-05\\n']\n",
      "['epoch:31', 'val_loss:0.8343721871482386', 'mask_loss:0.9270745609806765', 'recons_loss:5.083647002997484e-05\\n']\n",
      "['epoch:32', 'val_loss:0.8347298692384651', 'mask_loss:0.9274721088214664', 'recons_loss:4.9726811124381364e-05\\n']\n",
      "['epoch:33', 'val_loss:0.8328217303544213', 'mask_loss:0.9253513614588261', 'recons_loss:5.506420276778163e-05\\n']\n",
      "['epoch:34', 'val_loss:0.8307747265819073', 'mask_loss:0.9230771809123912', 'recons_loss:5.265136168537024e-05\\n']\n",
      "['epoch:35', 'val_loss:0.8316910668245225', 'mask_loss:0.9240941121181854', 'recons_loss:6.367295068428021e-05\\n']\n",
      "['epoch:36', 'val_loss:0.8323142961298626', 'mask_loss:0.924787745743225', 'recons_loss:5.3263389220418226e-05\\n']\n",
      "['epoch:37', 'val_loss:0.8337030176076297', 'mask_loss:0.926330597036959', 'recons_loss:5.481654625327792e-05\\n']\n",
      "['epoch:38', 'val_loss:0.8316935423885717', 'mask_loss:0.9240948721281214', 'recons_loss:8.158850149534966e-05\\n']\n",
      "['epoch:39', 'val_loss:0.8292500815217805', 'mask_loss:0.9213832844486995', 'recons_loss:5.126890842486477e-05\\n']\n",
      "['epoch:40', 'val_loss:0.8254481800955853', 'mask_loss:0.9171575899294434', 'recons_loss:6.35052566276104e-05\\n']\n",
      "['epoch:41', 'val_loss:0.8259615211096587', 'mask_loss:0.9177288822351372', 'recons_loss:5.5284654753568645e-05\\n']\n",
      "['epoch:42', 'val_loss:0.8251794862686538', 'mask_loss:0.9168588568484032', 'recons_loss:6.516471219821024e-05\\n']\n",
      "['epoch:43', 'val_loss:0.830409444676413', 'mask_loss:0.9226693676095074', 'recons_loss:7.015202636071278e-05\\n']\n",
      "['epoch:44', 'val_loss:0.8305942557911278', 'mask_loss:0.9228758760554537', 'recons_loss:5.968716322968248e-05\\n']\n",
      "['epoch:45', 'val_loss:0.8277228790934238', 'mask_loss:0.9196839988693992', 'recons_loss:7.281481291853277e-05\\n']\n",
      "['epoch:46', 'val_loss:0.8265954748205758', 'mask_loss:0.9184335853798886', 'recons_loss:5.24934717047828e-05\\n']\n",
      "['epoch:47', 'val_loss:0.8261560393735621', 'mask_loss:0.9179443964702104', 'recons_loss:6.0839181257862315e-05\\n']\n",
      "['epoch:48', 'val_loss:0.8227513527589807', 'mask_loss:0.914160091528042', 'recons_loss:7.271745839123311e-05\\n']\n",
      "['epoch:49', 'val_loss:0.8233518642674417', 'mask_loss:0.9148300665122266', 'recons_loss:4.805769569192426e-05\\n']\n",
      "['epoch:50', 'val_loss:0.8255414422186741', 'mask_loss:0.9172620984836086', 'recons_loss:5.5549501706517056e-05\\n']\n",
      "['epoch:51', 'val_loss:0.8251756167039216', 'mask_loss:0.9168555736646403', 'recons_loss:5.601771883210977e-05\\n']\n",
      "['epoch:52', 'val_loss:0.8250991672102524', 'mask_loss:0.9167710442978059', 'recons_loss:5.228708244470434e-05\\n']\n",
      "['epoch:53', 'val_loss:0.820570694162097', 'mask_loss:0.9117397021992545', 'recons_loss:4.963541291742687e-05\\n']\n",
      "['epoch:54', 'val_loss:0.8209411139704733', 'mask_loss:0.9121514413031345', 'recons_loss:4.8181567921267785e-05\\n']\n",
      "['epoch:55', 'val_loss:0.8173362058520933', 'mask_loss:0.9081457265577145', 'recons_loss:5.053303317728695e-05\\n']\n",
      "['epoch:56', 'val_loss:0.8132830649034315', 'mask_loss:0.9036423559761665', 'recons_loss:4.9458713400109325e-05\\n']\n",
      "['epoch:57', 'val_loss:0.8191141259919883', 'mask_loss:0.9101212941095472', 'recons_loss:4.96264950846165e-05\\n']\n",
      "['epoch:58', 'val_loss:0.8168289610521223', 'mask_loss:0.9075821133728973', 'recons_loss:5.060368841994837e-05\\n']\n",
      "['epoch:59', 'val_loss:0.8119144282214805', 'mask_loss:0.9021196968244887', 'recons_loss:6.70242360407112e-05\\n']\n",
      "['epoch:60', 'val_loss:0.8128556401524711', 'mask_loss:0.9031674352507462', 'recons_loss:4.9497725503106665e-05\\n']\n",
      "['epoch:61', 'val_loss:0.8085523870589894', 'mask_loss:0.8983862867644293', 'recons_loss:4.7303096321031816e-05\\n']\n",
      "['epoch:62', 'val_loss:0.8119811880071017', 'mask_loss:0.9021945048549133', 'recons_loss:6.134981962848384e-05\\n']\n",
      "['epoch:63', 'val_loss:0.8098364683510408', 'mask_loss:0.8998122494317687', 'recons_loss:5.445203192800324e-05\\n']\n",
      "['epoch:64', 'val_loss:0.8088333807748068', 'mask_loss:0.8986944217372073', 'recons_loss:8.402550354177315e-05\\n']\n",
      "['epoch:65', 'val_loss:0.8060220354565335', 'mask_loss:0.8955737724996438', 'recons_loss:5.641541278948906e-05\\n']\n",
      "['epoch:66', 'val_loss:0.806830608818578', 'mask_loss:0.8964731208687609', 'recons_loss:4.801372470746687e-05\\n']\n",
      "['epoch:67', 'val_loss:0.8022152552218147', 'mask_loss:0.8913441155785339', 'recons_loss:5.5525292578829024e-05\\n']\n",
      "['epoch:68', 'val_loss:0.8005878333384036', 'mask_loss:0.8895335870454552', 'recons_loss:7.606322888813852e-05\\n']\n",
      "['epoch:69', 'val_loss:0.8022750160638111', 'mask_loss:0.8914106887048362', 'recons_loss:5.3975576836661354e-05\\n']\n",
      "['epoch:70', 'val_loss:0.8040003471226894', 'mask_loss:0.8933276462912828', 'recons_loss:5.466791615459521e-05\\n']\n",
      "['epoch:71', 'val_loss:0.8076761593996483', 'mask_loss:0.8974114290485775', 'recons_loss:5.8745930879882984e-05\\n']\n",
      "['epoch:72', 'val_loss:0.7996787570558546', 'mask_loss:0.8885249176785959', 'recons_loss:6.332469029471015e-05\\n']\n",
      "['epoch:73', 'val_loss:0.7982518381872756', 'mask_loss:0.8869371054210776', 'recons_loss:8.44462981900585e-05\\n']\n",
      "['epoch:74', 'val_loss:0.793415191504357', 'mask_loss:0.8815643738919109', 'recons_loss:7.25631516220544e-05\\n']\n",
      "['epoch:75', 'val_loss:0.7951357829392017', 'mask_loss:0.883476150075148', 'recons_loss:7.249187942563921e-05\\n']\n",
      "['epoch:76', 'val_loss:0.7947331496114648', 'mask_loss:0.8830270490503418', 'recons_loss:8.806781838559445e-05\\n']\n",
      "['epoch:77', 'val_loss:0.7966541949566726', 'mask_loss:0.8851640253459172', 'recons_loss:6.573464246605948e-05\\n']\n",
      "['epoch:78', 'val_loss:0.7920905206388013', 'mask_loss:0.8800914965886856', 'recons_loss:8.175020301005925e-05\\n']\n",
      "['epoch:79', 'val_loss:0.7851599190246661', 'mask_loss:0.872392309855703', 'recons_loss:6.841454397426392e-05\\n']\n",
      "['epoch:80', 'val_loss:0.789055178792749', 'mask_loss:0.8767182319273863', 'recons_loss:8.771364382878149e-05\\n']\n"
     ]
    }
   ],
   "source": [
    "with open('history/with_recons.txt', 'r') as f:\n",
    "    lines = f.readlines()\n",
    "    for i, line in enumerate(lines):\n",
    "        if i % 2 == 1:\n",
    "            splits = line.split('/')\n",
    "            print(splits)\n",
    "            epoch = splits[0][6:]\n",
    "            train_loss = splits[1][11:]\n",
    "            mask_loss = splits[2][10:]\n",
    "            recons_loss = splits[3][12:]"
   ]
  },
  {
   "cell_type": "code",
   "execution_count": 10,
   "metadata": {},
   "outputs": [
    {
     "data": {
      "text/plain": [
       "0"
      ]
     },
     "execution_count": 10,
     "metadata": {},
     "output_type": "execute_result"
    }
   ],
   "source": [
    "4 % 2"
   ]
  },
  {
   "cell_type": "code",
   "execution_count": 6,
   "metadata": {},
   "outputs": [
    {
     "data": {
      "text/plain": [
       "['epoch:1',\n",
       " 'train_loss:0.8611956561574525',\n",
       " 'mask_loss:0.9558384396209567',\n",
       " 'recons_loss:0.009410619088788279\\n']"
      ]
     },
     "execution_count": 6,
     "metadata": {},
     "output_type": "execute_result"
    }
   ],
   "source": [
    "lines[0].split('/')"
   ]
  }
 ],
 "metadata": {
  "kernelspec": {
   "display_name": "genAI_env",
   "language": "python",
   "name": "python3"
  },
  "language_info": {
   "codemirror_mode": {
    "name": "ipython",
    "version": 3
   },
   "file_extension": ".py",
   "mimetype": "text/x-python",
   "name": "python",
   "nbconvert_exporter": "python",
   "pygments_lexer": "ipython3",
   "version": "3.10.0"
  }
 },
 "nbformat": 4,
 "nbformat_minor": 2
}
