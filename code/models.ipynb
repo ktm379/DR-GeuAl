{
 "cells": [
  {
   "cell_type": "code",
   "execution_count": 1,
   "metadata": {},
   "outputs": [],
   "source": [
    "from tensorflow import keras\n",
    "import tensorflow as tf"
   ]
  },
  {
   "cell_type": "code",
   "execution_count": 2,
   "metadata": {},
   "outputs": [],
   "source": [
    "def ConvBlock(x, n_filters):\n",
    "  x = keras.layers.Conv2D(n_filters, 3, padding='same', activation='relu', kernel_initializer='he_normal')(x)\n",
    "  x = keras.layers.BatchNormalization()(x)\n",
    "  x = keras.layers.Activation('relu')(x)\n",
    "  \n",
    "  return x\n",
    "\n",
    "def UpsampleBlock(x, skip, n_filters):\n",
    "  x = keras.layers.Conv2DTranspose(n_filters, (2, 2), strides=2, padding='same')(x)\n",
    "  x = keras.layers.Concatenate()([x, skip]) \n",
    "  x = ConvBlock(x, n_filters)\n",
    "\n",
    "  return x\n",
    "\n",
    "def Encoder(x, filters):\n",
    "  skips = []\n",
    "  \n",
    "  for f in filters:\n",
    "    x = ConvBlock(x, f)\n",
    "    x = ConvBlock(x, f)\n",
    "    # 맨 마지막 층을 제외하고는 skip connection, downsampling을 진행\n",
    "    if f != 1024:\n",
    "      skips.append(x)\n",
    "      x = keras.layers.MaxPooling2D(2)(x)\n",
    "      \n",
    "  return x, skips\n",
    "\n",
    "def Decoder(x, filters, skips):\n",
    "  for f, skip in zip(filters, skips):\n",
    "    x = keras.layers.Conv2DTranspose(f, (2, 2), strides=2, padding='same')(x)\n",
    "    x = ConvBlock(x, f)\n",
    "    x = keras.layers.Concatenate()([x, skip]) \n",
    "    x = ConvBlock(x, f)\n",
    "      \n",
    "  x = ConvBlock(x, 2)\n",
    "  x = keras.layers.Conv2D(filters=1, kernel_size=1, padding='same', activation='linear')(x)\n",
    "  \n",
    "  return x\n",
    "\n",
    "def Unet(img_size):\n",
    "  inputs = keras.Input(shape=img_size + (1,))\n",
    "  \n",
    "  # 축소 경로\n",
    "  filters = [64, 128, 256, 512, 1024]\n",
    "\n",
    "  x, skips = Encoder(inputs, filters)\n",
    "  \n",
    "  # 확장 경로\n",
    "  x = Decoder(x, filters[::-1][1:], skips[::-1])\n",
    "\n",
    "  # loss = mse  \n",
    "  model = keras.Model(inputs, x)\n",
    "  \n",
    "  return model"
   ]
  },
  {
   "cell_type": "code",
   "execution_count": null,
   "metadata": {
    "scrolled": true
   },
   "outputs": [],
   "source": [
    "# model = Unet((512, 512))\n",
    "# model.summary()"
   ]
  },
  {
   "cell_type": "code",
   "execution_count": null,
   "metadata": {
    "scrolled": true
   },
   "outputs": [],
   "source": [
    "# Encoder만 정의하기\n",
    "# filters = [64, 128, 256, 512, 1024]\n",
    "# inputs = keras.Input(shape=(512, 512) + (1,))\n",
    "# x = Encoder(inputs, filters)\n",
    "# model = keras.Model(inputs, x)\n",
    "# model.summary()"
   ]
  },
  {
   "cell_type": "code",
   "execution_count": 3,
   "metadata": {},
   "outputs": [],
   "source": []
  },
  {
   "cell_type": "code",
   "execution_count": 7,
   "metadata": {},
   "outputs": [],
   "source": []
  },
  {
   "cell_type": "code",
   "execution_count": null,
   "metadata": {},
   "outputs": [],
   "source": []
  }
 ],
 "metadata": {
  "kernelspec": {
   "display_name": "Python 3 (ipykernel)",
   "language": "python",
   "name": "python3"
  },
  "language_info": {
   "codemirror_mode": {
    "name": "ipython",
    "version": 3
   },
   "file_extension": ".py",
   "mimetype": "text/x-python",
   "name": "python",
   "nbconvert_exporter": "python",
   "pygments_lexer": "ipython3",
   "version": "3.10.0"
  }
 },
 "nbformat": 4,
 "nbformat_minor": 2
}
