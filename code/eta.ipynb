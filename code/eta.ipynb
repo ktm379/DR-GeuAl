{
 "cells": [
  {
   "cell_type": "code",
   "execution_count": 8,
   "metadata": {},
   "outputs": [],
   "source": [
    "import tensorflow as tf\n",
    "\n",
    "def dice_loss(inputs, targets, smooth = 1.):\n",
    "        # Apply thresholding\n",
    "        threshold = 0.5\n",
    "        binary_predictions = tf.where(predictions >= threshold, 1.0, 0.0)\n",
    "        dice_losses = []\n",
    "        \n",
    "        for input, target in zip(inputs, targets): \n",
    "            input_flat = tf.reshape(input, [-1])\n",
    "            target_flat = tf.reshape(target, [-1])\n",
    "            \n",
    "            input_flat = tf.cast(input_flat, dtype=tf.float64)\n",
    "            target_flat = tf.cast(target_flat, dtype=tf.float64) \n",
    "            \n",
    "            intersection = tf.reduce_sum(input_flat * target_flat)\n",
    "            dice_coef = (2. * intersection + smooth) / (tf.reduce_sum(input_flat) + tf.reduce_sum(target_flat) + smooth)\n",
    "\n",
    "            dice_losses.append(1. - dice_coef)\n",
    "            \n",
    "        result = tf.reduce_mean(dice_losses) \n",
    "        return result"
   ]
  },
  {
   "cell_type": "code",
   "execution_count": 2,
   "metadata": {},
   "outputs": [],
   "source": [
    "import tensorflow as tf"
   ]
  },
  {
   "cell_type": "code",
   "execution_count": 3,
   "metadata": {},
   "outputs": [
    {
     "data": {
      "text/plain": [
       "<tf.Tensor: shape=(), dtype=float64, numpy=0.8999999985098839>"
      ]
     },
     "execution_count": 3,
     "metadata": {},
     "output_type": "execute_result"
    }
   ],
   "source": [
    "1- tf.cast(0.1, dtype=tf.float64)"
   ]
  },
  {
   "cell_type": "code",
   "execution_count": 17,
   "metadata": {},
   "outputs": [
    {
     "data": {
      "text/plain": [
       "'112'"
      ]
     },
     "execution_count": 17,
     "metadata": {},
     "output_type": "execute_result"
    }
   ],
   "source": [
    "if True:\n",
    "    log = f\"{1}\"\\\n",
    "          f\"1\"\\\n",
    "          f\"2\"\n",
    "log"
   ]
  },
  {
   "cell_type": "code",
   "execution_count": 6,
   "metadata": {},
   "outputs": [],
   "source": [
    "from data_generator import DR_Generator\n",
    "import os\n",
    "from models import SMD_Unet\n",
    "from trainer import Trainer\n",
    "import tensorflow as tf\n",
    "\n",
    "masks = ['HardExudate_Masks', 'Hemohedge_Masks', 'Microaneurysms_Masks', 'SoftExudate_Masks']\n",
    "mask_dir = '../data/FGADR-Seg-set_Release/Seg-set/'\n",
    "mask_paths = [os.path.join(mask_dir, mask) for mask in masks]\n",
    "\n",
    "generator_args = {\n",
    "  'dir_path':'../data/FGADR-Seg-set_Release/Seg-set/Original_Images/',\n",
    "  'mask_path':mask_paths,\n",
    "  'use_mask':True,\n",
    "  'img_size':(512, 512),  \n",
    "  'batch_size':4, # 8로 하면 바로 OOM 뜸\n",
    "  'dataset':'FGADR', # FGADR or EyePacks\n",
    "  'is_train':True\n",
    "}\n",
    "\n",
    "tr_fgadr_gen = DR_Generator(start_end_index=(0, 1290), **generator_args)\n",
    "val_fgadr_gen = DR_Generator(start_end_index=(1290, 1474), **generator_args)\n",
    "ts_fgadr_gen = DR_Generator(start_end_index=(1474, 1842), **generator_args)"
   ]
  },
  {
   "cell_type": "code",
   "execution_count": 7,
   "metadata": {},
   "outputs": [],
   "source": [
    "for input, targets in tr_fgadr_gen:\n",
    "    ex, he, ma, se = targets\n",
    "    break"
   ]
  },
  {
   "cell_type": "code",
   "execution_count": 10,
   "metadata": {},
   "outputs": [],
   "source": [
    "for input, targets_2 in val_fgadr_gen:\n",
    "    break"
   ]
  },
  {
   "cell_type": "code",
   "execution_count": 11,
   "metadata": {},
   "outputs": [
    {
     "name": "stdout",
     "output_type": "stream",
     "text": [
      "tf.Tensor(0.7490036260175095, shape=(), dtype=float64)\n",
      "tf.Tensor(0.9994936937629291, shape=(), dtype=float64)\n",
      "tf.Tensor(0.9979674272466821, shape=(), dtype=float64)\n",
      "tf.Tensor(0.4995603581657175, shape=(), dtype=float64)\n"
     ]
    }
   ],
   "source": [
    "for target, target_2 in zip(targets, targets_2):\n",
    "    print(dice_loss(target, target_2))"
   ]
  }
 ],
 "metadata": {
  "kernelspec": {
   "display_name": "genAI_env",
   "language": "python",
   "name": "python3"
  },
  "language_info": {
   "codemirror_mode": {
    "name": "ipython",
    "version": 3
   },
   "file_extension": ".py",
   "mimetype": "text/x-python",
   "name": "python",
   "nbconvert_exporter": "python",
   "pygments_lexer": "ipython3",
   "version": "3.10.0"
  }
 },
 "nbformat": 4,
 "nbformat_minor": 2
}
