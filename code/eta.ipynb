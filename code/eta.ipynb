{
 "cells": [
  {
   "cell_type": "code",
   "execution_count": 16,
   "metadata": {},
   "outputs": [],
   "source": [
    "# history/.txt로부터 history를 불러오는 함수\n",
    "def parse_history_text(path):    \n",
    "    epochs = []\n",
    "    \n",
    "    tr_loss = []\n",
    "    tr_mask_loss = []\n",
    "    tr_recons_loss = []\n",
    "    tr_ex_loss = []\n",
    "    tr_he_loss = []\n",
    "    tr_ma_loss = []\n",
    "    tr_se_loss = []\n",
    "    \n",
    "    \n",
    "    val_loss = []\n",
    "    val_mask_loss = []\n",
    "    val_recons_loss = []\n",
    "    val_ex_loss = []\n",
    "    val_he_loss = []\n",
    "    val_ma_loss = []\n",
    "    val_se_loss = []\n",
    "    \n",
    "    with open(path, 'r') as f:\n",
    "        lines = f.readlines()\n",
    "        \n",
    "        for i, line in enumerate(lines):\n",
    "            splits = line.split('/')\n",
    "            \n",
    "            epoch = int(splits[0][6:])\n",
    "            mask_loss = float(splits[2][10:])\n",
    "            recons_loss = float(splits[3][12:])\n",
    "            \n",
    "            ex_loss = float(splits[4][8:])\n",
    "            he_loss = float(splits[5][8:])\n",
    "            ma_loss = float(splits[6][8:])\n",
    "            se_loss = float(splits[7][8:])\n",
    "            \n",
    "            if i % 2 == 0:        \n",
    "                train_loss = float(splits[1][11:])\n",
    "                \n",
    "                epochs.append(epoch)\n",
    "                tr_loss.append(train_loss)\n",
    "                tr_mask_loss.append(mask_loss)\n",
    "                tr_recons_loss.append(recons_loss)\n",
    "                \n",
    "                tr_ex_loss.append(ex_loss)\n",
    "                tr_he_loss.append(he_loss)\n",
    "                tr_ma_loss.append(ma_loss)\n",
    "                tr_se_loss.append(se_loss)\n",
    "                \n",
    "            else:\n",
    "                validation_loss = float(splits[1][9:])\n",
    "                \n",
    "                val_loss.append(validation_loss)\n",
    "                val_mask_loss.append(mask_loss)\n",
    "                val_recons_loss.append(recons_loss)\n",
    "                \n",
    "                val_ex_loss.append(ex_loss)\n",
    "                val_he_loss.append(he_loss)\n",
    "                val_ma_loss.append(ma_loss)\n",
    "                val_se_loss.append(se_loss)\n",
    "    \n",
    "    history = {}\n",
    "    \n",
    "    history['epoch'] = epochs\n",
    "    \n",
    "    history['train_loss'] = tr_loss\n",
    "    history['train_mask_loss'] = tr_mask_loss\n",
    "    history['tr_recons_loss'] = tr_recons_loss\n",
    "    history['tr_ex_loss'] = tr_ex_loss\n",
    "    history['tr_he_loss'] = tr_he_loss\n",
    "    history['tr_ma_loss'] = tr_ma_loss\n",
    "    history['tr_se_loss'] = tr_se_loss\n",
    "    \n",
    "    \n",
    "    history['val_loss'] = val_loss\n",
    "    history['val_mask_loss'] = val_mask_loss\n",
    "    history['val_recons_loss'] = val_recons_loss\n",
    "    history['val_ex_loss'] = val_ex_loss\n",
    "    history['val_he_loss'] = val_he_loss\n",
    "    history['val_ma_loss'] = val_ma_loss\n",
    "    history['val_se_loss'] = val_se_loss\n",
    "    \n",
    "    return history"
   ]
  },
  {
   "cell_type": "code",
   "execution_count": 1,
   "metadata": {},
   "outputs": [
    {
     "data": {
      "text/plain": [
       "'../'"
      ]
     },
     "execution_count": 1,
     "metadata": {},
     "output_type": "execute_result"
    }
   ],
   "source": [
    "'../'"
   ]
  },
  {
   "cell_type": "code",
   "execution_count": 13,
   "metadata": {},
   "outputs": [
    {
     "data": {
      "text/plain": [
       "'0.6173989176750183'"
      ]
     },
     "execution_count": 13,
     "metadata": {},
     "output_type": "execute_result"
    }
   ],
   "source": [
    "splits[5][8:]"
   ]
  },
  {
   "cell_type": "code",
   "execution_count": 15,
   "metadata": {},
   "outputs": [
    {
     "name": "stdout",
     "output_type": "stream",
     "text": [
      "0.995293915271759\n",
      "0.9985926747322083\n",
      "0.9935749769210815\n",
      "0.9937208890914917\n",
      "0.9882299304008484\n",
      "0.9935783743858337\n",
      "0.9772724509239197\n",
      "0.9859464168548584\n",
      "0.9518223404884338\n",
      "0.9972830414772034\n",
      "0.8726778626441956\n",
      "0.8890414237976074\n",
      "0.8087637424468994\n",
      "0.8736286163330078\n",
      "0.7743453979492188\n",
      "0.8414303660392761\n",
      "0.7563420534133911\n",
      "0.8559579849243164\n",
      "0.735001266002655\n",
      "0.7875080108642578\n",
      "0.7183074355125427\n",
      "0.7879285216331482\n",
      "0.696287214756012\n",
      "0.7891104817390442\n",
      "0.6882360577583313\n",
      "0.7896207571029663\n",
      "0.6786393523216248\n",
      "0.807278573513031\n",
      "0.6741088628768921\n",
      "0.7820057272911072\n",
      "0.6554856300354004\n",
      "0.7887750267982483\n",
      "0.670005738735199\n",
      "0.8433430790901184\n",
      "0.6528480052947998\n",
      "0.7823204398155212\n",
      "0.672157347202301\n",
      "0.9606652855873108\n",
      "0.8642976880073547\n",
      "0.7823266983032227\n",
      "0.8496918082237244\n",
      "0.7774904370307922\n",
      "0.8480727076530457\n",
      "0.7762623429298401\n",
      "0.8473791480064392\n",
      "0.77562415599823\n",
      "0.8469815850257874\n",
      "0.7751344442367554\n",
      "0.8464522361755371\n",
      "0.7743080258369446\n",
      "0.8461472988128662\n",
      "0.7742295265197754\n",
      "0.8460660576820374\n",
      "0.7741464972496033\n",
      "0.8460257053375244\n",
      "0.7741241455078125\n",
      "0.8460079431533813\n",
      "0.7740874886512756\n",
      "0.8459977507591248\n",
      "0.7740787267684937\n",
      "0.845991313457489\n",
      "0.7740707397460938\n",
      "0.8459858298301697\n",
      "0.7740665674209595\n",
      "0.84598308801651\n",
      "0.7740630507469177\n",
      "0.8459797501564026\n",
      "0.7740592360496521\n",
      "0.8459780216217041\n",
      "0.774055004119873\n",
      "0.8459763526916504\n",
      "0.7740556001663208\n",
      "0.8459750413894653\n",
      "0.774052619934082\n",
      "0.8459743857383728\n",
      "0.7740516066551208\n",
      "0.8459734916687012\n",
      "0.7740514874458313\n",
      "0.8459729552268982\n",
      "0.7740505337715149\n",
      "0.8459725379943848\n",
      "0.7740501761436462\n",
      "0.8459721207618713\n",
      "0.7740492820739746\n",
      "0.8459715843200684\n",
      "0.7740487456321716\n",
      "0.845971405506134\n",
      "0.7740486264228821\n",
      "0.8459711670875549\n",
      "0.7740482091903687\n",
      "0.8459709286689758\n",
      "0.7740479111671448\n",
      "0.8459707498550415\n",
      "0.7740477323532104\n",
      "0.845970630645752\n",
      "0.7740474939346313\n",
      "0.8459703922271729\n",
      "0.774047315120697\n",
      "0.8459703326225281\n",
      "0.7740471959114075\n",
      "0.8459702730178833\n",
      "0.7740471363067627\n",
      "0.8459701538085938\n",
      "0.7740469574928284\n",
      "0.845970094203949\n",
      "0.7740468382835388\n",
      "0.8459700345993042\n",
      "0.774046778678894\n",
      "0.8459699749946594\n",
      "0.7740467190742493\n",
      "0.8459699749946594\n",
      "0.7740466594696045\n",
      "0.8459699153900146\n",
      "0.7740466594696045\n",
      "0.8459698557853699\n",
      "0.7740465402603149\n"
     ]
    }
   ],
   "source": [
    "import os\n",
    "\n",
    "with open('../code/history/four_mask/SMD_withoutCLAHE_lr0001_3channel_alpha01_beta025025025025.txt', 'r') as f:\n",
    "        lines = f.readlines()\n",
    "        \n",
    "        for i, line in enumerate(lines):\n",
    "            splits = line.split('/')\n",
    "            \n",
    "            epoch = int(splits[0][6:])\n",
    "            mask_loss = float(splits[2][10:])\n",
    "            recons_loss = float(splits[3][12:])\n",
    "            \n",
    "            ex_loss = float(splits[4][8:])\n",
    "            he_loss = float(splits[5][8:])\n",
    "            ma_loss = float(splits[6][8:])\n",
    "            sse_loss = float(splits[7][8:])\n",
    "            print(sse_loss)\n"
   ]
  },
  {
   "cell_type": "code",
   "execution_count": 8,
   "metadata": {},
   "outputs": [],
   "source": [
    "import tensorflow as tf\n",
    "\n",
    "def dice_loss(inputs, targets, smooth = 1.):\n",
    "        # Apply thresholding\n",
    "        threshold = 0.5\n",
    "        binary_predictions = tf.where(predictions >= threshold, 1.0, 0.0)\n",
    "        dice_losses = []\n",
    "        \n",
    "        for input, target in zip(inputs, targets): \n",
    "            input_flat = tf.reshape(input, [-1])\n",
    "            target_flat = tf.reshape(target, [-1])\n",
    "            \n",
    "            input_flat = tf.cast(input_flat, dtype=tf.float64)\n",
    "            target_flat = tf.cast(target_flat, dtype=tf.float64) \n",
    "            \n",
    "            intersection = tf.reduce_sum(input_flat * target_flat)\n",
    "            dice_coef = (2. * intersection + smooth) / (tf.reduce_sum(input_flat) + tf.reduce_sum(target_flat) + smooth)\n",
    "\n",
    "            dice_losses.append(1. - dice_coef)\n",
    "            \n",
    "        result = tf.reduce_mean(dice_losses) \n",
    "        return result"
   ]
  },
  {
   "cell_type": "code",
   "execution_count": 2,
   "metadata": {},
   "outputs": [],
   "source": [
    "import tensorflow as tf"
   ]
  },
  {
   "cell_type": "code",
   "execution_count": 3,
   "metadata": {},
   "outputs": [
    {
     "data": {
      "text/plain": [
       "<tf.Tensor: shape=(), dtype=float64, numpy=0.8999999985098839>"
      ]
     },
     "execution_count": 3,
     "metadata": {},
     "output_type": "execute_result"
    }
   ],
   "source": [
    "1- tf.cast(0.1, dtype=tf.float64)"
   ]
  },
  {
   "cell_type": "code",
   "execution_count": 17,
   "metadata": {},
   "outputs": [
    {
     "data": {
      "text/plain": [
       "'112'"
      ]
     },
     "execution_count": 17,
     "metadata": {},
     "output_type": "execute_result"
    }
   ],
   "source": [
    "if True:\n",
    "    log = f\"{1}\"\\\n",
    "          f\"1\"\\\n",
    "          f\"2\"\n",
    "log"
   ]
  },
  {
   "cell_type": "code",
   "execution_count": 6,
   "metadata": {},
   "outputs": [],
   "source": [
    "from data_generator import DR_Generator\n",
    "import os\n",
    "from models import SMD_Unet\n",
    "from trainer import Trainer\n",
    "import tensorflow as tf\n",
    "\n",
    "masks = ['HardExudate_Masks', 'Hemohedge_Masks', 'Microaneurysms_Masks', 'SoftExudate_Masks']\n",
    "mask_dir = '../data/FGADR-Seg-set_Release/Seg-set/'\n",
    "mask_paths = [os.path.join(mask_dir, mask) for mask in masks]\n",
    "\n",
    "generator_args = {\n",
    "  'dir_path':'../data/FGADR-Seg-set_Release/Seg-set/Original_Images/',\n",
    "  'mask_path':mask_paths,\n",
    "  'use_mask':True,\n",
    "  'img_size':(512, 512),  \n",
    "  'batch_size':4, # 8로 하면 바로 OOM 뜸\n",
    "  'dataset':'FGADR', # FGADR or EyePacks\n",
    "  'is_train':True\n",
    "}\n",
    "\n",
    "tr_fgadr_gen = DR_Generator(start_end_index=(0, 1290), **generator_args)\n",
    "val_fgadr_gen = DR_Generator(start_end_index=(1290, 1474), **generator_args)\n",
    "ts_fgadr_gen = DR_Generator(start_end_index=(1474, 1842), **generator_args)"
   ]
  },
  {
   "cell_type": "code",
   "execution_count": 7,
   "metadata": {},
   "outputs": [],
   "source": [
    "for input, targets in tr_fgadr_gen:\n",
    "    ex, he, ma, se = targets\n",
    "    break"
   ]
  },
  {
   "cell_type": "code",
   "execution_count": 10,
   "metadata": {},
   "outputs": [],
   "source": [
    "for input, targets_2 in val_fgadr_gen:\n",
    "    break"
   ]
  },
  {
   "cell_type": "code",
   "execution_count": 11,
   "metadata": {},
   "outputs": [
    {
     "name": "stdout",
     "output_type": "stream",
     "text": [
      "tf.Tensor(0.7490036260175095, shape=(), dtype=float64)\n",
      "tf.Tensor(0.9994936937629291, shape=(), dtype=float64)\n",
      "tf.Tensor(0.9979674272466821, shape=(), dtype=float64)\n",
      "tf.Tensor(0.4995603581657175, shape=(), dtype=float64)\n"
     ]
    }
   ],
   "source": [
    "for target, target_2 in zip(targets, targets_2):\n",
    "    print(dice_loss(target, target_2))"
   ]
  }
 ],
 "metadata": {
  "kernelspec": {
   "display_name": "Python 3 (ipykernel)",
   "language": "python",
   "name": "python3"
  },
  "language_info": {
   "codemirror_mode": {
    "name": "ipython",
    "version": 3
   },
   "file_extension": ".py",
   "mimetype": "text/x-python",
   "name": "python",
   "nbconvert_exporter": "python",
   "pygments_lexer": "ipython3",
   "version": "3.10.0"
  }
 },
 "nbformat": 4,
 "nbformat_minor": 2
}
