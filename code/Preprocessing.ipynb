{
 "cells": [
  {
   "cell_type": "code",
   "execution_count": 3,
   "metadata": {},
   "outputs": [],
   "source": [
    "import cv2\n",
    "import numpy as np\n",
    "\n",
    "image_path = './Dataset/FGADR/Seg-set/Original_Images/0000_1.png'\n",
    "image_path = \"./Dataset/IDRiD/A. Segmentation/A. Segmentation/1. Original Images/a. Training Set/IDRiD_01.jpg\""
   ]
  },
  {
   "cell_type": "code",
   "execution_count": 4,
   "metadata": {},
   "outputs": [],
   "source": [
    "def crop_and_resize_image(channels):\n",
    "    '''\n",
    "    각 채널을 받아 크기 조정(512x512 픽셀로 다운샘플링), \n",
    "    이미지 크롭 수행(FOV의 직경과 동일한 정사각형),\n",
    "    각 채널 합치기\n",
    "    '''\n",
    "    resized_channels = [cv2.resize(channel, (512, 512)) for channel in channels]\n",
    "\n",
    "    diameter = min(resized_channels[0].shape[0], resized_channels[0].shape[1])\n",
    "    center_x, center_y = resized_channels[0].shape[1] // 2, resized_channels[0].shape[0] // 2\n",
    "    crop_size = min(center_x, center_y, diameter // 2)\n",
    "    cropped_channels = [channel[center_y - crop_size:center_y + crop_size, center_x - crop_size:center_x + crop_size] for channel in resized_channels]\n",
    "\n",
    "    cropped_image = cv2.merge(cropped_channels)\n",
    "\n",
    "    return cropped_image\n",
    "  \n",
    "def preprocess_image(image_path):\n",
    "    '''\n",
    "    image_path를 받아 이미지를 읽고, \n",
    "    각 채널에 대한 대비 향상, \n",
    "    크롭 및 크기 조정\n",
    "    '''\n",
    "    original_image = cv2.imread(image_path)\n",
    "\n",
    "    clahe = cv2.createCLAHE(clipLimit=3.0, tileGridSize=(8, 8))\n",
    "    contrast_enhanced_channels = [clahe.apply(original_image[:, :, i]) for i in range(3)]\n",
    "\n",
    "    cropped_image = crop_and_resize_image(contrast_enhanced_channels)\n",
    "\n",
    "    return cropped_image"
   ]
  },
  {
   "cell_type": "code",
   "execution_count": 5,
   "metadata": {},
   "outputs": [
    {
     "ename": "TypeError",
     "evalue": "'NoneType' object is not subscriptable",
     "output_type": "error",
     "traceback": [
      "\u001b[1;31m---------------------------------------------------------------------------\u001b[0m",
      "\u001b[1;31mTypeError\u001b[0m                                 Traceback (most recent call last)",
      "Cell \u001b[1;32mIn[5], line 5\u001b[0m\n\u001b[0;32m      2\u001b[0m image_path \u001b[38;5;241m=\u001b[39m \u001b[38;5;124m\"\u001b[39m\u001b[38;5;124m./Dataset/IDRiD/A. Segmentation/A. Segmentation/1. Original Images/a. Training Set/IDRiD_02.jpg\u001b[39m\u001b[38;5;124m\"\u001b[39m\n\u001b[0;32m      4\u001b[0m \u001b[38;5;66;03m# 전처리된 이미지 얻기\u001b[39;00m\n\u001b[1;32m----> 5\u001b[0m preprocessed_image \u001b[38;5;241m=\u001b[39m \u001b[43mpreprocess_image\u001b[49m\u001b[43m(\u001b[49m\u001b[43mimage_path\u001b[49m\u001b[43m)\u001b[49m\n\u001b[0;32m      7\u001b[0m \u001b[38;5;66;03m# 결과 확인을 위해 이미지 표시\u001b[39;00m\n\u001b[0;32m      8\u001b[0m cv2\u001b[38;5;241m.\u001b[39mimshow(\u001b[38;5;124m'\u001b[39m\u001b[38;5;124mPreprocessed Image\u001b[39m\u001b[38;5;124m'\u001b[39m, preprocessed_image)\n",
      "Cell \u001b[1;32mIn[4], line 27\u001b[0m, in \u001b[0;36mpreprocess_image\u001b[1;34m(image_path)\u001b[0m\n\u001b[0;32m     24\u001b[0m original_image \u001b[38;5;241m=\u001b[39m cv2\u001b[38;5;241m.\u001b[39mimread(image_path)\n\u001b[0;32m     26\u001b[0m clahe \u001b[38;5;241m=\u001b[39m cv2\u001b[38;5;241m.\u001b[39mcreateCLAHE(clipLimit\u001b[38;5;241m=\u001b[39m\u001b[38;5;241m3.0\u001b[39m, tileGridSize\u001b[38;5;241m=\u001b[39m(\u001b[38;5;241m8\u001b[39m, \u001b[38;5;241m8\u001b[39m))\n\u001b[1;32m---> 27\u001b[0m contrast_enhanced_channels \u001b[38;5;241m=\u001b[39m [clahe\u001b[38;5;241m.\u001b[39mapply(original_image[:, :, i]) \u001b[38;5;28;01mfor\u001b[39;00m i \u001b[38;5;129;01min\u001b[39;00m \u001b[38;5;28mrange\u001b[39m(\u001b[38;5;241m3\u001b[39m)]\n\u001b[0;32m     29\u001b[0m cropped_image \u001b[38;5;241m=\u001b[39m crop_and_resize_image(contrast_enhanced_channels)\n\u001b[0;32m     31\u001b[0m \u001b[38;5;28;01mreturn\u001b[39;00m cropped_image\n",
      "Cell \u001b[1;32mIn[4], line 27\u001b[0m, in \u001b[0;36m<listcomp>\u001b[1;34m(.0)\u001b[0m\n\u001b[0;32m     24\u001b[0m original_image \u001b[38;5;241m=\u001b[39m cv2\u001b[38;5;241m.\u001b[39mimread(image_path)\n\u001b[0;32m     26\u001b[0m clahe \u001b[38;5;241m=\u001b[39m cv2\u001b[38;5;241m.\u001b[39mcreateCLAHE(clipLimit\u001b[38;5;241m=\u001b[39m\u001b[38;5;241m3.0\u001b[39m, tileGridSize\u001b[38;5;241m=\u001b[39m(\u001b[38;5;241m8\u001b[39m, \u001b[38;5;241m8\u001b[39m))\n\u001b[1;32m---> 27\u001b[0m contrast_enhanced_channels \u001b[38;5;241m=\u001b[39m [clahe\u001b[38;5;241m.\u001b[39mapply(\u001b[43moriginal_image\u001b[49m\u001b[43m[\u001b[49m\u001b[43m:\u001b[49m\u001b[43m,\u001b[49m\u001b[43m \u001b[49m\u001b[43m:\u001b[49m\u001b[43m,\u001b[49m\u001b[43m \u001b[49m\u001b[43mi\u001b[49m\u001b[43m]\u001b[49m) \u001b[38;5;28;01mfor\u001b[39;00m i \u001b[38;5;129;01min\u001b[39;00m \u001b[38;5;28mrange\u001b[39m(\u001b[38;5;241m3\u001b[39m)]\n\u001b[0;32m     29\u001b[0m cropped_image \u001b[38;5;241m=\u001b[39m crop_and_resize_image(contrast_enhanced_channels)\n\u001b[0;32m     31\u001b[0m \u001b[38;5;28;01mreturn\u001b[39;00m cropped_image\n",
      "\u001b[1;31mTypeError\u001b[0m: 'NoneType' object is not subscriptable"
     ]
    }
   ],
   "source": [
    "# 이미지 경로 지정\n",
    "image_path = \"../data/IDRiD/A. Segmentation/A. Segmentation/1. Original Images/a. Training Set/IDRiD_02.jpg\"\n",
    "\n",
    "# 전처리된 이미지 얻기\n",
    "preprocessed_image = preprocess_image(image_path)\n",
    "\n",
    "# 결과 확인을 위해 이미지 표시\n",
    "cv2.imshow('Preprocessed Image', preprocessed_image)\n",
    "cv2.waitKey(0)\n",
    "cv2.destroyAllWindows()\n",
    "\n",
    "# 이미지 저장\n",
    "output_path = \"./Dataset/IDRiD/A. Segmentation/Preprocessed/IDRiD_02_preprocessed.jpg\"\n",
    "cv2.imwrite(output_path, preprocessed_image)\n",
    "print(f\"Preprocessed image saved to {output_path}\")"
   ]
  }
 ],
 "metadata": {
  "kernelspec": {
   "display_name": "genAI_env",
   "language": "python",
   "name": "python3"
  },
  "language_info": {
   "codemirror_mode": {
    "name": "ipython",
    "version": 3
   },
   "file_extension": ".py",
   "mimetype": "text/x-python",
   "name": "python",
   "nbconvert_exporter": "python",
   "pygments_lexer": "ipython3",
   "version": "3.10.0"
  }
 },
 "nbformat": 4,
 "nbformat_minor": 2
}
