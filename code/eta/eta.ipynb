{
 "cells": [
  {
   "cell_type": "code",
   "execution_count": 9,
   "metadata": {},
   "outputs": [],
   "source": [
    "import tensorflow as tf\n",
    "import tensorflow as tf\n",
    "import os\n",
    "import cv2\n",
    "import pandas as pd\n",
    "import random\n",
    "\n",
    "from assets.test.data_generator import DR_Generator_forInference\n",
    "from assets.one_mask.models import SMD_Unet \n",
    "from assets.one_mask.trainer import Trainer\n",
    "\n",
    "import numpy as np\n",
    "from sklearn.metrics import roc_auc_score, average_precision_score\n",
    "\n",
    "import matplotlib.pyplot as plt\n",
    "from tqdm import tqdm"
   ]
  },
  {
   "cell_type": "code",
   "execution_count": 10,
   "metadata": {},
   "outputs": [],
   "source": [
    "def dice_coefficient(y_true, y_pred, smooth=1e-7):\n",
    "    intersection = tf.reduce_sum(y_true * y_pred)  # 교집합 계산\n",
    "    union = tf.reduce_sum(y_true) + tf.reduce_sum(y_pred)  # 합집합 계산\n",
    "    return (2. * intersection + smooth) / (union + smooth)\n",
    "\n",
    "def mean_absolute_error(y_true, y_pred):\n",
    "    return tf.reduce_mean(tf.abs(y_true - y_pred))  # MAE 계산\n",
    "\n",
    "def calculate_iou(y_true, y_pred, threshold=0.5):\n",
    "    y_pred = tf.cast(y_pred > threshold, tf.float32)  # 예측값 이진화\n",
    "    intersection = tf.reduce_sum(y_true * y_pred)  # 교집합 계산\n",
    "    union = tf.reduce_sum(tf.cast(y_true + y_pred > threshold, tf.float32))  # 합집합 계산\n",
    "    return intersection / (union + 1e-7)  # IoU 계산, 1e-7 추가로 나눗셈 by zero 방지"
   ]
  },
  {
   "cell_type": "code",
   "execution_count": 11,
   "metadata": {},
   "outputs": [],
   "source": [
    "# 세그멘테이션 결과를 평가하는 함수\n",
    "# y_true와 y_pred는 [batch_size, height, width, channels] 형식으로 가정\n",
    "def evaluate_segmentation(y_true, y_pred):\n",
    "    # 배열을 평평하게 만든다.\n",
    "    y_true_flat = tf.reshape(y_true, [-1])\n",
    "    y_pred_flat = tf.reshape(y_pred, [-1])\n",
    "\n",
    "    # Dice 계수 계산\n",
    "    dice = dice_coefficient(y_true_flat, y_pred_flat)\n",
    "\n",
    "    # IoU (Intersection over Union) 계산\n",
    "    iou = calculate_iou(y_true_flat, y_pred_flat)\n",
    "\n",
    "    # AUC-ROC 계산\n",
    "#     roc_auc = roc_auc_score(y_true_flat, y_pred_flat)\n",
    "\n",
    "    # AUC-PR 계산\n",
    "    pr_auc = average_precision_score(y_true_flat, y_pred_flat)\n",
    "\n",
    "    # MAE 계산\n",
    "    mae = mean_absolute_error(y_true_flat, y_pred_flat)\n",
    "\n",
    "    return dice, iou, pr_auc, mae"
   ]
  },
  {
   "cell_type": "code",
   "execution_count": 12,
   "metadata": {},
   "outputs": [],
   "source": [
    "masks = ['HardExudate_Masks', 'Hemohedge_Masks', 'Microaneurysms_Masks', 'SoftExudate_Masks']\n",
    "mask_dir = '../data/Seg-set'\n",
    "mask_paths = [os.path.join(mask_dir, mask) for mask in masks]\n",
    "\n",
    "generator_args = {\n",
    "    'dir_path':'../data/Seg-set/Original_Images/',\n",
    "    'mask_path':mask_paths,\n",
    "    'use_mask':True,\n",
    "    'img_size':(512, 512),  \n",
    "    'batch_size':4, # 8로 하면 바로 OOM 뜸\n",
    "    'dataset':'FGADR', # FGADR or EyePacks\n",
    "    'use_3channel':True,\n",
    "    'CLAHE_args':None,\n",
    "    'add_noise_std':0.2\n",
    "}\n",
    " \n",
    "    \n",
    "tr_fgadr_gen = DR_Generator_forInference(start_end_index=(0, 1108), is_train=False, **generator_args)\n",
    "val_fgadr_gen = DR_Generator_forInference(start_end_index=(1108, 1660), is_train=False, **generator_args)\n",
    "ts_fgadr_gen = DR_Generator_forInference(start_end_index=(1660, 1840), is_train=False, **generator_args)"
   ]
  },
  {
   "cell_type": "code",
   "execution_count": 13,
   "metadata": {},
   "outputs": [
    {
     "data": {
      "text/plain": [
       "<tensorflow.python.training.tracking.util.CheckpointLoadStatus at 0x7f07a865ce80>"
      ]
     },
     "execution_count": 13,
     "metadata": {},
     "output_type": "execute_result"
    }
   ],
   "source": [
    "model = SMD_Unet(enc_filters=[64, 128, 256, 512, 1024], dec_filters=[512, 256, 64, 32], input_channel=3)\n",
    "model.load_weights(\"../models/one_mask/withoutCLAHE_withRecons_alpha01_lr00001_3channel/26\")"
   ]
  },
  {
   "cell_type": "code",
   "execution_count": 14,
   "metadata": {},
   "outputs": [],
   "source": [
    "import warnings\n",
    "warnings.filterwarnings('ignore')"
   ]
  },
  {
   "cell_type": "code",
   "execution_count": 15,
   "metadata": {
    "scrolled": true
   },
   "outputs": [
    {
     "name": "stderr",
     "output_type": "stream",
     "text": [
      "100%|██████████| 277/277 [05:14<00:00,  1.13s/it]\n"
     ]
    }
   ],
   "source": [
    "# image_name, pred, true -> metric 결과 -> dataframe\n",
    "\n",
    "file_name_list = []\n",
    "dice_list = []\n",
    "iou_list = []\n",
    "# roc_auc_list = []\n",
    "pr_auc_list = []\n",
    "mae_list = []\n",
    "\n",
    "for inputs, target in tqdm(tr_fgadr_gen):\n",
    "    image = inputs[0]\n",
    "    file_name = inputs[1]\n",
    "    \n",
    "    preds = model(image, training=False)\n",
    "    mask_hat = preds[1]\n",
    "    \n",
    "    for i in range(mask_hat.shape[0]):\n",
    "        file_name_list.append(file_name[i])\n",
    "        dice, iou, pr_auc, mae = evaluate_segmentation(target[i], mask_hat[i])\n",
    "        \n",
    "        dice_list.append(dice.numpy())\n",
    "        iou_list.append(iou.numpy())\n",
    "#         roc_auc_list.append(roc_auc)\n",
    "        pr_auc_list.append(pr_auc)\n",
    "        mae_list.append(mae.numpy())"
   ]
  },
  {
   "cell_type": "markdown",
   "metadata": {},
   "source": [
    "- roc-auc, mask가 아에 0일 때 계산 안됨\n",
    "- RuntimeWarning: invalid value encountered in true_divide"
   ]
  },
  {
   "cell_type": "code",
   "execution_count": 16,
   "metadata": {},
   "outputs": [],
   "source": [
    "import pandas as pd\n",
    "\n",
    "result = pd.DataFrame()\n",
    "result['file_name'] = file_name_list\n",
    "result['dice'] = dice_list\n",
    "result['iou'] = iou_list\n",
    "result['pr_auc'] = pr_auc_list\n",
    "result['mae'] = mae_list"
   ]
  },
  {
   "cell_type": "code",
   "execution_count": 17,
   "metadata": {},
   "outputs": [
    {
     "data": {
      "text/html": [
       "<div>\n",
       "<style scoped>\n",
       "    .dataframe tbody tr th:only-of-type {\n",
       "        vertical-align: middle;\n",
       "    }\n",
       "\n",
       "    .dataframe tbody tr th {\n",
       "        vertical-align: top;\n",
       "    }\n",
       "\n",
       "    .dataframe thead th {\n",
       "        text-align: right;\n",
       "    }\n",
       "</style>\n",
       "<table border=\"1\" class=\"dataframe\">\n",
       "  <thead>\n",
       "    <tr style=\"text-align: right;\">\n",
       "      <th></th>\n",
       "      <th>file_name</th>\n",
       "      <th>dice</th>\n",
       "      <th>iou</th>\n",
       "      <th>pr_auc</th>\n",
       "      <th>mae</th>\n",
       "    </tr>\n",
       "  </thead>\n",
       "  <tbody>\n",
       "    <tr>\n",
       "      <th>349</th>\n",
       "      <td>0349_1.png</td>\n",
       "      <td>8.121527e-01</td>\n",
       "      <td>0.746308</td>\n",
       "      <td>0.824210</td>\n",
       "      <td>0.003039</td>\n",
       "    </tr>\n",
       "    <tr>\n",
       "      <th>188</th>\n",
       "      <td>0188_1.png</td>\n",
       "      <td>8.118286e-01</td>\n",
       "      <td>0.687969</td>\n",
       "      <td>0.739593</td>\n",
       "      <td>0.035037</td>\n",
       "    </tr>\n",
       "    <tr>\n",
       "      <th>104</th>\n",
       "      <td>0104_1.png</td>\n",
       "      <td>7.960624e-01</td>\n",
       "      <td>0.668023</td>\n",
       "      <td>0.725740</td>\n",
       "      <td>0.025042</td>\n",
       "    </tr>\n",
       "    <tr>\n",
       "      <th>1055</th>\n",
       "      <td>1055_1.png</td>\n",
       "      <td>7.948714e-01</td>\n",
       "      <td>0.660906</td>\n",
       "      <td>0.774653</td>\n",
       "      <td>0.090621</td>\n",
       "    </tr>\n",
       "    <tr>\n",
       "      <th>1074</th>\n",
       "      <td>1074_3.png</td>\n",
       "      <td>7.792582e-01</td>\n",
       "      <td>0.668896</td>\n",
       "      <td>0.751830</td>\n",
       "      <td>0.006482</td>\n",
       "    </tr>\n",
       "    <tr>\n",
       "      <th>...</th>\n",
       "      <td>...</td>\n",
       "      <td>...</td>\n",
       "      <td>...</td>\n",
       "      <td>...</td>\n",
       "      <td>...</td>\n",
       "    </tr>\n",
       "    <tr>\n",
       "      <th>936</th>\n",
       "      <td>0936_1.png</td>\n",
       "      <td>9.400278e-11</td>\n",
       "      <td>0.000000</td>\n",
       "      <td>NaN</td>\n",
       "      <td>0.004058</td>\n",
       "    </tr>\n",
       "    <tr>\n",
       "      <th>381</th>\n",
       "      <td>0381_1.png</td>\n",
       "      <td>9.349539e-11</td>\n",
       "      <td>0.000000</td>\n",
       "      <td>NaN</td>\n",
       "      <td>0.004080</td>\n",
       "    </tr>\n",
       "    <tr>\n",
       "      <th>311</th>\n",
       "      <td>0311_1.png</td>\n",
       "      <td>8.291930e-11</td>\n",
       "      <td>0.000000</td>\n",
       "      <td>NaN</td>\n",
       "      <td>0.004600</td>\n",
       "    </tr>\n",
       "    <tr>\n",
       "      <th>1053</th>\n",
       "      <td>1053_1.png</td>\n",
       "      <td>3.415231e-11</td>\n",
       "      <td>0.000000</td>\n",
       "      <td>NaN</td>\n",
       "      <td>0.011170</td>\n",
       "    </tr>\n",
       "    <tr>\n",
       "      <th>847</th>\n",
       "      <td>0847_1.png</td>\n",
       "      <td>2.763283e-11</td>\n",
       "      <td>0.000000</td>\n",
       "      <td>NaN</td>\n",
       "      <td>0.013805</td>\n",
       "    </tr>\n",
       "  </tbody>\n",
       "</table>\n",
       "<p>1108 rows × 5 columns</p>\n",
       "</div>"
      ],
      "text/plain": [
       "       file_name          dice       iou    pr_auc       mae\n",
       "349   0349_1.png  8.121527e-01  0.746308  0.824210  0.003039\n",
       "188   0188_1.png  8.118286e-01  0.687969  0.739593  0.035037\n",
       "104   0104_1.png  7.960624e-01  0.668023  0.725740  0.025042\n",
       "1055  1055_1.png  7.948714e-01  0.660906  0.774653  0.090621\n",
       "1074  1074_3.png  7.792582e-01  0.668896  0.751830  0.006482\n",
       "...          ...           ...       ...       ...       ...\n",
       "936   0936_1.png  9.400278e-11  0.000000       NaN  0.004058\n",
       "381   0381_1.png  9.349539e-11  0.000000       NaN  0.004080\n",
       "311   0311_1.png  8.291930e-11  0.000000       NaN  0.004600\n",
       "1053  1053_1.png  3.415231e-11  0.000000       NaN  0.011170\n",
       "847   0847_1.png  2.763283e-11  0.000000       NaN  0.013805\n",
       "\n",
       "[1108 rows x 5 columns]"
      ]
     },
     "execution_count": 17,
     "metadata": {},
     "output_type": "execute_result"
    }
   ],
   "source": [
    "result.sort_values(by='dice', ascending=False)"
   ]
  },
  {
   "cell_type": "code",
   "execution_count": null,
   "metadata": {},
   "outputs": [],
   "source": []
  },
  {
   "cell_type": "code",
   "execution_count": null,
   "metadata": {},
   "outputs": [],
   "source": []
  },
  {
   "cell_type": "code",
   "execution_count": null,
   "metadata": {},
   "outputs": [],
   "source": []
  },
  {
   "cell_type": "code",
   "execution_count": null,
   "metadata": {},
   "outputs": [],
   "source": []
  },
  {
   "cell_type": "code",
   "execution_count": null,
   "metadata": {},
   "outputs": [],
   "source": []
  },
  {
   "cell_type": "code",
   "execution_count": null,
   "metadata": {},
   "outputs": [],
   "source": []
  },
  {
   "cell_type": "code",
   "execution_count": 15,
   "metadata": {},
   "outputs": [
    {
     "name": "stdout",
     "output_type": "stream",
     "text": [
      "0.995293915271759\n",
      "0.9985926747322083\n",
      "0.9935749769210815\n",
      "0.9937208890914917\n",
      "0.9882299304008484\n",
      "0.9935783743858337\n",
      "0.9772724509239197\n",
      "0.9859464168548584\n",
      "0.9518223404884338\n",
      "0.9972830414772034\n",
      "0.8726778626441956\n",
      "0.8890414237976074\n",
      "0.8087637424468994\n",
      "0.8736286163330078\n",
      "0.7743453979492188\n",
      "0.8414303660392761\n",
      "0.7563420534133911\n",
      "0.8559579849243164\n",
      "0.735001266002655\n",
      "0.7875080108642578\n",
      "0.7183074355125427\n",
      "0.7879285216331482\n",
      "0.696287214756012\n",
      "0.7891104817390442\n",
      "0.6882360577583313\n",
      "0.7896207571029663\n",
      "0.6786393523216248\n",
      "0.807278573513031\n",
      "0.6741088628768921\n",
      "0.7820057272911072\n",
      "0.6554856300354004\n",
      "0.7887750267982483\n",
      "0.670005738735199\n",
      "0.8433430790901184\n",
      "0.6528480052947998\n",
      "0.7823204398155212\n",
      "0.672157347202301\n",
      "0.9606652855873108\n",
      "0.8642976880073547\n",
      "0.7823266983032227\n",
      "0.8496918082237244\n",
      "0.7774904370307922\n",
      "0.8480727076530457\n",
      "0.7762623429298401\n",
      "0.8473791480064392\n",
      "0.77562415599823\n",
      "0.8469815850257874\n",
      "0.7751344442367554\n",
      "0.8464522361755371\n",
      "0.7743080258369446\n",
      "0.8461472988128662\n",
      "0.7742295265197754\n",
      "0.8460660576820374\n",
      "0.7741464972496033\n",
      "0.8460257053375244\n",
      "0.7741241455078125\n",
      "0.8460079431533813\n",
      "0.7740874886512756\n",
      "0.8459977507591248\n",
      "0.7740787267684937\n",
      "0.845991313457489\n",
      "0.7740707397460938\n",
      "0.8459858298301697\n",
      "0.7740665674209595\n",
      "0.84598308801651\n",
      "0.7740630507469177\n",
      "0.8459797501564026\n",
      "0.7740592360496521\n",
      "0.8459780216217041\n",
      "0.774055004119873\n",
      "0.8459763526916504\n",
      "0.7740556001663208\n",
      "0.8459750413894653\n",
      "0.774052619934082\n",
      "0.8459743857383728\n",
      "0.7740516066551208\n",
      "0.8459734916687012\n",
      "0.7740514874458313\n",
      "0.8459729552268982\n",
      "0.7740505337715149\n",
      "0.8459725379943848\n",
      "0.7740501761436462\n",
      "0.8459721207618713\n",
      "0.7740492820739746\n",
      "0.8459715843200684\n",
      "0.7740487456321716\n",
      "0.845971405506134\n",
      "0.7740486264228821\n",
      "0.8459711670875549\n",
      "0.7740482091903687\n",
      "0.8459709286689758\n",
      "0.7740479111671448\n",
      "0.8459707498550415\n",
      "0.7740477323532104\n",
      "0.845970630645752\n",
      "0.7740474939346313\n",
      "0.8459703922271729\n",
      "0.774047315120697\n",
      "0.8459703326225281\n",
      "0.7740471959114075\n",
      "0.8459702730178833\n",
      "0.7740471363067627\n",
      "0.8459701538085938\n",
      "0.7740469574928284\n",
      "0.845970094203949\n",
      "0.7740468382835388\n",
      "0.8459700345993042\n",
      "0.774046778678894\n",
      "0.8459699749946594\n",
      "0.7740467190742493\n",
      "0.8459699749946594\n",
      "0.7740466594696045\n",
      "0.8459699153900146\n",
      "0.7740466594696045\n",
      "0.8459698557853699\n",
      "0.7740465402603149\n"
     ]
    }
   ],
   "source": [
    "import os\n",
    "\n",
    "with open('../code/history/four_mask/SMD_withoutCLAHE_lr0001_3channel_alpha01_beta025025025025.txt', 'r') as f:\n",
    "        lines = f.readlines()\n",
    "        \n",
    "        for i, line in enumerate(lines):\n",
    "            splits = line.split('/')\n",
    "            \n",
    "            epoch = int(splits[0][6:])\n",
    "            mask_loss = float(splits[2][10:])\n",
    "            recons_loss = float(splits[3][12:])\n",
    "            \n",
    "            ex_loss = float(splits[4][8:])\n",
    "            he_loss = float(splits[5][8:])\n",
    "            ma_loss = float(splits[6][8:])\n",
    "            sse_loss = float(splits[7][8:])\n",
    "            print(sse_loss)\n"
   ]
  },
  {
   "cell_type": "code",
   "execution_count": 8,
   "metadata": {},
   "outputs": [],
   "source": [
    "import tensorflow as tf\n",
    "\n",
    "def dice_loss(inputs, targets, smooth = 1.):\n",
    "        # Apply thresholding\n",
    "        threshold = 0.5\n",
    "        binary_predictions = tf.where(predictions >= threshold, 1.0, 0.0)\n",
    "        dice_losses = []\n",
    "        \n",
    "        for input, target in zip(inputs, targets): \n",
    "            input_flat = tf.reshape(input, [-1])\n",
    "            target_flat = tf.reshape(target, [-1])\n",
    "            \n",
    "            input_flat = tf.cast(input_flat, dtype=tf.float64)\n",
    "            target_flat = tf.cast(target_flat, dtype=tf.float64) \n",
    "            \n",
    "            intersection = tf.reduce_sum(input_flat * target_flat)\n",
    "            dice_coef = (2. * intersection + smooth) / (tf.reduce_sum(input_flat) + tf.reduce_sum(target_flat) + smooth)\n",
    "\n",
    "            dice_losses.append(1. - dice_coef)\n",
    "            \n",
    "        result = tf.reduce_mean(dice_losses) \n",
    "        return result"
   ]
  },
  {
   "cell_type": "code",
   "execution_count": 2,
   "metadata": {},
   "outputs": [],
   "source": [
    "import tensorflow as tf"
   ]
  },
  {
   "cell_type": "code",
   "execution_count": 3,
   "metadata": {},
   "outputs": [
    {
     "data": {
      "text/plain": [
       "<tf.Tensor: shape=(), dtype=float64, numpy=0.8999999985098839>"
      ]
     },
     "execution_count": 3,
     "metadata": {},
     "output_type": "execute_result"
    }
   ],
   "source": [
    "1- tf.cast(0.1, dtype=tf.float64)"
   ]
  },
  {
   "cell_type": "code",
   "execution_count": 17,
   "metadata": {},
   "outputs": [
    {
     "data": {
      "text/plain": [
       "'112'"
      ]
     },
     "execution_count": 17,
     "metadata": {},
     "output_type": "execute_result"
    }
   ],
   "source": [
    "if True:\n",
    "    log = f\"{1}\"\\\n",
    "          f\"1\"\\\n",
    "          f\"2\"\n",
    "log"
   ]
  },
  {
   "cell_type": "code",
   "execution_count": 6,
   "metadata": {},
   "outputs": [],
   "source": [
    "from data_generator import DR_Generator\n",
    "import os\n",
    "from models import SMD_Unet\n",
    "from trainer import Trainer\n",
    "import tensorflow as tf\n",
    "\n",
    "masks = ['HardExudate_Masks', 'Hemohedge_Masks', 'Microaneurysms_Masks', 'SoftExudate_Masks']\n",
    "mask_dir = '../data/FGADR-Seg-set_Release/Seg-set/'\n",
    "mask_paths = [os.path.join(mask_dir, mask) for mask in masks]\n",
    "\n",
    "generator_args = {\n",
    "  'dir_path':'../data/FGADR-Seg-set_Release/Seg-set/Original_Images/',\n",
    "  'mask_path':mask_paths,\n",
    "  'use_mask':True,\n",
    "  'img_size':(512, 512),  \n",
    "  'batch_size':4, # 8로 하면 바로 OOM 뜸\n",
    "  'dataset':'FGADR', # FGADR or EyePacks\n",
    "  'is_train':True\n",
    "}\n",
    "\n",
    "tr_fgadr_gen = DR_Generator(start_end_index=(0, 1290), **generator_args)\n",
    "val_fgadr_gen = DR_Generator(start_end_index=(1290, 1474), **generator_args)\n",
    "ts_fgadr_gen = DR_Generator(start_end_index=(1474, 1842), **generator_args)"
   ]
  },
  {
   "cell_type": "code",
   "execution_count": 7,
   "metadata": {},
   "outputs": [],
   "source": [
    "for input, targets in tr_fgadr_gen:\n",
    "    ex, he, ma, se = targets\n",
    "    break"
   ]
  },
  {
   "cell_type": "code",
   "execution_count": 10,
   "metadata": {},
   "outputs": [],
   "source": [
    "for input, targets_2 in val_fgadr_gen:\n",
    "    break"
   ]
  },
  {
   "cell_type": "code",
   "execution_count": 11,
   "metadata": {},
   "outputs": [
    {
     "name": "stdout",
     "output_type": "stream",
     "text": [
      "tf.Tensor(0.7490036260175095, shape=(), dtype=float64)\n",
      "tf.Tensor(0.9994936937629291, shape=(), dtype=float64)\n",
      "tf.Tensor(0.9979674272466821, shape=(), dtype=float64)\n",
      "tf.Tensor(0.4995603581657175, shape=(), dtype=float64)\n"
     ]
    }
   ],
   "source": [
    "for target, target_2 in zip(targets, targets_2):\n",
    "    print(dice_loss(target, target_2))"
   ]
  }
 ],
 "metadata": {
  "kernelspec": {
   "display_name": "Python 3 (ipykernel)",
   "language": "python",
   "name": "python3"
  },
  "language_info": {
   "codemirror_mode": {
    "name": "ipython",
    "version": 3
   },
   "file_extension": ".py",
   "mimetype": "text/x-python",
   "name": "python",
   "nbconvert_exporter": "python",
   "pygments_lexer": "ipython3",
   "version": "3.9.7"
  }
 },
 "nbformat": 4,
 "nbformat_minor": 2
}
